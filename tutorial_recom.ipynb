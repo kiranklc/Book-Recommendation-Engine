{
 "cells": [
  {
   "cell_type": "markdown",
   "metadata": {},
   "source": [
    "## Overview\n",
    "\n",
    "In this notebook, a recommendation system to recommend books to user is implemented using Apache Spark and Spark ML library's Alternating Least Square's method in Python."
   ]
  },
  {
   "cell_type": "markdown",
   "metadata": {},
   "source": [
    "Load the data files and create tables"
   ]
  },
  {
   "cell_type": "code",
   "execution_count": 3,
   "metadata": {},
   "outputs": [
    {
     "data": {
      "text/html": [
       "<style scoped>\n",
       "  .ansiout {\n",
       "    display: block;\n",
       "    unicode-bidi: embed;\n",
       "    white-space: pre-wrap;\n",
       "    word-wrap: break-word;\n",
       "    word-break: break-all;\n",
       "    font-family: \"Source Code Pro\", \"Menlo\", monospace;;\n",
       "    font-size: 13px;\n",
       "    color: #555;\n",
       "    margin-left: 4px;\n",
       "    line-height: 19px;\n",
       "  }\n",
       "</style>\n",
       "<div class=\"ansiout\">+-------+----------+-----------+\n",
       "User-ID|      ISBN|Book-Rating|\n",
       "+-------+----------+-----------+\n",
       " 276725|034545104X|          0|\n",
       " 276726|0155061224|          5|\n",
       " 276727|0446520802|          0|\n",
       " 276729|052165615X|          3|\n",
       " 276729|0521795028|          6|\n",
       " 276733|2080674722|          0|\n",
       " 276736|3257224281|          8|\n",
       " 276737|0600570967|          6|\n",
       " 276744|038550120X|          7|\n",
       " 276745| 342310538|         10|\n",
       "+-------+----------+-----------+\n",
       "only showing top 10 rows\n",
       "\n",
       "</div>"
      ]
     },
     "metadata": {},
     "output_type": "display_data"
    }
   ],
   "source": [
    "# File location and type\n",
    "file_location = \"/FileStore/tables/BX_Book_Ratings-05a61.csv\"\n",
    "file_type = \"csv\"\n",
    "\n",
    "# CSV options\n",
    "infer_schema = \"false\"\n",
    "first_row_is_header = \"true\"\n",
    "delimiter = \";\"\n",
    "load_mode = \"DROPMALFORMED\"\n",
    "\n",
    "# The applied options are for CSV files. For other file types, these will be ignored.\n",
    "df = spark.read.format(file_type) \\\n",
    "  .option(\"inferSchema\", infer_schema) \\\n",
    "  .option(\"header\", first_row_is_header) \\\n",
    "  .option(\"sep\", delimiter) \\\n",
    "  .option(\"mode\",load_mode) \\\n",
    "  .load(file_location)\n",
    "\n",
    "df.show(n=10)"
   ]
  },
  {
   "cell_type": "code",
   "execution_count": 4,
   "metadata": {},
   "outputs": [
    {
     "data": {
      "text/html": [
       "<style scoped>\n",
       "  .ansiout {\n",
       "    display: block;\n",
       "    unicode-bidi: embed;\n",
       "    white-space: pre-wrap;\n",
       "    word-wrap: break-word;\n",
       "    word-break: break-all;\n",
       "    font-family: \"Source Code Pro\", \"Menlo\", monospace;;\n",
       "    font-size: 13px;\n",
       "    color: #555;\n",
       "    margin-left: 4px;\n",
       "    line-height: 19px;\n",
       "  }\n",
       "</style>\n",
       "<div class=\"ansiout\"></div>"
      ]
     },
     "metadata": {},
     "output_type": "display_data"
    }
   ],
   "source": [
    "# Create a view or table\n",
    "\n",
    "temp_table_name = \"bx_book_ratings\"\n",
    "\n",
    "df.createOrReplaceTempView(temp_table_name)"
   ]
  },
  {
   "cell_type": "code",
   "execution_count": 5,
   "metadata": {},
   "outputs": [
    {
     "data": {
      "text/html": [
       "<style scoped>\n",
       "  .ansiout {\n",
       "    display: block;\n",
       "    unicode-bidi: embed;\n",
       "    white-space: pre-wrap;\n",
       "    word-wrap: break-word;\n",
       "    word-break: break-all;\n",
       "    font-family: \"Source Code Pro\", \"Menlo\", monospace;;\n",
       "    font-size: 13px;\n",
       "    color: #555;\n",
       "    margin-left: 4px;\n",
       "    line-height: 19px;\n",
       "  }\n",
       "</style>\n",
       "<div class=\"ansiout\">+----------+--------------------+--------------------+-------------------+--------------------+--------------------+--------------------+--------------------+\n",
       "      ISBN|          Book-Title|         Book-Author|Year-Of-Publication|           Publisher|         Image-URL-S|         Image-URL-M|         Image-URL-L|\n",
       "+----------+--------------------+--------------------+-------------------+--------------------+--------------------+--------------------+--------------------+\n",
       "0195153448| Classical Mythology|  Mark P. O. Morford|               2002|Oxford University...|http://images.ama...|http://images.ama...|http://images.ama...|\n",
       "0002005018|        Clara Callan|Richard Bruce Wright|               2001|HarperFlamingo Ca...|http://images.ama...|http://images.ama...|http://images.ama...|\n",
       "0060973129|Decision in Normandy|        Carlo D&#39;Este|               1991|     HarperPerennial|http://images.ama...|http://images.ama...|http://images.ama...|\n",
       "0374157065|Flu: The Story of...|    Gina Bari Kolata|               1999|Farrar Straus Giroux|http://images.ama...|http://images.ama...|http://images.ama...|\n",
       "0393045218|The Mummies of Ur...|     E. J. W. Barber|               1999|W. W. Norton &amp;amp...|http://images.ama...|http://images.ama...|http://images.ama...|\n",
       "0399135782|The Kitchen God&#39;s...|             Amy Tan|               1991|    Putnam Pub Group|http://images.ama...|http://images.ama...|http://images.ama...|\n",
       "0425176428|What If?: The Wor...|       Robert Cowley|               2000|Berkley Publishin...|http://images.ama...|http://images.ama...|http://images.ama...|\n",
       "0671870432|     PLEADING GUILTY|         Scott Turow|               1993|          Audioworks|http://images.ama...|http://images.ama...|http://images.ama...|\n",
       "0679425608|Under the Black F...|     David Cordingly|               1996|        Random House|http://images.ama...|http://images.ama...|http://images.ama...|\n",
       "074322678X|Where You&#39;ll Find...|         Ann Beattie|               2002|            Scribner|http://images.ama...|http://images.ama...|http://images.ama...|\n",
       "+----------+--------------------+--------------------+-------------------+--------------------+--------------------+--------------------+--------------------+\n",
       "only showing top 10 rows\n",
       "\n",
       "</div>"
      ]
     },
     "metadata": {},
     "output_type": "display_data"
    }
   ],
   "source": [
    "# File location and type\n",
    "file_location = \"/FileStore/tables/BX_Books-c72a2.csv\"\n",
    "file_type = \"csv\"\n",
    "\n",
    "# CSV options\n",
    "infer_schema = \"false\"\n",
    "first_row_is_header = \"true\"\n",
    "delimiter = \";\"\n",
    "load_mode = \"DROPMALFORMED\"\n",
    "\n",
    "# The applied options are for CSV files. For other file types, these will be ignored.\n",
    "df = spark.read.format(file_type) \\\n",
    "  .option(\"inferSchema\", infer_schema) \\\n",
    "  .option(\"header\", first_row_is_header) \\\n",
    "  .option(\"sep\", delimiter) \\\n",
    "  .option(\"mode\",load_mode) \\\n",
    "  .load(file_location)\n",
    "\n",
    "df.show(n=10)"
   ]
  },
  {
   "cell_type": "code",
   "execution_count": 6,
   "metadata": {},
   "outputs": [
    {
     "data": {
      "text/html": [
       "<style scoped>\n",
       "  .ansiout {\n",
       "    display: block;\n",
       "    unicode-bidi: embed;\n",
       "    white-space: pre-wrap;\n",
       "    word-wrap: break-word;\n",
       "    word-break: break-all;\n",
       "    font-family: \"Source Code Pro\", \"Menlo\", monospace;;\n",
       "    font-size: 13px;\n",
       "    color: #555;\n",
       "    margin-left: 4px;\n",
       "    line-height: 19px;\n",
       "  }\n",
       "</style>\n",
       "<div class=\"ansiout\"></div>"
      ]
     },
     "metadata": {},
     "output_type": "display_data"
    }
   ],
   "source": [
    "# Create a view or table\n",
    "\n",
    "temp_table_name = \"bx_books\"\n",
    "\n",
    "df.createOrReplaceTempView(temp_table_name)"
   ]
  },
  {
   "cell_type": "code",
   "execution_count": 7,
   "metadata": {},
   "outputs": [
    {
     "data": {
      "text/html": [
       "<style scoped>\n",
       "  .ansiout {\n",
       "    display: block;\n",
       "    unicode-bidi: embed;\n",
       "    white-space: pre-wrap;\n",
       "    word-wrap: break-word;\n",
       "    word-break: break-all;\n",
       "    font-family: \"Source Code Pro\", \"Menlo\", monospace;;\n",
       "    font-size: 13px;\n",
       "    color: #555;\n",
       "    margin-left: 4px;\n",
       "    line-height: 19px;\n",
       "  }\n",
       "</style>\n",
       "<div class=\"ansiout\">+-------+--------------------+----+\n",
       "User-ID|            Location| Age|\n",
       "+-------+--------------------+----+\n",
       "      1|  nyc, new york, usa|NULL|\n",
       "      2|stockton, califor...|  18|\n",
       "      3|moscow, yukon ter...|NULL|\n",
       "      4|porto, v.n.gaia, ...|  17|\n",
       "      5|farnborough, hant...|NULL|\n",
       "      6|santa monica, cal...|  61|\n",
       "      7| washington, dc, usa|NULL|\n",
       "      8|timmins, ontario,...|NULL|\n",
       "      9|germantown, tenne...|NULL|\n",
       "     10|albacete, wiscons...|  26|\n",
       "+-------+--------------------+----+\n",
       "only showing top 10 rows\n",
       "\n",
       "</div>"
      ]
     },
     "metadata": {},
     "output_type": "display_data"
    }
   ],
   "source": [
    "# File location and type\n",
    "file_location = \"/FileStore/tables/BX_Users-53089.csv\"\n",
    "file_type = \"csv\"\n",
    "\n",
    "# CSV options\n",
    "infer_schema = \"false\"\n",
    "first_row_is_header = \"true\"\n",
    "delimiter = \";\"\n",
    "load_mode = \"DROPMALFORMED\"\n",
    "\n",
    "# The applied options are for CSV files. For other file types, these will be ignored.\n",
    "df = spark.read.format(file_type) \\\n",
    "  .option(\"inferSchema\", infer_schema) \\\n",
    "  .option(\"header\", first_row_is_header) \\\n",
    "  .option(\"sep\", delimiter) \\\n",
    "  .option(\"mode\",load_mode) \\\n",
    "  .load(file_location)\n",
    "\n",
    "df.show(n=10)"
   ]
  },
  {
   "cell_type": "code",
   "execution_count": 8,
   "metadata": {},
   "outputs": [
    {
     "data": {
      "text/html": [
       "<style scoped>\n",
       "  .ansiout {\n",
       "    display: block;\n",
       "    unicode-bidi: embed;\n",
       "    white-space: pre-wrap;\n",
       "    word-wrap: break-word;\n",
       "    word-break: break-all;\n",
       "    font-family: \"Source Code Pro\", \"Menlo\", monospace;;\n",
       "    font-size: 13px;\n",
       "    color: #555;\n",
       "    margin-left: 4px;\n",
       "    line-height: 19px;\n",
       "  }\n",
       "</style>\n",
       "<div class=\"ansiout\"></div>"
      ]
     },
     "metadata": {},
     "output_type": "display_data"
    }
   ],
   "source": [
    "# Create a view or table\n",
    "\n",
    "temp_table_name = \"bx_users\"\n",
    "\n",
    "df.createOrReplaceTempView(temp_table_name)"
   ]
  },
  {
   "cell_type": "markdown",
   "metadata": {},
   "source": [
    "Get the famous books which have atleast 50 ratings and average rating greater than five. Rank the books per author and get the top book per author"
   ]
  },
  {
   "cell_type": "code",
   "execution_count": 10,
   "metadata": {},
   "outputs": [
    {
     "data": {
      "text/html": [
       "<style scoped>\n",
       "  .table-result-container {\n",
       "    max-height: 300px;\n",
       "    overflow: auto;\n",
       "  }\n",
       "  table, th, td {\n",
       "    border: 1px solid black;\n",
       "    border-collapse: collapse;\n",
       "  }\n",
       "  th, td {\n",
       "    padding: 5px;\n",
       "  }\n",
       "  th {\n",
       "    text-align: left;\n",
       "  }\n",
       "</style><div class='table-result-container'><table class='table-result'><thead style='background-color: white'><tr><th>Book-Title</th><th>ISBN</th><th>number</th><th>average</th><th>Book-Author</th><th>book_rank</th></tr></thead><tbody><tr><td>Free</td><td>1844262553</td><td>54</td><td>7.962962962962963</td><td>Paul Vincent</td><td>1</td></tr><tr><td>The Fellowship of the Ring (The Lord of the Rings, Part 1)</td><td>0618002227</td><td>63</td><td>6.2063492063492065</td><td>J. R. R. Tolkien</td><td>1</td></tr><tr><td>The Stand (The Complete and Uncut Edition)</td><td>0385199570</td><td>57</td><td>6.175438596491228</td><td>Stephen King</td><td>1</td></tr><tr><td>Griffin &amp; Sabine: An Extraordinary Correspondence</td><td>0877017883</td><td>72</td><td>6.041666666666667</td><td>Nick Bantock</td><td>1</td></tr><tr><td>The Little Prince</td><td>0156528207</td><td>79</td><td>5.7974683544303796</td><td>Antoine de Saint-Exupéry</td><td>1</td></tr><tr><td>The Cat in the Hat</td><td>039480001X</td><td>52</td><td>5.730769230769231</td><td>Dr. Seuss</td><td>1</td></tr><tr><td>Harry Potter and the Order of the Phoenix (Book 5)</td><td>043935806X</td><td>334</td><td>5.57185628742515</td><td>J. K. Rowling</td><td>1</td></tr><tr><td>The Godfather</td><td>0451167716</td><td>54</td><td>5.518518518518518</td><td>Mario Puzo</td><td>1</td></tr><tr><td>The Secret Life of Bees</td><td>0670894605</td><td>96</td><td>5.5</td><td>Sue Monk Kidd</td><td>1</td></tr><tr><td>Fear and Loathing in Las Vegas : A Savage Journey to the Heart of the American Dream</td><td>0679785892</td><td>57</td><td>5.385964912280702</td><td>HUNTER S. THOMPSON</td><td>1</td></tr><tr><td>Rich Dad, Poor Dad: What the Rich Teach Their Kids About Money--That the Poor and Middle Class Do Not!</td><td>0446677450</td><td>64</td><td>5.359375</td><td>Robert T. Kiyosaki</td><td>1</td></tr><tr><td>The Vagina Monologues: The V-Day Edition</td><td>0375756981</td><td>57</td><td>5.333333333333333</td><td>Eve Ensler</td><td>1</td></tr><tr><td>Ender's Game (Ender Wiggins Saga (Paperback))</td><td>0812550706</td><td>195</td><td>5.302564102564102</td><td>Orson Scott Card</td><td>1</td></tr><tr><td>All I Need to Know I Learned from My Cat</td><td>0894808249</td><td>63</td><td>5.238095238095238</td><td>Suzy Becker</td><td>1</td></tr><tr><td>The Darwin Awards: Evolution in Action</td><td>0452283442</td><td>59</td><td>5.203389830508475</td><td>Wendy Northcutt</td><td>1</td></tr><tr><td>The Perks of Being a Wallflower</td><td>0671027344</td><td>103</td><td>5.194174757281553</td><td>Stephen Chbosky</td><td>1</td></tr><tr><td>Jitterbug Perfume</td><td>0553348981</td><td>52</td><td>5.173076923076923</td><td>TOM ROBBINS</td><td>1</td></tr><tr><td>The Grapes of Wrath: John Steinbeck Centennial Edition (1902-2002)</td><td>0142000663</td><td>58</td><td>5.103448275862069</td><td>John Steinbeck</td><td>1</td></tr><tr><td>The Wedding</td><td>0446532452</td><td>57</td><td>5.0701754385964914</td><td>Nicholas Sparks</td><td>1</td></tr><tr><td>A Clockwork Orange (Norton Paperback Fiction)</td><td>0393312836</td><td>52</td><td>5.019230769230769</td><td>Anthony Burgess</td><td>1</td></tr><tr><td>The Hobbit: or There and Back Again</td><td>0618002219</td><td>70</td><td>5.014285714285714</td><td>J.R.R. Tolkien</td><td>1</td></tr><tr><td>The Hobbit : The Enchanting Prelude to The Lord of the Rings</td><td>0345339681</td><td>281</td><td>5.00711743772242</td><td>J.R.R. TOLKIEN</td><td>1</td></tr></tbody></table></div>"
      ]
     },
     "metadata": {},
     "output_type": "display_data"
    }
   ],
   "source": [
    "%sql\n",
    "WITH books_author AS (\n",
    "SELECT bo.`Book-Title`, bo.`ISBN`, COUNT(br.`Book-Rating`) number, AVG(br.`Book-Rating`) average, bo.`Book-Author`,\n",
    "  RANK() OVER(PARTITION BY bo.`Book-Author` ORDER BY COUNT(br.`Book-Rating`) DESC) book_rank\n",
    "FROM bx_book_ratings br INNER JOIN bx_books bo \n",
    "ON bo.ISBN = br.ISBN\n",
    "GROUP BY bo.`Book-Title`, bo.`Book-Author`, bo.`ISBN`\n",
    "HAVING COUNT(br.`Book-Rating`) > 50 AND AVG(br.`Book-Rating`) > 5\n",
    "ORDER BY number DESC\n",
    ")\n",
    "\n",
    "SELECT * FROM books_author ba WHERE ba.book_rank = 1\n",
    "ORDER BY ba.average DESC\n",
    "--LIMIT 10"
   ]
  },
  {
   "cell_type": "markdown",
   "metadata": {},
   "source": [
    "Combine all the files and create a table for easier analysis"
   ]
  },
  {
   "cell_type": "code",
   "execution_count": 12,
   "metadata": {},
   "outputs": [
    {
     "data": {
      "text/html": [
       "<style scoped>\n",
       "  .ansiout {\n",
       "    display: block;\n",
       "    unicode-bidi: embed;\n",
       "    white-space: pre-wrap;\n",
       "    word-wrap: break-word;\n",
       "    word-break: break-all;\n",
       "    font-family: \"Source Code Pro\", \"Menlo\", monospace;;\n",
       "    font-size: 13px;\n",
       "    color: #555;\n",
       "    margin-left: 4px;\n",
       "    line-height: 19px;\n",
       "  }\n",
       "</style>\n",
       "<div class=\"ansiout\">+----------+--------------------+----------------+-------------------+----------------+--------------------+--------------------+--------------------+-------+-----------+--------------------+----+\n",
       "      ISBN|          Book-Title|     Book-Author|Year-Of-Publication|       Publisher|         Image-URL-S|         Image-URL-M|         Image-URL-L|User-ID|Book-Rating|            Location| Age|\n",
       "+----------+--------------------+----------------+-------------------+----------------+--------------------+--------------------+--------------------+-------+-----------+--------------------+----+\n",
       "0553297864| Dance While You Can|Shirley MacLaine|               1992|    Bantam Books|http://images.ama...|http://images.ama...|http://images.ama...| 100010|          0|eaton rapids, mic...|NULL|\n",
       "0451192095|The Border Empire...|   Ralph Compton|               1997|     Signet Book|http://images.ama...|http://images.ama...|http://images.ama...| 100010|          0|eaton rapids, mic...|NULL|\n",
       "0451187873|  The Killing Season|   Ralph Compton|               1996|     Signet Book|http://images.ama...|http://images.ama...|http://images.ama...| 100010|          0|eaton rapids, mic...|NULL|\n",
       "0671743279|       Pandora&#39;s Box|  Elizabeth Gage|               1996|    Pocket Books|http://images.ama...|http://images.ama...|http://images.ama...| 100010|          0|eaton rapids, mic...|NULL|\n",
       "0345396936|       Cry to Heaven|       Anne Rice|               1995|Ballantine Books|http://images.ama...|http://images.ama...|http://images.ama...| 100010|          0|eaton rapids, mic...|NULL|\n",
       "+----------+--------------------+----------------+-------------------+----------------+--------------------+--------------------+--------------------+-------+-----------+--------------------+----+\n",
       "only showing top 5 rows\n",
       "\n",
       "</div>"
      ]
     },
     "metadata": {},
     "output_type": "display_data"
    }
   ],
   "source": [
    "bru_df = spark.sql(\"SELECT b.ISBN, b.`Book-Title`, b.`Book-Author`, b.`Year-Of-Publication`, b.Publisher, b.`Image-URL-S`, b.`Image-URL-M`, b.`Image-URL-L`, r.`User-ID`, r.`Book-Rating`, u.Location, u.Age FROM bx_books b LEFT JOIN bx_book_ratings r ON b.ISBN=r.ISBN LEFT JOIN bx_users u ON u.`User-ID`=r.`User-ID`\")\n",
    "bru_df.show(n=5)"
   ]
  },
  {
   "cell_type": "code",
   "execution_count": 13,
   "metadata": {},
   "outputs": [
    {
     "data": {
      "text/html": [
       "<style scoped>\n",
       "  .ansiout {\n",
       "    display: block;\n",
       "    unicode-bidi: embed;\n",
       "    white-space: pre-wrap;\n",
       "    word-wrap: break-word;\n",
       "    word-break: break-all;\n",
       "    font-family: \"Source Code Pro\", \"Menlo\", monospace;;\n",
       "    font-size: 13px;\n",
       "    color: #555;\n",
       "    margin-left: 4px;\n",
       "    line-height: 19px;\n",
       "  }\n",
       "</style>\n",
       "<div class=\"ansiout\">+-------+-----------+----------+\n",
       "User-ID|Book-Rating|      ISBN|\n",
       "+-------+-----------+----------+\n",
       "  39608|          0|0002234947|\n",
       " 219445|          0|0002234947|\n",
       " 227275|          0|0002234947|\n",
       " 271542|          0|0002243687|\n",
       " 261105|          0|0002257084|\n",
       "+-------+-----------+----------+\n",
       "only showing top 5 rows\n",
       "\n",
       "</div>"
      ]
     },
     "metadata": {},
     "output_type": "display_data"
    }
   ],
   "source": [
    "bru_df.createOrReplaceTempView(\"CombinedData\")\n",
    "data_df = spark.sql(\"SELECT `User-ID`, INT(`Book-Rating`), ISBN FROM CombinedData\")\n",
    "data_df.show(n=5)\n",
    "#data_df.printSchema()"
   ]
  },
  {
   "cell_type": "markdown",
   "metadata": {},
   "source": [
    "###Collaborative Filtering"
   ]
  },
  {
   "cell_type": "code",
   "execution_count": 15,
   "metadata": {},
   "outputs": [
    {
     "data": {
      "text/html": [
       "<style scoped>\n",
       "  .ansiout {\n",
       "    display: block;\n",
       "    unicode-bidi: embed;\n",
       "    white-space: pre-wrap;\n",
       "    word-wrap: break-word;\n",
       "    word-break: break-all;\n",
       "    font-family: \"Source Code Pro\", \"Menlo\", monospace;;\n",
       "    font-size: 13px;\n",
       "    color: #555;\n",
       "    margin-left: 4px;\n",
       "    line-height: 19px;\n",
       "  }\n",
       "</style>\n",
       "<div class=\"ansiout\"></div>"
      ]
     },
     "metadata": {},
     "output_type": "display_data"
    }
   ],
   "source": [
    "from pyspark.ml.feature import StringIndexer\n",
    "from pyspark.ml import Pipeline\n",
    "from pyspark.sql.functions import col, lit, avg"
   ]
  },
  {
   "cell_type": "markdown",
   "metadata": {},
   "source": [
    "Convert String type into integer using StringIndexer to build ALS model"
   ]
  },
  {
   "cell_type": "code",
   "execution_count": 17,
   "metadata": {},
   "outputs": [
    {
     "data": {
      "text/html": [
       "<style scoped>\n",
       "  .ansiout {\n",
       "    display: block;\n",
       "    unicode-bidi: embed;\n",
       "    white-space: pre-wrap;\n",
       "    word-wrap: break-word;\n",
       "    word-break: break-all;\n",
       "    font-family: \"Source Code Pro\", \"Menlo\", monospace;;\n",
       "    font-size: 13px;\n",
       "    color: #555;\n",
       "    margin-left: 4px;\n",
       "    line-height: 19px;\n",
       "  }\n",
       "</style>\n",
       "<div class=\"ansiout\">+-------+-----------+----------+----------+-------------+\n",
       "User-ID|Book-Rating|      ISBN|ISBN_index|User-ID_index|\n",
       "+-------+-----------+----------+----------+-------------+\n",
       " 100010|          0|0553297864|   40290.0|      10626.0|\n",
       " 100010|          0|0451192095|   62630.0|      10626.0|\n",
       " 100010|          0|0451187873|   55613.0|      10626.0|\n",
       " 100010|          0|0671743279|   15584.0|      10626.0|\n",
       " 100010|          0|0345396936|     943.0|      10626.0|\n",
       "+-------+-----------+----------+----------+-------------+\n",
       "only showing top 5 rows\n",
       "\n",
       "</div>"
      ]
     },
     "metadata": {},
     "output_type": "display_data"
    }
   ],
   "source": [
    "indexer = [StringIndexer(inputCol=column, outputCol=column+\"_index\", handleInvalid='keep') for column in list(set(data_df.columns)-set(['Book-Rating'])) ]\n",
    "pipeline = Pipeline(stages=indexer)\n",
    "transformed = pipeline.fit(data_df).transform(data_df)\n",
    "transformed.show(5)"
   ]
  },
  {
   "cell_type": "markdown",
   "metadata": {},
   "source": [
    "Drop NAs"
   ]
  },
  {
   "cell_type": "code",
   "execution_count": 19,
   "metadata": {},
   "outputs": [
    {
     "data": {
      "text/html": [
       "<style scoped>\n",
       "  .ansiout {\n",
       "    display: block;\n",
       "    unicode-bidi: embed;\n",
       "    white-space: pre-wrap;\n",
       "    word-wrap: break-word;\n",
       "    word-break: break-all;\n",
       "    font-family: \"Source Code Pro\", \"Menlo\", monospace;;\n",
       "    font-size: 13px;\n",
       "    color: #555;\n",
       "    margin-left: 4px;\n",
       "    line-height: 19px;\n",
       "  }\n",
       "</style>\n",
       "<div class=\"ansiout\">Number of rows before dropping NAs: 1032384\n",
       "Number of rows after dropping NAs: 1031175\n",
       "</div>"
      ]
     },
     "metadata": {},
     "output_type": "display_data"
    }
   ],
   "source": [
    "print(f\"Number of rows before dropping NAs: {transformed.count()}\")\n",
    "transformed = transformed.na.drop()\n",
    "print(f\"Number of rows after dropping NAs: {transformed.count()}\")"
   ]
  },
  {
   "cell_type": "code",
   "execution_count": 20,
   "metadata": {},
   "outputs": [
    {
     "data": {
      "text/html": [
       "<style scoped>\n",
       "  .ansiout {\n",
       "    display: block;\n",
       "    unicode-bidi: embed;\n",
       "    white-space: pre-wrap;\n",
       "    word-wrap: break-word;\n",
       "    word-break: break-all;\n",
       "    font-family: \"Source Code Pro\", \"Menlo\", monospace;;\n",
       "    font-size: 13px;\n",
       "    color: #555;\n",
       "    margin-left: 4px;\n",
       "    line-height: 19px;\n",
       "  }\n",
       "</style>\n",
       "<div class=\"ansiout\"></div>"
      ]
     },
     "metadata": {},
     "output_type": "display_data"
    }
   ],
   "source": [
    "transformed.createOrReplaceTempView('trans')"
   ]
  },
  {
   "cell_type": "markdown",
   "metadata": {},
   "source": [
    "Replace String ids of books and users with integer ids for easy analysis and save the csv file"
   ]
  },
  {
   "cell_type": "code",
   "execution_count": 22,
   "metadata": {},
   "outputs": [
    {
     "data": {
      "text/html": [
       "<style scoped>\n",
       "  .ansiout {\n",
       "    display: block;\n",
       "    unicode-bidi: embed;\n",
       "    white-space: pre-wrap;\n",
       "    word-wrap: break-word;\n",
       "    word-break: break-all;\n",
       "    font-family: \"Source Code Pro\", \"Menlo\", monospace;;\n",
       "    font-size: 13px;\n",
       "    color: #555;\n",
       "    margin-left: 4px;\n",
       "    line-height: 19px;\n",
       "  }\n",
       "</style>\n",
       "<div class=\"ansiout\">+--------------------+--------------------+-------------------+--------------------+--------------------+--------------------+--------------------+-----------+-------------+----------+\n",
       "          Book-Title|         Book-Author|Year-Of-Publication|           Publisher|         Image-URL-S|         Image-URL-M|         Image-URL-L|Book-Rating|User-ID_index|ISBN_index|\n",
       "+--------------------+--------------------+-------------------+--------------------+--------------------+--------------------+--------------------+-----------+-------------+----------+\n",
       "The Catcher in th...|       J.D. Salinger|               1991|       Little, Brown|http://images.ama...|http://images.ama...|http://images.ama...|          8|       9399.0|      38.0|\n",
       "The New Oxford Bo...|     Alastair Fowler|               1992|Oxford University...|http://images.ama...|http://images.ama...|http://images.ama...|          5|       6672.0|  259243.0|\n",
       "Blue Above the Ch...|Christine Marion ...|               1985|HarperCollins Pub...|http://images.ama...|http://images.ama...|http://images.ama...|         10|       1371.0|   75977.0|\n",
       "Faith Hope And Fa...|        Gina Wilkins|               2003|          Silhouette|http://images.ama...|http://images.ama...|http://images.ama...|          0|       1371.0|   13559.0|\n",
       "Winter Baby (Four...|    Kathleen O&#39;Brien|               2001|           Harlequin|http://images.ama...|http://images.ama...|http://images.ama...|          0|       1371.0|   22257.0|\n",
       "+--------------------+--------------------+-------------------+--------------------+--------------------+--------------------+--------------------+-----------+-------------+----------+\n",
       "only showing top 5 rows\n",
       "\n",
       "</div>"
      ]
     },
     "metadata": {},
     "output_type": "display_data"
    }
   ],
   "source": [
    "data_write = spark.sql(\"SELECT br.`Book-Title`, br.`Book-Author`, br.`Year-Of-Publication`, br.Publisher, br.`Image-URL-S`, br.`Image-URL-M`, br.`Image-URL-L`,  br.`Book-Rating`, tr.`User-ID_index`, tr.`ISBN_index` FROM CombinedData br, trans tr WHERE br.`User-ID`= tr.`User-ID` AND br.ISBN = tr.ISBN\")\n",
    "data_write.show(5)"
   ]
  },
  {
   "cell_type": "code",
   "execution_count": 23,
   "metadata": {},
   "outputs": [
    {
     "data": {
      "text/html": [
       "<style scoped>\n",
       "  .ansiout {\n",
       "    display: block;\n",
       "    unicode-bidi: embed;\n",
       "    white-space: pre-wrap;\n",
       "    word-wrap: break-word;\n",
       "    word-break: break-all;\n",
       "    font-family: \"Source Code Pro\", \"Menlo\", monospace;;\n",
       "    font-size: 13px;\n",
       "    color: #555;\n",
       "    margin-left: 4px;\n",
       "    line-height: 19px;\n",
       "  }\n",
       "</style>\n",
       "<div class=\"ansiout\"></div>"
      ]
     },
     "metadata": {},
     "output_type": "display_data"
    }
   ],
   "source": [
    "data_write.coalesce(1).write.format(\"com.databricks.spark.csv\").option(\"header\", \"true\").option(\"sep\",\";\").save(\"dbfs:/FileStore/df/data\")"
   ]
  },
  {
   "cell_type": "code",
   "execution_count": 24,
   "metadata": {},
   "outputs": [
    {
     "data": {
      "text/html": [
       "<style scoped>\n",
       "  .ansiout {\n",
       "    display: block;\n",
       "    unicode-bidi: embed;\n",
       "    white-space: pre-wrap;\n",
       "    word-wrap: break-word;\n",
       "    word-break: break-all;\n",
       "    font-family: \"Source Code Pro\", \"Menlo\", monospace;;\n",
       "    font-size: 13px;\n",
       "    color: #555;\n",
       "    margin-left: 4px;\n",
       "    line-height: 19px;\n",
       "  }\n",
       "</style>\n",
       "<div class=\"ansiout\"></div>"
      ]
     },
     "metadata": {},
     "output_type": "display_data"
    }
   ],
   "source": [
    "data_write.createOrReplaceTempView('new_data')"
   ]
  },
  {
   "cell_type": "markdown",
   "metadata": {},
   "source": [
    "Check the top books with atleast 50 ratings and average rating greater than 5"
   ]
  },
  {
   "cell_type": "code",
   "execution_count": 26,
   "metadata": {},
   "outputs": [
    {
     "data": {
      "text/html": [
       "<style scoped>\n",
       "  .table-result-container {\n",
       "    max-height: 300px;\n",
       "    overflow: auto;\n",
       "  }\n",
       "  table, th, td {\n",
       "    border: 1px solid black;\n",
       "    border-collapse: collapse;\n",
       "  }\n",
       "  th, td {\n",
       "    padding: 5px;\n",
       "  }\n",
       "  th {\n",
       "    text-align: left;\n",
       "  }\n",
       "</style><div class='table-result-container'><table class='table-result'><thead style='background-color: white'><tr><th>Book-Title</th><th>ISBN_index</th><th>number</th><th>average</th><th>Book-Author</th><th>book_rank</th></tr></thead><tbody><tr><td>Free</td><td>1939.0</td><td>54</td><td>7.962962962962963</td><td>Paul Vincent</td><td>1</td></tr><tr><td>The Fellowship of the Ring (The Lord of the Rings, Part 1)</td><td>1526.0</td><td>63</td><td>6.2063492063492065</td><td>J. R. R. Tolkien</td><td>1</td></tr><tr><td>The Stand (The Complete and Uncut Edition)</td><td>1772.0</td><td>57</td><td>6.175438596491228</td><td>Stephen King</td><td>1</td></tr><tr><td>Griffin &amp; Sabine: An Extraordinary Correspondence</td><td>1225.0</td><td>72</td><td>6.041666666666667</td><td>Nick Bantock</td><td>1</td></tr><tr><td>The Little Prince</td><td>1060.0</td><td>79</td><td>5.7974683544303796</td><td>Antoine de Saint-Exupéry</td><td>1</td></tr><tr><td>The Cat in the Hat</td><td>1993.0</td><td>52</td><td>5.730769230769231</td><td>Dr. Seuss</td><td>1</td></tr><tr><td>Harry Potter and the Order of the Phoenix (Book 5)</td><td>67.0</td><td>334</td><td>5.57185628742515</td><td>J. K. Rowling</td><td>1</td></tr><tr><td>The Godfather</td><td>1895.0</td><td>54</td><td>5.518518518518518</td><td>Mario Puzo</td><td>1</td></tr><tr><td>The Secret Life of Bees</td><td>767.0</td><td>96</td><td>5.5</td><td>Sue Monk Kidd</td><td>1</td></tr><tr><td>Fear and Loathing in Las Vegas : A Savage Journey to the Heart of the American Dream</td><td>1749.0</td><td>57</td><td>5.385964912280702</td><td>HUNTER S. THOMPSON</td><td>1</td></tr><tr><td>Rich Dad, Poor Dad: What the Rich Teach Their Kids About Money--That the Poor and Middle Class Do Not!</td><td>1476.0</td><td>64</td><td>5.359375</td><td>Robert T. Kiyosaki</td><td>1</td></tr><tr><td>The Vagina Monologues: The V-Day Edition</td><td>1771.0</td><td>57</td><td>5.333333333333333</td><td>Eve Ensler</td><td>1</td></tr><tr><td>Ender's Game (Ender Wiggins Saga (Paperback))</td><td>204.0</td><td>195</td><td>5.302564102564102</td><td>Orson Scott Card</td><td>1</td></tr><tr><td>All I Need to Know I Learned from My Cat</td><td>1513.0</td><td>63</td><td>5.238095238095238</td><td>Suzy Becker</td><td>1</td></tr><tr><td>The Darwin Awards: Evolution in Action</td><td>1682.0</td><td>59</td><td>5.203389830508475</td><td>Wendy Northcutt</td><td>1</td></tr><tr><td>The Perks of Being a Wallflower</td><td>685.0</td><td>103</td><td>5.194174757281553</td><td>Stephen Chbosky</td><td>1</td></tr><tr><td>Jitterbug Perfume</td><td>1996.0</td><td>52</td><td>5.173076923076923</td><td>TOM ROBBINS</td><td>1</td></tr><tr><td>The Grapes of Wrath: John Steinbeck Centennial Edition (1902-2002)</td><td>1745.0</td><td>58</td><td>5.103448275862069</td><td>John Steinbeck</td><td>1</td></tr><tr><td>The Wedding</td><td>1794.0</td><td>57</td><td>5.0701754385964914</td><td>Nicholas Sparks</td><td>1</td></tr><tr><td>A Clockwork Orange (Norton Paperback Fiction)</td><td>1997.0</td><td>52</td><td>5.019230769230769</td><td>Anthony Burgess</td><td>1</td></tr><tr><td>The Hobbit: or There and Back Again</td><td>1281.0</td><td>70</td><td>5.014285714285714</td><td>J.R.R. Tolkien</td><td>1</td></tr><tr><td>The Hobbit : The Enchanting Prelude to The Lord of the Rings</td><td>93.0</td><td>281</td><td>5.00711743772242</td><td>J.R.R. TOLKIEN</td><td>1</td></tr></tbody></table></div>"
      ]
     },
     "metadata": {},
     "output_type": "display_data"
    }
   ],
   "source": [
    "%sql\n",
    "WITH books_author AS (\n",
    "SELECT nd.`Book-Title`, nd.`ISBN_index`, COUNT(nd.`Book-Rating`) number, AVG(nd.`Book-Rating`) average, nd.`Book-Author`,\n",
    "  RANK() OVER(PARTITION BY nd.`Book-Author` ORDER BY COUNT(nd.`Book-Rating`) DESC) book_rank\n",
    "FROM new_data nd \n",
    "GROUP BY nd.`Book-Title`, nd.`Book-Author`, nd.`ISBN_index`\n",
    "HAVING COUNT(nd.`Book-Rating`) > 50 AND AVG(nd.`Book-Rating`) > 5\n",
    "ORDER BY number DESC\n",
    ")\n",
    "\n",
    "SELECT * FROM books_author ba WHERE ba.book_rank = 1\n",
    "ORDER BY ba.average DESC"
   ]
  },
  {
   "cell_type": "markdown",
   "metadata": {},
   "source": [
    "Split into training and testing data"
   ]
  },
  {
   "cell_type": "code",
   "execution_count": 28,
   "metadata": {},
   "outputs": [
    {
     "data": {
      "text/html": [
       "<style scoped>\n",
       "  .ansiout {\n",
       "    display: block;\n",
       "    unicode-bidi: embed;\n",
       "    white-space: pre-wrap;\n",
       "    word-wrap: break-word;\n",
       "    word-break: break-all;\n",
       "    font-family: \"Source Code Pro\", \"Menlo\", monospace;;\n",
       "    font-size: 13px;\n",
       "    color: #555;\n",
       "    margin-left: 4px;\n",
       "    line-height: 19px;\n",
       "  }\n",
       "</style>\n",
       "<div class=\"ansiout\"></div>"
      ]
     },
     "metadata": {},
     "output_type": "display_data"
    }
   ],
   "source": [
    "(training, test, valid) = transformed.randomSplit([0.6,0.2,0.2], seed=42)"
   ]
  },
  {
   "cell_type": "code",
   "execution_count": 29,
   "metadata": {},
   "outputs": [
    {
     "data": {
      "text/html": [
       "<style scoped>\n",
       "  .ansiout {\n",
       "    display: block;\n",
       "    unicode-bidi: embed;\n",
       "    white-space: pre-wrap;\n",
       "    word-wrap: break-word;\n",
       "    word-break: break-all;\n",
       "    font-family: \"Source Code Pro\", \"Menlo\", monospace;;\n",
       "    font-size: 13px;\n",
       "    color: #555;\n",
       "    margin-left: 4px;\n",
       "    line-height: 19px;\n",
       "  }\n",
       "</style>\n",
       "<div class=\"ansiout\">618554\n",
       "206282\n",
       "206339\n",
       "</div>"
      ]
     },
     "metadata": {},
     "output_type": "display_data"
    }
   ],
   "source": [
    "print(training.count())\n",
    "print(valid.count())\n",
    "print(test.count())"
   ]
  },
  {
   "cell_type": "code",
   "execution_count": 30,
   "metadata": {},
   "outputs": [
    {
     "data": {
      "text/html": [
       "<style scoped>\n",
       "  .ansiout {\n",
       "    display: block;\n",
       "    unicode-bidi: embed;\n",
       "    white-space: pre-wrap;\n",
       "    word-wrap: break-word;\n",
       "    word-break: break-all;\n",
       "    font-family: \"Source Code Pro\", \"Menlo\", monospace;;\n",
       "    font-size: 13px;\n",
       "    color: #555;\n",
       "    margin-left: 4px;\n",
       "    line-height: 19px;\n",
       "  }\n",
       "</style>\n",
       "<div class=\"ansiout\"></div>"
      ]
     },
     "metadata": {},
     "output_type": "display_data"
    }
   ],
   "source": [
    "train_df = training.cache()\n",
    "test_df = test.cache()\n",
    "valid_df = valid.cache()"
   ]
  },
  {
   "cell_type": "code",
   "execution_count": 31,
   "metadata": {},
   "outputs": [
    {
     "data": {
      "text/html": [
       "<style scoped>\n",
       "  .ansiout {\n",
       "    display: block;\n",
       "    unicode-bidi: embed;\n",
       "    white-space: pre-wrap;\n",
       "    word-wrap: break-word;\n",
       "    word-break: break-all;\n",
       "    font-family: \"Source Code Pro\", \"Menlo\", monospace;;\n",
       "    font-size: 13px;\n",
       "    color: #555;\n",
       "    margin-left: 4px;\n",
       "    line-height: 19px;\n",
       "  }\n",
       "</style>\n",
       "<div class=\"ansiout\"></div>"
      ]
     },
     "metadata": {},
     "output_type": "display_data"
    }
   ],
   "source": [
    "from pyspark.ml.recommendation import ALS\n",
    "from pyspark.ml.evaluation import RegressionEvaluator"
   ]
  },
  {
   "cell_type": "code",
   "execution_count": 32,
   "metadata": {},
   "outputs": [
    {
     "data": {
      "text/html": [
       "<style scoped>\n",
       "  .ansiout {\n",
       "    display: block;\n",
       "    unicode-bidi: embed;\n",
       "    white-space: pre-wrap;\n",
       "    word-wrap: break-word;\n",
       "    word-break: break-all;\n",
       "    font-family: \"Source Code Pro\", \"Menlo\", monospace;;\n",
       "    font-size: 13px;\n",
       "    color: #555;\n",
       "    margin-left: 4px;\n",
       "    line-height: 19px;\n",
       "  }\n",
       "</style>\n",
       "<div class=\"ansiout\">For rank: 2 and reg_param: 0.1, error is 4.162329639428509\n",
       "For rank: 6 and reg_param: 0.1, error is 4.115179671447847\n",
       "For rank: 12 and reg_param: 0.1, error is 4.024934046136616\n",
       "For rank: 2 and reg_param: 0.5, error is 3.8128222709139057\n",
       "For rank: 6 and reg_param: 0.5, error is 3.80210194544114\n",
       "For rank: 12 and reg_param: 0.5, error is 3.7758991405416147\n",
       "For rank: 2 and reg_param: 1, error is 3.751137559717047\n",
       "For rank: 6 and reg_param: 1, error is 3.7514755257672556\n",
       "For rank: 12 and reg_param: 1, error is 3.7500126596643018\n",
       "Best rank: 12, Best reg: 1, Best model index: 8\n",
       "</div>"
      ]
     },
     "metadata": {},
     "output_type": "display_data"
    }
   ],
   "source": [
    "als = ALS()\n",
    "\n",
    "seed = 42\n",
    "ranks = [2, 6, 12]\n",
    "reg_params = [0.1, 0.5, 1]\n",
    "errors = [0, 0, 0, 0, 0, 0, 0, 0, 0]\n",
    "models = [0, 0, 0, 0, 0, 0, 0, 0, 0]\n",
    "err = 0\n",
    "min_error = float('inf')\n",
    "best_rank = -1\n",
    "best_reg = -1\n",
    "best_ind = -1\n",
    "\n",
    "als.setMaxIter(5) \\\n",
    "   .setUserCol(\"User-ID_index\") \\\n",
    "   .setItemCol(\"ISBN_index\") \\\n",
    "   .setRatingCol(\"Book-Rating\") \\\n",
    "   .setColdStartStrategy(\"drop\") \\\n",
    "   .setNonnegative(True) \\\n",
    "   .setImplicitPrefs(False) \\\n",
    "   .setSeed(seed) \n",
    "\n",
    "reg_eval = RegressionEvaluator(predictionCol=\"prediction\", labelCol=\"Book-Rating\", metricName=\"rmse\")\n",
    "\n",
    "for reg_param in reg_params:\n",
    "  for rank in ranks:\n",
    "    als.setRegParam(reg_param) \\\n",
    "       .setRank(rank)\n",
    "    \n",
    "    model = als.fit(train_df)\n",
    "    predict_df = model.transform(valid_df)\n",
    "    error = reg_eval.evaluate(predict_df)\n",
    "    errors[err] = error\n",
    "    models[err] = model\n",
    "    print(f'For rank: {rank} and reg_param: {reg_param}, error is {error}')\n",
    "    if error < min_error:\n",
    "      min_error = error\n",
    "      best_rank = rank\n",
    "      best_reg = reg_param\n",
    "      best_ind = err\n",
    "    err += 1\n",
    "    \n",
    "als.setRank(best_rank) \\\n",
    "   .setRegParam(best_reg)\n",
    "print(f'Best rank: {best_rank}, Best reg: {best_reg}, Best model index: {best_ind}')\n",
    "\n",
    "best_model = models[best_ind]"
   ]
  },
  {
   "cell_type": "code",
   "execution_count": 33,
   "metadata": {},
   "outputs": [
    {
     "data": {
      "text/html": [
       "<style scoped>\n",
       "  .ansiout {\n",
       "    display: block;\n",
       "    unicode-bidi: embed;\n",
       "    white-space: pre-wrap;\n",
       "    word-wrap: break-word;\n",
       "    word-break: break-all;\n",
       "    font-family: \"Source Code Pro\", \"Menlo\", monospace;;\n",
       "    font-size: 13px;\n",
       "    color: #555;\n",
       "    margin-left: 4px;\n",
       "    line-height: 19px;\n",
       "  }\n",
       "</style>\n",
       "<div class=\"ansiout\">+-------+-----------+----------+----------+-------------+----------+\n",
       "User-ID|Book-Rating|      ISBN|ISBN_index|User-ID_index|prediction|\n",
       "+-------+-----------+----------+----------+-------------+----------+\n",
       " 170513|          0|0060987529|     148.0|        463.0| 2.6663551|\n",
       " 103304|          0|0060987529|     148.0|       1160.0|0.67601186|\n",
       "  20172|          9|0060987529|     148.0|       1869.0| 4.6102366|\n",
       " 150896|          7|0060987529|     148.0|       1276.0| 2.7927766|\n",
       " 165308|          9|0060987529|     148.0|        336.0| 2.1652298|\n",
       " 274466|          8|0060987529|     148.0|       2723.0| 2.6014237|\n",
       " 177363|          9|0060987529|     148.0|      16695.0| 4.0745873|\n",
       " 171445|          5|0060987529|     148.0|       2339.0|  3.214166|\n",
       "  27947|          0|0060987529|     148.0|       1770.0| 1.2946405|\n",
       " 265083|          0|0060987529|     148.0|       1113.0|  1.607779|\n",
       "+-------+-----------+----------+----------+-------------+----------+\n",
       "only showing top 10 rows\n",
       "\n",
       "</div>"
      ]
     },
     "metadata": {},
     "output_type": "display_data"
    }
   ],
   "source": [
    "predictions = best_model.transform(test_df)\n",
    "predictions.show(10)"
   ]
  },
  {
   "cell_type": "code",
   "execution_count": 34,
   "metadata": {},
   "outputs": [
    {
     "data": {
      "text/html": [
       "<style scoped>\n",
       "  .ansiout {\n",
       "    display: block;\n",
       "    unicode-bidi: embed;\n",
       "    white-space: pre-wrap;\n",
       "    word-wrap: break-word;\n",
       "    word-break: break-all;\n",
       "    font-family: \"Source Code Pro\", \"Menlo\", monospace;;\n",
       "    font-size: 13px;\n",
       "    color: #555;\n",
       "    margin-left: 4px;\n",
       "    line-height: 19px;\n",
       "  }\n",
       "</style>\n",
       "<div class=\"ansiout\">Test Root-mean-square error = 3.7502923712756435\n",
       "</div>"
      ]
     },
     "metadata": {},
     "output_type": "display_data"
    }
   ],
   "source": [
    "evaluator = RegressionEvaluator(metricName=\"rmse\", labelCol=\"Book-Rating\",predictionCol=\"prediction\")\n",
    "rmse = evaluator.evaluate(predictions)\n",
    "print(\"Test Root-mean-square error = \" + str(rmse))"
   ]
  },
  {
   "cell_type": "code",
   "execution_count": 35,
   "metadata": {},
   "outputs": [
    {
     "data": {
      "text/html": [
       "<style scoped>\n",
       "  .ansiout {\n",
       "    display: block;\n",
       "    unicode-bidi: embed;\n",
       "    white-space: pre-wrap;\n",
       "    word-wrap: break-word;\n",
       "    word-break: break-all;\n",
       "    font-family: \"Source Code Pro\", \"Menlo\", monospace;;\n",
       "    font-size: 13px;\n",
       "    color: #555;\n",
       "    margin-left: 4px;\n",
       "    line-height: 19px;\n",
       "  }\n",
       "</style>\n",
       "<div class=\"ansiout\">The average rating for movies in the training set is 2.8389615134652755\n",
       "+-------+-----------+----------+----------+-------------+------------------+\n",
       "User-ID|Book-Rating|      ISBN|ISBN_index|User-ID_index|        prediction|\n",
       "+-------+-----------+----------+----------+-------------+------------------+\n",
       " 100010|          0|0345396936|     943.0|      10626.0|2.8389615134652755|\n",
       " 100010|          0|0671009826|   27882.0|      10626.0|2.8389615134652755|\n",
       " 100227|          0|0330375253|     736.0|       3533.0|2.8389615134652755|\n",
       " 100227|          0|0446690155|    7547.0|       3533.0|2.8389615134652755|\n",
       " 100227|          0|0671041649|   13939.0|       3533.0|2.8389615134652755|\n",
       "+-------+-----------+----------+----------+-------------+------------------+\n",
       "only showing top 5 rows\n",
       "\n",
       "Test RMSE on average set is 3.8582417268469564\n",
       "</div>"
      ]
     },
     "metadata": {},
     "output_type": "display_data"
    }
   ],
   "source": [
    "avg_rating_df = train_df.agg(avg(col(\"Book-Rating\")))\n",
    "\n",
    "# Extract the average rating value. (This is row 0, column 0.)\n",
    "training_avg_rating = avg_rating_df.collect()[0][0]\n",
    "\n",
    "print(f'The average rating for movies in the training set is {training_avg_rating}')\n",
    "\n",
    "# Add a column with the average rating\n",
    "test_for_avg_df = test_df.withColumn('prediction', lit(training_avg_rating))\n",
    "test_for_avg_df.show(5)\n",
    "\n",
    "# Run the previously created RMSE evaluator, reg_eval, on the test_for_avg_df DataFrame\n",
    "test_avg_RMSE = evaluator.evaluate(test_for_avg_df)\n",
    "\n",
    "print(f\"Test RMSE on average set is {test_avg_RMSE}\")\n"
   ]
  },
  {
   "cell_type": "markdown",
   "metadata": {},
   "source": [
    "Top Ten recommendations for all users"
   ]
  },
  {
   "cell_type": "code",
   "execution_count": 37,
   "metadata": {},
   "outputs": [
    {
     "data": {
      "text/html": [
       "<style scoped>\n",
       "  .ansiout {\n",
       "    display: block;\n",
       "    unicode-bidi: embed;\n",
       "    white-space: pre-wrap;\n",
       "    word-wrap: break-word;\n",
       "    word-break: break-all;\n",
       "    font-family: \"Source Code Pro\", \"Menlo\", monospace;;\n",
       "    font-size: 13px;\n",
       "    color: #555;\n",
       "    margin-left: 4px;\n",
       "    line-height: 19px;\n",
       "  }\n",
       "</style>\n",
       "<div class=\"ansiout\">+-------------+--------------------+\n",
       "User-ID_index|     recommendations|\n",
       "+-------------+--------------------+\n",
       "          148|[[215075, 9.62962...|\n",
       "          463|[[104880, 6.88004...|\n",
       "          471|[[202621, 7.75053...|\n",
       "          496|[[192024, 3.88377...|\n",
       "          833|[[100960, 3.79618...|\n",
       "         1088|[[177923, 4.45953...|\n",
       "         1238|[[41020, 0.0], [4...|\n",
       "         1342|[[173850, 8.89450...|\n",
       "         1580|[[203277, 8.54194...|\n",
       "         1591|[[123619, 15.0286...|\n",
       "+-------------+--------------------+\n",
       "only showing top 10 rows\n",
       "\n",
       "</div>"
      ]
     },
     "metadata": {},
     "output_type": "display_data"
    }
   ],
   "source": [
    "user_recs = model.recommendForAllUsers(10)\n",
    "user_recs.show(10)"
   ]
  },
  {
   "cell_type": "markdown",
   "metadata": {},
   "source": [
    "Predict recommendations for new user"
   ]
  },
  {
   "cell_type": "code",
   "execution_count": 39,
   "metadata": {},
   "outputs": [
    {
     "data": {
      "text/html": [
       "<style scoped>\n",
       "  .ansiout {\n",
       "    display: block;\n",
       "    unicode-bidi: embed;\n",
       "    white-space: pre-wrap;\n",
       "    word-wrap: break-word;\n",
       "    word-break: break-all;\n",
       "    font-family: \"Source Code Pro\", \"Menlo\", monospace;;\n",
       "    font-size: 13px;\n",
       "    color: #555;\n",
       "    margin-left: 4px;\n",
       "    line-height: 19px;\n",
       "  }\n",
       "</style>\n",
       "<div class=\"ansiout\">+-------------+----------+-----------+\n",
       "User-ID_index|ISBN_index|Book-Rating|\n",
       "+-------------+----------+-----------+\n",
       "            0|      1939|          6|\n",
       "            0|      1526|          7|\n",
       "            0|      1772|          3|\n",
       "            0|        67|          8|\n",
       "            0|      1895|          6|\n",
       "            0|       767|          4|\n",
       "+-------------+----------+-----------+\n",
       "\n",
       "</div>"
      ]
     },
     "metadata": {},
     "output_type": "display_data"
    }
   ],
   "source": [
    "new_user_id = 0\n",
    "new_user_ratings = [(0, 1939, 6), (0, 1526, 7), (0, 1772, 3), (0, 67, 8), (0, 1895, 6), (0, 767, 4)]\n",
    "df = spark.createDataFrame(new_user_ratings, ['User-ID_index', 'ISBN_index','Book-Rating'])\n",
    "df.show()                        "
   ]
  },
  {
   "cell_type": "code",
   "execution_count": 40,
   "metadata": {},
   "outputs": [
    {
     "data": {
      "text/html": [
       "<style scoped>\n",
       "  .ansiout {\n",
       "    display: block;\n",
       "    unicode-bidi: embed;\n",
       "    white-space: pre-wrap;\n",
       "    word-wrap: break-word;\n",
       "    word-break: break-all;\n",
       "    font-family: \"Source Code Pro\", \"Menlo\", monospace;;\n",
       "    font-size: 13px;\n",
       "    color: #555;\n",
       "    margin-left: 4px;\n",
       "    line-height: 19px;\n",
       "  }\n",
       "</style>\n",
       "<div class=\"ansiout\">618560\n",
       "</div>"
      ]
     },
     "metadata": {},
     "output_type": "display_data"
    }
   ],
   "source": [
    "train_new_df = train_df.select([\"User-ID_index\",\"ISBN_index\",\"Book-Rating\"]).unionAll(df)\n",
    "print(train_new_df.count())"
   ]
  },
  {
   "cell_type": "code",
   "execution_count": 41,
   "metadata": {},
   "outputs": [
    {
     "data": {
      "text/html": [
       "<style scoped>\n",
       "  .ansiout {\n",
       "    display: block;\n",
       "    unicode-bidi: embed;\n",
       "    white-space: pre-wrap;\n",
       "    word-wrap: break-word;\n",
       "    word-break: break-all;\n",
       "    font-family: \"Source Code Pro\", \"Menlo\", monospace;;\n",
       "    font-size: 13px;\n",
       "    color: #555;\n",
       "    margin-left: 4px;\n",
       "    line-height: 19px;\n",
       "  }\n",
       "</style>\n",
       "<div class=\"ansiout\"></div>"
      ]
     },
     "metadata": {},
     "output_type": "display_data"
    }
   ],
   "source": [
    "als.setMaxIter(5) \\\n",
    "   .setPredictionCol(\"prediction\") \\\n",
    "   .setUserCol(\"User-ID_index\") \\\n",
    "   .setItemCol(\"ISBN_index\") \\\n",
    "   .setRatingCol(\"Book-Rating\") \\\n",
    "   .setColdStartStrategy(\"drop\") \\\n",
    "   .setNonnegative(True) \\\n",
    "   .setImplicitPrefs(False) \\\n",
    "   .setSeed(seed) \\\n",
    "   .setRank(best_rank) \\\n",
    "   .setRegParam(best_reg) \n",
    "    \n",
    "new_model = als.fit(train_new_df)"
   ]
  },
  {
   "cell_type": "code",
   "execution_count": 42,
   "metadata": {},
   "outputs": [
    {
     "data": {
      "text/html": [
       "<style scoped>\n",
       "  .ansiout {\n",
       "    display: block;\n",
       "    unicode-bidi: embed;\n",
       "    white-space: pre-wrap;\n",
       "    word-wrap: break-word;\n",
       "    word-break: break-all;\n",
       "    font-family: \"Source Code Pro\", \"Menlo\", monospace;;\n",
       "    font-size: 13px;\n",
       "    color: #555;\n",
       "    margin-left: 4px;\n",
       "    line-height: 19px;\n",
       "  }\n",
       "</style>\n",
       "<div class=\"ansiout\">Test RMSE with new user ratings: 3.750276841441841\n",
       "</div>"
      ]
     },
     "metadata": {},
     "output_type": "display_data"
    }
   ],
   "source": [
    "new_preds = new_model.transform(test_df)\n",
    "test_rmse_new = evaluator.evaluate(new_preds)\n",
    "print(f'Test RMSE with new user ratings: {test_rmse_new}')"
   ]
  },
  {
   "cell_type": "code",
   "execution_count": 43,
   "metadata": {},
   "outputs": [
    {
     "data": {
      "text/html": [
       "<style scoped>\n",
       "  .ansiout {\n",
       "    display: block;\n",
       "    unicode-bidi: embed;\n",
       "    white-space: pre-wrap;\n",
       "    word-wrap: break-word;\n",
       "    word-break: break-all;\n",
       "    font-family: \"Source Code Pro\", \"Menlo\", monospace;;\n",
       "    font-size: 13px;\n",
       "    color: #555;\n",
       "    margin-left: 4px;\n",
       "    line-height: 19px;\n",
       "  }\n",
       "</style>\n",
       "<div class=\"ansiout\">+-------------+----------+\n",
       "User-ID_index|ISBN_index|\n",
       "+-------------+----------+\n",
       "            0|    6653.0|\n",
       "            0|  114825.0|\n",
       "            0|   20974.0|\n",
       "            0|   11772.0|\n",
       "            0|     769.0|\n",
       "            0|   24594.0|\n",
       "            0|   83744.0|\n",
       "            0|  121764.0|\n",
       "            0|    9753.0|\n",
       "            0|  104617.0|\n",
       "+-------------+----------+\n",
       "only showing top 10 rows\n",
       "\n",
       "</div>"
      ]
     },
     "metadata": {},
     "output_type": "display_data"
    }
   ],
   "source": [
    "new_user_ratings_ids = [x[1] for x in new_user_ratings] \n",
    "new_user_unrated_df = transformed.filter(~col('ISBN_index').isin(new_user_ratings_ids)).select(['User-ID_index','ISBN_index']).dropDuplicates(['ISBN_index'])\n",
    "new_df = new_user_unrated_df.withColumn('User-ID_index', lit(new_user_id))\n",
    "new_df.show(10)"
   ]
  },
  {
   "cell_type": "code",
   "execution_count": 44,
   "metadata": {},
   "outputs": [
    {
     "data": {
      "text/html": [
       "<style scoped>\n",
       "  .ansiout {\n",
       "    display: block;\n",
       "    unicode-bidi: embed;\n",
       "    white-space: pre-wrap;\n",
       "    word-wrap: break-word;\n",
       "    word-break: break-all;\n",
       "    font-family: \"Source Code Pro\", \"Menlo\", monospace;;\n",
       "    font-size: 13px;\n",
       "    color: #555;\n",
       "    margin-left: 4px;\n",
       "    line-height: 19px;\n",
       "  }\n",
       "</style>\n",
       "<div class=\"ansiout\"></div>"
      ]
     },
     "metadata": {},
     "output_type": "display_data"
    }
   ],
   "source": [
    "spark.conf.set( \"spark.sql.crossJoin.enabled\" , \"true\" )"
   ]
  },
  {
   "cell_type": "code",
   "execution_count": 45,
   "metadata": {},
   "outputs": [
    {
     "data": {
      "text/html": [
       "<style scoped>\n",
       "  .ansiout {\n",
       "    display: block;\n",
       "    unicode-bidi: embed;\n",
       "    white-space: pre-wrap;\n",
       "    word-wrap: break-word;\n",
       "    word-break: break-all;\n",
       "    font-family: \"Source Code Pro\", \"Menlo\", monospace;;\n",
       "    font-size: 13px;\n",
       "    color: #555;\n",
       "    margin-left: 4px;\n",
       "    line-height: 19px;\n",
       "  }\n",
       "</style>\n",
       "<div class=\"ansiout\">+-------------+----------+----------+\n",
       "User-ID_index|ISBN_index|prediction|\n",
       "+-------------+----------+----------+\n",
       "            0|  119412.0| 10.991946|\n",
       "            0|  127583.0| 10.991946|\n",
       "            0|   55107.0| 10.991946|\n",
       "            0|   47029.0| 10.991946|\n",
       "            0|  189831.0| 10.991946|\n",
       "            0|  206706.0| 10.991946|\n",
       "            0|  123619.0| 10.927781|\n",
       "            0|  122664.0| 10.588649|\n",
       "            0|  195346.0| 10.588649|\n",
       "            0|  160139.0|  10.58313|\n",
       "+-------------+----------+----------+\n",
       "only showing top 10 rows\n",
       "\n",
       "</div>"
      ]
     },
     "metadata": {},
     "output_type": "display_data"
    }
   ],
   "source": [
    "new_user_preds = new_model.transform(new_df)\n",
    "new_user_preds.orderBy('prediction',ascending=False).show(10)"
   ]
  },
  {
   "cell_type": "code",
   "execution_count": 46,
   "metadata": {},
   "outputs": [
    {
     "data": {
      "text/html": [
       "<style scoped>\n",
       "  .ansiout {\n",
       "    display: block;\n",
       "    unicode-bidi: embed;\n",
       "    white-space: pre-wrap;\n",
       "    word-wrap: break-word;\n",
       "    word-break: break-all;\n",
       "    font-family: \"Source Code Pro\", \"Menlo\", monospace;;\n",
       "    font-size: 13px;\n",
       "    color: #555;\n",
       "    margin-left: 4px;\n",
       "    line-height: 19px;\n",
       "  }\n",
       "</style>\n",
       "<div class=\"ansiout\"></div>"
      ]
     },
     "metadata": {},
     "output_type": "display_data"
    }
   ],
   "source": [
    "new_user_preds.createOrReplaceTempView('nu_recomms')\n"
   ]
  },
  {
   "cell_type": "code",
   "execution_count": 47,
   "metadata": {},
   "outputs": [
    {
     "data": {
      "text/html": [
       "<style scoped>\n",
       "  .table-result-container {\n",
       "    max-height: 300px;\n",
       "    overflow: auto;\n",
       "  }\n",
       "  table, th, td {\n",
       "    border: 1px solid black;\n",
       "    border-collapse: collapse;\n",
       "  }\n",
       "  th, td {\n",
       "    padding: 5px;\n",
       "  }\n",
       "  th {\n",
       "    text-align: left;\n",
       "  }\n",
       "</style><div class='table-result-container'><table class='table-result'><thead style='background-color: white'><tr><th>ISBN_index</th><th>Book-Title</th><th>prediction</th></tr></thead><tbody><tr><td>189831.0</td><td>The Godfather</td><td>10.991946</td></tr><tr><td>55107.0</td><td>She Who Hears the Sun</td><td>10.991946</td></tr><tr><td>47029.0</td><td>Acts of God (Book Three of The Christ Clone Trilogy)</td><td>10.991946</td></tr><tr><td>206706.0</td><td>Valley of Horses (Thorndike Large Print Basic Series)</td><td>10.991946</td></tr><tr><td>127583.0</td><td>Increase Your Web Traffic In a Weekend, Revised Edition</td><td>10.991946</td></tr><tr><td>119412.0</td><td>Even Angels Ask: A Journey to Islam in America</td><td>10.991946</td></tr><tr><td>123619.0</td><td>The Song of Eve: Mythology and Symbols of the Goddess</td><td>10.927781</td></tr><tr><td>195346.0</td><td>Gulliver's Travels (The World's Classics)</td><td>10.588649</td></tr><tr><td>122664.0</td><td>Deadwood</td><td>10.588649</td></tr><tr><td>164376.0</td><td>Love Pirate (Volume 70)</td><td>10.58313</td></tr><tr><td>268579.0</td><td>If I Found a Wistful Unicorn</td><td>10.58313</td></tr><tr><td>127568.0</td><td>How You Do Anything Is How You Do Everything: A Workbook</td><td>10.58313</td></tr><tr><td>160139.0</td><td>Mufaro's Beautiful Daughters (Amistad)</td><td>10.58313</td></tr><tr><td>173850.0</td><td>The Age of Innocence</td><td>10.3184805</td></tr><tr><td>94562.0</td><td>When Calls the Heart (Canadian West)</td><td>10.0347805</td></tr><tr><td>152170.0</td><td>I Can Read About Frogs and Toads (I Can Read About)</td><td>9.90606</td></tr><tr><td>69725.0</td><td>Dracula: Complete, Authoritative Text With Biographical, Historical, and Cultural Contexts, Critical History, and Essays from Contemporary Critical (Case Studies in Contemporary Criticism)</td><td>9.854684</td></tr><tr><td>125912.0</td><td>Fundamentals of Database Systems</td><td>9.8297</td></tr><tr><td>108022.0</td><td>The Horus Road: Lords of the Two Lands: Volume 3</td><td>9.728905</td></tr><tr><td>76548.0</td><td>The Right Stuff Revised Edition</td><td>9.728905</td></tr><tr><td>158944.0</td><td>Horror: The 100 Best Books</td><td>9.728905</td></tr><tr><td>175836.0</td><td>Book of Classic Horror Stories</td><td>9.728905</td></tr><tr><td>115082.0</td><td>Salem's Lot (The Stephen King collectors edition)</td><td>9.728905</td></tr><tr><td>112922.0</td><td>Tales of Peter Rabbit and His Friends</td><td>9.725651</td></tr><tr><td>132312.0</td><td>Jeremy Poldark: A Novel of Cornwall, 1790-1791</td><td>9.668758</td></tr></tbody></table></div>"
      ]
     },
     "metadata": {},
     "output_type": "display_data"
    }
   ],
   "source": [
    "%sql\n",
    "SELECT DISTINCT nu.`ISBN_index`, nd.`Book-Title`, nu.prediction \n",
    "FROM nu_recomms nu LEFT JOIN new_data nd \n",
    "ON nu.`ISBN_index` = nd.`ISBN_index`\n",
    "ORDER BY nu.prediction DESC\n",
    "LIMIT 25"
   ]
  },
  {
   "cell_type": "code",
   "execution_count": 48,
   "metadata": {},
   "outputs": [
    {
     "data": {
      "text/html": [
       "<style scoped>\n",
       "  .ansiout {\n",
       "    display: block;\n",
       "    unicode-bidi: embed;\n",
       "    white-space: pre-wrap;\n",
       "    word-wrap: break-word;\n",
       "    word-break: break-all;\n",
       "    font-family: \"Source Code Pro\", \"Menlo\", monospace;;\n",
       "    font-size: 13px;\n",
       "    color: #555;\n",
       "    margin-left: 4px;\n",
       "    line-height: 19px;\n",
       "  }\n",
       "</style>\n",
       "<div class=\"ansiout\">Out[20]: ALS_7b356755d944</div>"
      ]
     },
     "metadata": {},
     "output_type": "display_data"
    }
   ],
   "source": [
    "als = ALS()\n",
    "\n",
    "seed = 42\n",
    "best_rank = 12\n",
    "best_reg = 1\n",
    "\n",
    "als.setMaxIter(5) \\\n",
    "   .setPredictionCol(\"prediction\") \\\n",
    "   .setUserCol(\"User-ID_index\") \\\n",
    "   .setItemCol(\"ISBN_index\") \\\n",
    "   .setRatingCol(\"Book-Rating\") \\\n",
    "   .setColdStartStrategy(\"drop\") \\\n",
    "   .setNonnegative(True) \\\n",
    "   .setImplicitPrefs(False) \\\n",
    "   .setSeed(seed) \\\n",
    "   .setRank(best_rank) \\\n",
    "   .setRegParam(best_reg) "
   ]
  },
  {
   "cell_type": "code",
   "execution_count": 49,
   "metadata": {},
   "outputs": [
    {
     "data": {
      "text/html": [
       "<style scoped>\n",
       "  .ansiout {\n",
       "    display: block;\n",
       "    unicode-bidi: embed;\n",
       "    white-space: pre-wrap;\n",
       "    word-wrap: break-word;\n",
       "    word-break: break-all;\n",
       "    font-family: \"Source Code Pro\", \"Menlo\", monospace;;\n",
       "    font-size: 13px;\n",
       "    color: #555;\n",
       "    margin-left: 4px;\n",
       "    line-height: 19px;\n",
       "  }\n",
       "</style>\n",
       "<div class=\"ansiout\"></div>"
      ]
     },
     "metadata": {},
     "output_type": "display_data"
    }
   ],
   "source": [
    "full_model = als.fit(transformed)"
   ]
  },
  {
   "cell_type": "code",
   "execution_count": 50,
   "metadata": {},
   "outputs": [
    {
     "data": {
      "text/html": [
       "<style scoped>\n",
       "  .table-result-container {\n",
       "    max-height: 300px;\n",
       "    overflow: auto;\n",
       "  }\n",
       "  table, th, td {\n",
       "    border: 1px solid black;\n",
       "    border-collapse: collapse;\n",
       "  }\n",
       "  th, td {\n",
       "    padding: 5px;\n",
       "  }\n",
       "  th {\n",
       "    text-align: left;\n",
       "  }\n",
       "</style><div class='table-result-container'><table class='table-result'><thead style='background-color: white'><tr><th>User-ID</th><th>Book-Rating</th><th>ISBN</th><th>ISBN_index</th><th>User-ID_index</th><th>prediction</th></tr></thead><tbody><tr><td>170513</td><td>0</td><td>0060987529</td><td>148.0</td><td>463.0</td><td>2.3855572</td></tr><tr><td>28523</td><td>0</td><td>0060987529</td><td>148.0</td><td>392.0</td><td>1.16596</td></tr><tr><td>78783</td><td>5</td><td>0060987529</td><td>148.0</td><td>31.0</td><td>0.5156915</td></tr><tr><td>231237</td><td>10</td><td>0060987529</td><td>148.0</td><td>516.0</td><td>2.4990902</td></tr><tr><td>69648</td><td>0</td><td>0060987529</td><td>148.0</td><td>9383.0</td><td>2.3373637</td></tr><tr><td>174304</td><td>0</td><td>0060987529</td><td>148.0</td><td>85.0</td><td>1.4919932</td></tr><tr><td>61042</td><td>9</td><td>0060987529</td><td>148.0</td><td>7644.0</td><td>4.106174</td></tr><tr><td>142121</td><td>7</td><td>0060987529</td><td>148.0</td><td>879.0</td><td>2.1210964</td></tr><tr><td>76814</td><td>0</td><td>0060987529</td><td>148.0</td><td>18334.0</td><td>2.7850966</td></tr><tr><td>174375</td><td>8</td><td>0060987529</td><td>148.0</td><td>6176.0</td><td>2.4178317</td></tr><tr><td>35050</td><td>0</td><td>0060987529</td><td>148.0</td><td>78.0</td><td>0.111946195</td></tr><tr><td>238557</td><td>0</td><td>0060987529</td><td>148.0</td><td>362.0</td><td>1.1472375</td></tr><tr><td>103304</td><td>0</td><td>0060987529</td><td>148.0</td><td>1160.0</td><td>0.8946834</td></tr><tr><td>113519</td><td>0</td><td>0060987529</td><td>148.0</td><td>108.0</td><td>0.96183556</td></tr><tr><td>78834</td><td>0</td><td>0060987529</td><td>148.0</td><td>126.0</td><td>1.4362627</td></tr><tr><td>36609</td><td>0</td><td>0060987529</td><td>148.0</td><td>385.0</td><td>1.557981</td></tr><tr><td>20172</td><td>9</td><td>0060987529</td><td>148.0</td><td>1869.0</td><td>4.1578474</td></tr><tr><td>209536</td><td>0</td><td>0060987529</td><td>148.0</td><td>3008.0</td><td>1.8853365</td></tr><tr><td>147920</td><td>0</td><td>0060987529</td><td>148.0</td><td>69599.0</td><td>0.0</td></tr><tr><td>144038</td><td>10</td><td>0060987529</td><td>148.0</td><td>2044.0</td><td>6.402697</td></tr><tr><td>150896</td><td>7</td><td>0060987529</td><td>148.0</td><td>1276.0</td><td>2.8777068</td></tr><tr><td>147686</td><td>0</td><td>0060987529</td><td>148.0</td><td>1307.0</td><td>2.7934206</td></tr><tr><td>138097</td><td>0</td><td>0060987529</td><td>148.0</td><td>667.0</td><td>1.3685</td></tr><tr><td>14768</td><td>0</td><td>0060987529</td><td>148.0</td><td>2871.0</td><td>1.1429356</td></tr><tr><td>135149</td><td>7</td><td>0060987529</td><td>148.0</td><td>27.0</td><td>1.8584486</td></tr><tr><td>264031</td><td>0</td><td>0060987529</td><td>148.0</td><td>626.0</td><td>3.3731813</td></tr><tr><td>266650</td><td>0</td><td>0060987529</td><td>148.0</td><td>2610.0</td><td>2.6067798</td></tr><tr><td>88283</td><td>0</td><td>0060987529</td><td>148.0</td><td>606.0</td><td>2.933817</td></tr><tr><td>125039</td><td>0</td><td>0060987529</td><td>148.0</td><td>253.0</td><td>1.2632091</td></tr><tr><td>239413</td><td>0</td><td>0060987529</td><td>148.0</td><td>7711.0</td><td>2.387195</td></tr><tr><td>165308</td><td>9</td><td>0060987529</td><td>148.0</td><td>336.0</td><td>2.2262278</td></tr><tr><td>274466</td><td>8</td><td>0060987529</td><td>148.0</td><td>2723.0</td><td>2.865859</td></tr><tr><td>106331</td><td>8</td><td>0060987529</td><td>148.0</td><td>4874.0</td><td>3.634358</td></tr><tr><td>6563</td><td>8</td><td>0060987529</td><td>148.0</td><td>738.0</td><td>1.972319</td></tr><tr><td>251613</td><td>0</td><td>0060987529</td><td>148.0</td><td>91.0</td><td>0.45255065</td></tr><tr><td>177363</td><td>9</td><td>0060987529</td><td>148.0</td><td>16695.0</td><td>5.645066</td></tr><tr><td>112626</td><td>6</td><td>0060987529</td><td>148.0</td><td>39628.0</td><td>4.383043</td></tr><tr><td>232106</td><td>0</td><td>0060987529</td><td>148.0</td><td>2113.0</td><td>2.9425874</td></tr><tr><td>100756</td><td>0</td><td>0060987529</td><td>148.0</td><td>9456.0</td><td>0.54659194</td></tr><tr><td>112026</td><td>0</td><td>0060987529</td><td>148.0</td><td>222.0</td><td>0.3795148</td></tr><tr><td>125692</td><td>0</td><td>0060987529</td><td>148.0</td><td>128.0</td><td>0.43215957</td></tr><tr><td>94787</td><td>7</td><td>0060987529</td><td>148.0</td><td>2725.0</td><td>2.643927</td></tr><tr><td>94818</td><td>0</td><td>0060987529</td><td>148.0</td><td>4530.0</td><td>2.9328406</td></tr><tr><td>11285</td><td>4</td><td>0060987529</td><td>148.0</td><td>15347.0</td><td>1.5806434</td></tr><tr><td>123790</td><td>8</td><td>0060987529</td><td>148.0</td><td>665.0</td><td>1.235747</td></tr><tr><td>105266</td><td>0</td><td>0060987529</td><td>148.0</td><td>24829.0</td><td>2.0386763</td></tr><tr><td>96440</td><td>7</td><td>0060987529</td><td>148.0</td><td>1586.0</td><td>2.7507176</td></tr><tr><td>171445</td><td>5</td><td>0060987529</td><td>148.0</td><td>2339.0</td><td>2.7501988</td></tr><tr><td>37605</td><td>7</td><td>0060987529</td><td>148.0</td><td>7519.0</td><td>3.449662</td></tr><tr><td>46443</td><td>0</td><td>0060987529</td><td>148.0</td><td>1170.0</td><td>3.7948754</td></tr><tr><td>238607</td><td>0</td><td>0060987529</td><td>148.0</td><td>4162.0</td><td>1.1086272</td></tr><tr><td>172119</td><td>7</td><td>0060987529</td><td>148.0</td><td>6366.0</td><td>3.8824532</td></tr><tr><td>89602</td><td>8</td><td>0060987529</td><td>148.0</td><td>259.0</td><td>2.9955268</td></tr><tr><td>201141</td><td>0</td><td>0060987529</td><td>148.0</td><td>3147.0</td><td>2.5167723</td></tr><tr><td>226503</td><td>8</td><td>0060987529</td><td>148.0</td><td>64025.0</td><td>6.091965</td></tr><tr><td>167349</td><td>0</td><td>0060987529</td><td>148.0</td><td>442.0</td><td>0.4204875</td></tr><tr><td>27947</td><td>0</td><td>0060987529</td><td>148.0</td><td>1770.0</td><td>1.1760949</td></tr><tr><td>121782</td><td>8</td><td>0060987529</td><td>148.0</td><td>65439.0</td><td>6.091965</td></tr><tr><td>204864</td><td>9</td><td>0060987529</td><td>148.0</td><td>13.0</td><td>1.5990634</td></tr><tr><td>178597</td><td>7</td><td>0060987529</td><td>148.0</td><td>3786.0</td><td>2.9087133</td></tr><tr><td>217811</td><td>0</td><td>0060987529</td><td>148.0</td><td>4487.0</td><td>3.0915668</td></tr><tr><td>7915</td><td>0</td><td>0060987529</td><td>148.0</td><td>760.0</td><td>1.7111577</td></tr><tr><td>16009</td><td>9</td><td>0060987529</td><td>148.0</td><td>3700.0</td><td>3.0729668</td></tr><tr><td>219593</td><td>0</td><td>0060987529</td><td>148.0</td><td>5056.0</td><td>3.3435776</td></tr><tr><td>50114</td><td>0</td><td>0060987529</td><td>148.0</td><td>8818.0</td><td>1.7805959</td></tr><tr><td>264124</td><td>0</td><td>0060987529</td><td>148.0</td><td>7680.0</td><td>1.6611004</td></tr><tr><td>27647</td><td>0</td><td>0060987529</td><td>148.0</td><td>839.0</td><td>2.4574018</td></tr><tr><td>124078</td><td>0</td><td>0060987529</td><td>148.0</td><td>500.0</td><td>2.5640593</td></tr><tr><td>217375</td><td>0</td><td>0060987529</td><td>148.0</td><td>139.0</td><td>0.3249191</td></tr><tr><td>232853</td><td>0</td><td>0060987529</td><td>148.0</td><td>5424.0</td><td>1.6836476</td></tr><tr><td>89852</td><td>8</td><td>0060987529</td><td>148.0</td><td>5485.0</td><td>2.7380733</td></tr><tr><td>203044</td><td>6</td><td>0060987529</td><td>148.0</td><td>3791.0</td><td>3.5977936</td></tr><tr><td>16634</td><td>0</td><td>0060987529</td><td>148.0</td><td>94.0</td><td>1.904197</td></tr><tr><td>22220</td><td>8</td><td>0060987529</td><td>148.0</td><td>28801.0</td><td>5.5981665</td></tr><tr><td>265083</td><td>0</td><td>0060987529</td><td>148.0</td><td>1113.0</td><td>1.0354393</td></tr><tr><td>188847</td><td>6</td><td>0060987529</td><td>148.0</td><td>22620.0</td><td>3.2097828</td></tr><tr><td>86849</td><td>9</td><td>0060987529</td><td>148.0</td><td>12909.0</td><td>4.304957</td></tr><tr><td>210485</td><td>7</td><td>0060987529</td><td>148.0</td><td>235.0</td><td>2.389467</td></tr><tr><td>111174</td><td>0</td><td>0060987529</td><td>148.0</td><td>545.0</td><td>1.2707673</td></tr><tr><td>124483</td><td>5</td><td>0060987529</td><td>148.0</td><td>78741.0</td><td>3.8074782</td></tr><tr><td>224430</td><td>7</td><td>0060987529</td><td>148.0</td><td>709.0</td><td>2.2504225</td></tr><tr><td>100459</td><td>0</td><td>0060987529</td><td>148.0</td><td>419.0</td><td>2.5007858</td></tr><tr><td>271195</td><td>5</td><td>0060987529</td><td>148.0</td><td>560.0</td><td>2.4258907</td></tr><tr><td>230878</td><td>6</td><td>0060987529</td><td>148.0</td><td>9652.0</td><td>3.368347</td></tr><tr><td>203240</td><td>5</td><td>0060987529</td><td>148.0</td><td>257.0</td><td>1.8221145</td></tr><tr><td>136561</td><td>10</td><td>0060987529</td><td>148.0</td><td>7891.0</td><td>6.562429</td></tr><tr><td>262459</td><td>0</td><td>0060987529</td><td>148.0</td><td>2286.0</td><td>1.0694972</td></tr><tr><td>204359</td><td>0</td><td>0060987529</td><td>148.0</td><td>904.0</td><td>2.1767411</td></tr><tr><td>7819</td><td>0</td><td>0060987529</td><td>148.0</td><td>20689.0</td><td>1.0694623</td></tr><tr><td>246333</td><td>0</td><td>0060987529</td><td>148.0</td><td>6084.0</td><td>1.3972052</td></tr><tr><td>41245</td><td>9</td><td>0060987529</td><td>148.0</td><td>12147.0</td><td>3.8401647</td></tr><tr><td>119421</td><td>0</td><td>0060987529</td><td>148.0</td><td>14183.0</td><td>1.417916</td></tr><tr><td>167761</td><td>0</td><td>0060987529</td><td>148.0</td><td>3835.0</td><td>1.8391467</td></tr><tr><td>14422</td><td>0</td><td>0060987529</td><td>148.0</td><td>327.0</td><td>1.7863716</td></tr><tr><td>209817</td><td>10</td><td>0060987529</td><td>148.0</td><td>2036.0</td><td>3.2162716</td></tr><tr><td>110934</td><td>7</td><td>0060987529</td><td>148.0</td><td>590.0</td><td>5.0644555</td></tr><tr><td>86202</td><td>7</td><td>0060987529</td><td>148.0</td><td>531.0</td><td>1.1517417</td></tr><tr><td>251140</td><td>0</td><td>0060987529</td><td>148.0</td><td>903.0</td><td>3.0839975</td></tr><tr><td>153715</td><td>8</td><td>0060987529</td><td>148.0</td><td>45821.0</td><td>6.091965</td></tr><tr><td>105214</td><td>6</td><td>0060987529</td><td>148.0</td><td>2657.0</td><td>4.946265</td></tr><tr><td>38679</td><td>0</td><td>0060987529</td><td>148.0</td><td>6029.0</td><td>2.9470162</td></tr><tr><td>235105</td><td>0</td><td>0060987529</td><td>148.0</td><td>9.0</td><td>2.3270707</td></tr><tr><td>138543</td><td>9</td><td>0060987529</td><td>148.0</td><td>1123.0</td><td>4.010979</td></tr><tr><td>127914</td><td>0</td><td>0060987529</td><td>148.0</td><td>609.0</td><td>1.069897</td></tr><tr><td>196077</td><td>0</td><td>0060987529</td><td>148.0</td><td>72.0</td><td>0.9492338</td></tr><tr><td>276328</td><td>7</td><td>0060987529</td><td>148.0</td><td>12359.0</td><td>4.388933</td></tr><tr><td>93427</td><td>9</td><td>0060987529</td><td>148.0</td><td>10169.0</td><td>3.277407</td></tr><tr><td>13552</td><td>0</td><td>0060987529</td><td>148.0</td><td>175.0</td><td>2.2456467</td></tr><tr><td>160295</td><td>10</td><td>0060987529</td><td>148.0</td><td>850.0</td><td>3.1285126</td></tr><tr><td>121170</td><td>7</td><td>0060987529</td><td>148.0</td><td>1519.0</td><td>4.8128357</td></tr><tr><td>267710</td><td>0</td><td>0060987529</td><td>148.0</td><td>27485.0</td><td>0.0</td></tr><tr><td>121726</td><td>0</td><td>0060987529</td><td>148.0</td><td>1735.0</td><td>1.4264795</td></tr><tr><td>162376</td><td>0</td><td>0060987529</td><td>148.0</td><td>3422.0</td><td>3.1517189</td></tr><tr><td>16699</td><td>8</td><td>0060987529</td><td>148.0</td><td>12532.0</td><td>2.7092564</td></tr><tr><td>197190</td><td>7</td><td>0060987529</td><td>148.0</td><td>26286.0</td><td>4.479694</td></tr><tr><td>92299</td><td>0</td><td>0060987529</td><td>148.0</td><td>28393.0</td><td>2.5688188</td></tr><tr><td>24921</td><td>0</td><td>0060987529</td><td>148.0</td><td>229.0</td><td>0.57570374</td></tr><tr><td>37644</td><td>8</td><td>0060987529</td><td>148.0</td><td>890.0</td><td>3.971761</td></tr><tr><td>35859</td><td>0</td><td>0060987529</td><td>148.0</td><td>4.0</td><td>1.0001456</td></tr><tr><td>2110</td><td>7</td><td>0060987529</td><td>148.0</td><td>1022.0</td><td>3.708373</td></tr><tr><td>49460</td><td>9</td><td>0060987529</td><td>148.0</td><td>672.0</td><td>2.9928415</td></tr><tr><td>117251</td><td>0</td><td>0060987529</td><td>148.0</td><td>736.0</td><td>2.267984</td></tr><tr><td>49422</td><td>7</td><td>0060987529</td><td>148.0</td><td>1076.0</td><td>1.6377971</td></tr><tr><td>40943</td><td>0</td><td>0060987529</td><td>148.0</td><td>84.0</td><td>1.1854273</td></tr><tr><td>39281</td><td>0</td><td>0060987529</td><td>148.0</td><td>314.0</td><td>2.4771504</td></tr><tr><td>245371</td><td>0</td><td>0060987529</td><td>148.0</td><td>649.0</td><td>1.7975317</td></tr><tr><td>219546</td><td>0</td><td>0060987529</td><td>148.0</td><td>171.0</td><td>1.04782</td></tr><tr><td>95359</td><td>7</td><td>0060987529</td><td>148.0</td><td>51.0</td><td>3.0153959</td></tr><tr><td>6251</td><td>0</td><td>0060987529</td><td>148.0</td><td>129.0</td><td>1.7655201</td></tr><tr><td>7125</td><td>0</td><td>0060987529</td><td>148.0</td><td>1020.0</td><td>2.6785522</td></tr><tr><td>255489</td><td>0</td><td>0060987529</td><td>148.0</td><td>239.0</td><td>1.6718076</td></tr><tr><td>266865</td><td>5</td><td>0060987529</td><td>148.0</td><td>389.0</td><td>1.5887456</td></tr><tr><td>158727</td><td>7</td><td>0060987529</td><td>148.0</td><td>38287.0</td><td>4.6496</td></tr><tr><td>114414</td><td>0</td><td>0060987529</td><td>148.0</td><td>102.0</td><td>0.39835575</td></tr><tr><td>38933</td><td>8</td><td>0060987529</td><td>148.0</td><td>3168.0</td><td>2.8276777</td></tr><tr><td>30925</td><td>5</td><td>0060987529</td><td>148.0</td><td>8062.0</td><td>2.541255</td></tr><tr><td>114178</td><td>0</td><td>0060987529</td><td>148.0</td><td>759.0</td><td>2.2059252</td></tr><tr><td>196466</td><td>7</td><td>0060987529</td><td>148.0</td><td>952.0</td><td>1.269381</td></tr><tr><td>91115</td><td>8</td><td>0060987529</td><td>148.0</td><td>81059.0</td><td>6.091965</td></tr><tr><td>175003</td><td>0</td><td>0060987529</td><td>148.0</td><td>38.0</td><td>0.18566675</td></tr><tr><td>52853</td><td>0</td><td>0060987529</td><td>148.0</td><td>249.0</td><td>1.1337895</td></tr><tr><td>160548</td><td>0</td><td>0060987529</td><td>148.0</td><td>4439.0</td><td>2.5162365</td></tr><tr><td>100953</td><td>0</td><td>0060987529</td><td>148.0</td><td>36322.0</td><td>0.0</td></tr><tr><td>95932</td><td>7</td><td>0060987529</td><td>148.0</td><td>288.0</td><td>2.2277746</td></tr><tr><td>85502</td><td>0</td><td>0060987529</td><td>148.0</td><td>6613.0</td><td>3.3114815</td></tr><tr><td>149420</td><td>0</td><td>0060987529</td><td>148.0</td><td>58806.0</td><td>0.0</td></tr><tr><td>141493</td><td>0</td><td>0060987529</td><td>148.0</td><td>408.0</td><td>2.0483975</td></tr><tr><td>157273</td><td>6</td><td>0060987529</td><td>148.0</td><td>121.0</td><td>1.1815912</td></tr><tr><td>3363</td><td>0</td><td>0060987529</td><td>148.0</td><td>125.0</td><td>1.1804463</td></tr><tr><td>231264</td><td>0</td><td>0060987529</td><td>148.0</td><td>1907.0</td><td>2.5273678</td></tr><tr><td>152645</td><td>0</td><td>0060987529</td><td>148.0</td><td>1666.0</td><td>1.8414261</td></tr><tr><td>19609</td><td>9</td><td>0060987529</td><td>148.0</td><td>10279.0</td><td>3.1253376</td></tr><tr><td>3633</td><td>0</td><td>0060987529</td><td>148.0</td><td>74539.0</td><td>0.0</td></tr><tr><td>150062</td><td>0</td><td>0060987529</td><td>148.0</td><td>48222.0</td><td>0.0</td></tr><tr><td>53241</td><td>7</td><td>0060987529</td><td>148.0</td><td>2009.0</td><td>2.5222359</td></tr><tr><td>233856</td><td>0</td><td>0060987529</td><td>148.0</td><td>5498.0</td><td>2.97369</td></tr><tr><td>259930</td><td>8</td><td>0060987529</td><td>148.0</td><td>1514.0</td><td>3.0383737</td></tr><tr><td>222296</td><td>0</td><td>0060987529</td><td>148.0</td><td>323.0</td><td>1.6624745</td></tr><tr><td>8454</td><td>9</td><td>0060987529</td><td>148.0</td><td>1552.0</td><td>4.262695</td></tr><tr><td>218746</td><td>9</td><td>0060987529</td><td>148.0</td><td>21469.0</td><td>6.133939</td></tr><tr><td>96448</td><td>9</td><td>0060987529</td><td>148.0</td><td>492.0</td><td>3.332178</td></tr><tr><td>214935</td><td>9</td><td>0060987529</td><td>148.0</td><td>19914.0</td><td>6.0176473</td></tr><tr><td>220278</td><td>0</td><td>0060987529</td><td>148.0</td><td>595.0</td><td>1.3398257</td></tr><tr><td>237914</td><td>4</td><td>0060987529</td><td>148.0</td><td>14019.0</td><td>3.3427691</td></tr><tr><td>250010</td><td>9</td><td>0060987529</td><td>148.0</td><td>26651.0</td><td>3.9246914</td></tr><tr><td>148888</td><td>0</td><td>0060987529</td><td>148.0</td><td>26844.0</td><td>3.5706096</td></tr><tr><td>240710</td><td>0</td><td>0060987529</td><td>148.0</td><td>4114.0</td><td>0.43876874</td></tr><tr><td>232199</td><td>9</td><td>0060987529</td><td>148.0</td><td>8386.0</td><td>1.8877686</td></tr><tr><td>155913</td><td>9</td><td>0060987529</td><td>148.0</td><td>5508.0</td><td>4.655941</td></tr><tr><td>143715</td><td>0</td><td>0060987529</td><td>148.0</td><td>3082.0</td><td>4.127758</td></tr><tr><td>166130</td><td>0</td><td>0060987529</td><td>148.0</td><td>7687.0</td><td>2.9481885</td></tr><tr><td>49865</td><td>5</td><td>0060987529</td><td>148.0</td><td>66567.0</td><td>3.8074782</td></tr><tr><td>21014</td><td>0</td><td>0060987529</td><td>148.0</td><td>151.0</td><td>1.5594434</td></tr><tr><td>263344</td><td>0</td><td>0060987529</td><td>148.0</td><td>1579.0</td><td>1.3544248</td></tr><tr><td>158774</td><td>7</td><td>0060987529</td><td>148.0</td><td>6048.0</td><td>5.1109333</td></tr><tr><td>153513</td><td>0</td><td>0060987529</td><td>148.0</td><td>1440.0</td><td>1.3906753</td></tr><tr><td>43246</td><td>0</td><td>0060987529</td><td>148.0</td><td>56.0</td><td>1.3750408</td></tr><tr><td>166499</td><td>6</td><td>0060987529</td><td>148.0</td><td>28299.0</td><td>4.516857</td></tr><tr><td>193499</td><td>0</td><td>0060987529</td><td>148.0</td><td>534.0</td><td>1.8602161</td></tr><tr><td>112401</td><td>0</td><td>0060987529</td><td>148.0</td><td>3019.0</td><td>3.1355834</td></tr><tr><td>177072</td><td>0</td><td>0060987529</td><td>148.0</td><td>303.0</td><td>2.0159564</td></tr><tr><td>161237</td><td>0</td><td>0060987529</td><td>148.0</td><td>19120.0</td><td>1.0048281</td></tr><tr><td>275677</td><td>8</td><td>0060987529</td><td>148.0</td><td>5263.0</td><td>2.4139595</td></tr><tr><td>114444</td><td>9</td><td>0060987529</td><td>148.0</td><td>668.0</td><td>1.7130938</td></tr><tr><td>9417</td><td>0</td><td>0060987529</td><td>148.0</td><td>913.0</td><td>1.8244352</td></tr><tr><td>172030</td><td>0</td><td>0060987529</td><td>148.0</td><td>58.0</td><td>0.74067223</td></tr><tr><td>88793</td><td>0</td><td>0060987529</td><td>148.0</td><td>837.0</td><td>2.4733644</td></tr><tr><td>73394</td><td>0</td><td>0060987529</td><td>148.0</td><td>33.0</td><td>0.12221186</td></tr><tr><td>7346</td><td>0</td><td>0060987529</td><td>148.0</td><td>110.0</td><td>2.3553233</td></tr><tr><td>218608</td><td>0</td><td>0060987529</td><td>148.0</td><td>508.0</td><td>3.7859623</td></tr><tr><td>121986</td><td>9</td><td>0060987529</td><td>148.0</td><td>1860.0</td><td>2.2152162</td></tr><tr><td>40640</td><td>0</td><td>0060987529</td><td>148.0</td><td>5439.0</td><td>3.1816134</td></tr><tr><td>142524</td><td>0</td><td>0060987529</td><td>148.0</td><td>68.0</td><td>1.3592341</td></tr><tr><td>249723</td><td>0</td><td>0060987529</td><td>148.0</td><td>1730.0</td><td>0.0</td></tr><tr><td>71712</td><td>0</td><td>0060987529</td><td>148.0</td><td>525.0</td><td>1.1206579</td></tr><tr><td>196502</td><td>8</td><td>0060987529</td><td>148.0</td><td>561.0</td><td>2.9989324</td></tr><tr><td>241845</td><td>7</td><td>0060987529</td><td>148.0</td><td>22365.0</td><td>4.0755577</td></tr><tr><td>154346</td><td>0</td><td>0060987529</td><td>148.0</td><td>910.0</td><td>0.9047932</td></tr><tr><td>248580</td><td>6</td><td>0060987529</td><td>148.0</td><td>17532.0</td><td>3.5133905</td></tr><tr><td>129716</td><td>0</td><td>0060987529</td><td>148.0</td><td>198.0</td><td>2.1477497</td></tr><tr><td>10447</td><td>9</td><td>0060987529</td><td>148.0</td><td>657.0</td><td>1.7197617</td></tr><tr><td>36817</td><td>7</td><td>0060987529</td><td>148.0</td><td>3785.0</td><td>2.922065</td></tr><tr><td>81492</td><td>0</td><td>0060987529</td><td>148.0</td><td>158.0</td><td>1.2885098</td></tr><tr><td>28945</td><td>7</td><td>0060987529</td><td>148.0</td><td>9849.0</td><td>4.0962477</td></tr><tr><td>36606</td><td>0</td><td>0060987529</td><td>148.0</td><td>42.0</td><td>0.85342777</td></tr><tr><td>246617</td><td>0</td><td>0060987529</td><td>148.0</td><td>909.0</td><td>1.790829</td></tr><tr><td>153662</td><td>0</td><td>0060987529</td><td>148.0</td><td>2.0</td><td>2.29888</td></tr><tr><td>120581</td><td>6</td><td>0060987529</td><td>148.0</td><td>57420.0</td><td>4.5689735</td></tr><tr><td>225763</td><td>0</td><td>0060987529</td><td>148.0</td><td>149.0</td><td>1.306742</td></tr><tr><td>114868</td><td>0</td><td>0060987529</td><td>148.0</td><td>276.0</td><td>1.3803582</td></tr><tr><td>211426</td><td>0</td><td>0060987529</td><td>148.0</td><td>118.0</td><td>0.9778495</td></tr><tr><td>163776</td><td>0</td><td>0060987529</td><td>148.0</td><td>3348.0</td><td>1.2250868</td></tr><tr><td>271538</td><td>6</td><td>0060987529</td><td>148.0</td><td>1202.0</td><td>0.55607176</td></tr><tr><td>95907</td><td>7</td><td>0060987529</td><td>148.0</td><td>9266.0</td><td>4.5010085</td></tr><tr><td>182506</td><td>6</td><td>0060987529</td><td>148.0</td><td>1526.0</td><td>1.2137334</td></tr><tr><td>28938</td><td>0</td><td>0060987529</td><td>148.0</td><td>996.0</td><td>2.349681</td></tr><tr><td>168802</td><td>0</td><td>0060987529</td><td>148.0</td><td>15831.0</td><td>3.1628425</td></tr><tr><td>249939</td><td>8</td><td>0060987529</td><td>148.0</td><td>12240.0</td><td>4.9179163</td></tr><tr><td>11676</td><td>8</td><td>0060987529</td><td>148.0</td><td>0.0</td><td>3.5914693</td></tr><tr><td>55493</td><td>0</td><td>0060987529</td><td>148.0</td><td>1044.0</td><td>2.9394643</td></tr><tr><td>247760</td><td>7</td><td>0060987529</td><td>148.0</td><td>19133.0</td><td>2.9072263</td></tr><tr><td>249963</td><td>0</td><td>0060987529</td><td>148.0</td><td>11340.0</td><td>1.1644955</td></tr><tr><td>149084</td><td>0</td><td>0060987529</td><td>148.0</td><td>932.0</td><td>0.9068408</td></tr><tr><td>138239</td><td>0</td><td>0060987529</td><td>148.0</td><td>2979.0</td><td>2.7738938</td></tr><tr><td>249826</td><td>8</td><td>0060987529</td><td>148.0</td><td>4367.0</td><td>3.1114025</td></tr><tr><td>100591</td><td>7</td><td>0060987529</td><td>148.0</td><td>74068.0</td><td>5.330469</td></tr><tr><td>60277</td><td>0</td><td>0060987529</td><td>148.0</td><td>208.0</td><td>0.009752418</td></tr><tr><td>128434</td><td>6</td><td>0060987529</td><td>148.0</td><td>3836.0</td><td>4.1501756</td></tr><tr><td>170513</td><td>10</td><td>0451169530</td><td>463.0</td><td>463.0</td><td>3.3362381</td></tr><tr><td>1848</td><td>5</td><td>0451169530</td><td>463.0</td><td>2563.0</td><td>3.705114</td></tr><tr><td>19145</td><td>5</td><td>0451169530</td><td>463.0</td><td>3796.0</td><td>4.2785463</td></tr><tr><td>237646</td><td>0</td><td>0451169530</td><td>463.0</td><td>2622.0</td><td>1.2862523</td></tr><tr><td>252627</td><td>10</td><td>0451169530</td><td>463.0</td><td>17554.0</td><td>7.950103</td></tr><tr><td>201911</td><td>0</td><td>0451169530</td><td>463.0</td><td>21904.0</td><td>0.0</td></tr><tr><td>247674</td><td>10</td><td>0451169530</td><td>463.0</td><td>20097.0</td><td>6.349444</td></tr><tr><td>56399</td><td>10</td><td>0451169530</td><td>463.0</td><td>101.0</td><td>5.7289863</td></tr><tr><td>266645</td><td>5</td><td>0451169530</td><td>463.0</td><td>27940.0</td><td>2.1859138</td></tr><tr><td>137864</td><td>7</td><td>0451169530</td><td>463.0</td><td>46179.0</td><td>5.9373665</td></tr><tr><td>277962</td><td>0</td><td>0451169530</td><td>463.0</td><td>13347.0</td><td>0.692189</td></tr><tr><td>132930</td><td>8</td><td>0451169530</td><td>463.0</td><td>3072.0</td><td>7.269273</td></tr><tr><td>43619</td><td>0</td><td>0451169530</td><td>463.0</td><td>844.0</td><td>1.3894236</td></tr><tr><td>182334</td><td>0</td><td>0451169530</td><td>463.0</td><td>1085.0</td><td>2.2346842</td></tr><tr><td>39195</td><td>8</td><td>0451169530</td><td>463.0</td><td>2692.0</td><td>2.0766418</td></tr><tr><td>68256</td><td>0</td><td>0451169530</td><td>463.0</td><td>2168.0</td><td>2.02221</td></tr><tr><td>56554</td><td>10</td><td>0451169530</td><td>463.0</td><td>926.0</td><td>5.7513957</td></tr><tr><td>193458</td><td>8</td><td>0451169530</td><td>463.0</td><td>875.0</td><td>5.2754097</td></tr><tr><td>125692</td><td>0</td><td>0451169530</td><td>463.0</td><td>128.0</td><td>0.56179863</td></tr><tr><td>167189</td><td>9</td><td>0451169530</td><td>463.0</td><td>1848.0</td><td>1.6764458</td></tr><tr><td>59172</td><td>0</td><td>0451169530</td><td>463.0</td><td>230.0</td><td>3.036894</td></tr><tr><td>225810</td><td>0</td><td>0451169530</td><td>463.0</td><td>93.0</td><td>0.4471589</td></tr><tr><td>114988</td><td>0</td><td>0451169530</td><td>463.0</td><td>232.0</td><td>2.8729517</td></tr><tr><td>139742</td><td>0</td><td>0451169530</td><td>463.0</td><td>758.0</td><td>1.6642083</td></tr><tr><td>98904</td><td>0</td><td>0451169530</td><td>463.0</td><td>1206.0</td><td>4.7733407</td></tr><tr><td>67840</td><td>0</td><td>0451169530</td><td>463.0</td><td>435.0</td><td>3.9905126</td></tr><tr><td>165512</td><td>10</td><td>0451169530</td><td>463.0</td><td>4656.0</td><td>2.76035</td></tr><tr><td>238339</td><td>0</td><td>0451169530</td><td>463.0</td><td>8451.0</td><td>2.5077765</td></tr><tr><td>166123</td><td>0</td><td>0451169530</td><td>463.0</td><td>52.0</td><td>1.063204</td></tr><tr><td>171078</td><td>0</td><td>0451169530</td><td>463.0</td><td>1047.0</td><td>0.44048095</td></tr><tr><td>15046</td><td>10</td><td>0451169530</td><td>463.0</td><td>12638.0</td><td>6.471419</td></tr><tr><td>106225</td><td>0</td><td>0451169530</td><td>463.0</td><td>182.0</td><td>1.0171194</td></tr><tr><td>204864</td><td>10</td><td>0451169530</td><td>463.0</td><td>13.0</td><td>2.444026</td></tr><tr><td>112001</td><td>10</td><td>0451169530</td><td>463.0</td><td>218.0</td><td>4.8536887</td></tr><tr><td>278418</td><td>0</td><td>0451169530</td><td>463.0</td><td>6.0</td><td>0.21009421</td></tr><tr><td>185233</td><td>10</td><td>0451169530</td><td>463.0</td><td>16.0</td><td>1.5181376</td></tr><tr><td>62881</td><td>0</td><td>0451169530</td><td>463.0</td><td>867.0</td><td>0.6611411</td></tr><tr><td>82676</td><td>8</td><td>0451169530</td><td>463.0</td><td>54905.0</td><td>6.785561</td></tr><tr><td>179730</td><td>9</td><td>0451169530</td><td>463.0</td><td>919.0</td><td>2.678459</td></tr><tr><td>219683</td><td>7</td><td>0451169530</td><td>463.0</td><td>969.0</td><td>5.8314986</td></tr><tr><td>26544</td><td>0</td><td>0451169530</td><td>463.0</td><td>48.0</td><td>0.8284432</td></tr><tr><td>67698</td><td>8</td><td>0451169530</td><td>463.0</td><td>61692.0</td><td>6.785561</td></tr><tr><td>20180</td><td>10</td><td>0451169530</td><td>463.0</td><td>2950.0</td><td>6.1810894</td></tr><tr><td>31556</td><td>0</td><td>0451169530</td><td>463.0</td><td>92.0</td><td>2.1054626</td></tr><tr><td>126492</td><td>10</td><td>0451169530</td><td>463.0</td><td>553.0</td><td>4.402447</td></tr><tr><td>30531</td><td>8</td><td>0451169530</td><td>463.0</td><td>4494.0</td><td>3.7527852</td></tr><tr><td>186533</td><td>10</td><td>0451169530</td><td>463.0</td><td>15329.0</td><td>8.002634</td></tr><tr><td>197659</td><td>10</td><td>0451169530</td><td>463.0</td><td>117.0</td><td>6.2170935</td></tr><tr><td>22089</td><td>5</td><td>0451169530</td><td>463.0</td><td>4465.0</td><td>1.5264963</td></tr><tr><td>182838</td><td>0</td><td>0451169530</td><td>463.0</td><td>2909.0</td><td>6.458922</td></tr><tr><td>271558</td><td>10</td><td>0451169530</td><td>463.0</td><td>1846.0</td><td>3.5706937</td></tr><tr><td>245963</td><td>0</td><td>0451169530</td><td>463.0</td><td>15.0</td><td>0.17529823</td></tr><tr><td>208347</td><td>10</td><td>0451169530</td><td>463.0</td><td>13030.0</td><td>2.9864326</td></tr><tr><td>114493</td><td>0</td><td>0451169530</td><td>463.0</td><td>38516.0</td><td>2.0010755</td></tr><tr><td>206202</td><td>4</td><td>0451169530</td><td>463.0</td><td>2468.0</td><td>6.060752</td></tr><tr><td>201017</td><td>0</td><td>0451169530</td><td>463.0</td><td>461.0</td><td>1.9947089</td></tr><tr><td>60445</td><td>8</td><td>0451169530</td><td>463.0</td><td>4857.0</td><td>5.01115</td></tr><tr><td>86243</td><td>0</td><td>0451169530</td><td>463.0</td><td>263.0</td><td>1.8877921</td></tr><tr><td>55492</td><td>0</td><td>0451169530</td><td>463.0</td><td>17.0</td><td>0.55865157</td></tr><tr><td>53456</td><td>6</td><td>0451169530</td><td>463.0</td><td>1219.0</td><td>1.9291024</td></tr><tr><td>196077</td><td>0</td><td>0451169530</td><td>463.0</td><td>72.0</td><td>1.289082</td></tr><tr><td>193676</td><td>0</td><td>0451169530</td><td>463.0</td><td>1509.0</td><td>2.7329402</td></tr><tr><td>105517</td><td>0</td><td>0451169530</td><td>463.0</td><td>381.0</td><td>3.8353715</td></tr><tr><td>121170</td><td>10</td><td>0451169530</td><td>463.0</td><td>1519.0</td><td>6.3262553</td></tr><tr><td>124248</td><td>5</td><td>0451169530</td><td>463.0</td><td>36359.0</td><td>5.0810323</td></tr><tr><td>109901</td><td>10</td><td>0451169530</td><td>463.0</td><td>838.0</td><td>5.420654</td></tr><tr><td>3371</td><td>10</td><td>0451169530</td><td>463.0</td><td>1451.0</td><td>3.2860024</td></tr><tr><td>122506</td><td>8</td><td>0451169530</td><td>463.0</td><td>1789.0</td><td>3.13826</td></tr><tr><td>178667</td><td>0</td><td>0451169530</td><td>463.0</td><td>326.0</td><td>1.2788136</td></tr><tr><td>37950</td><td>0</td><td>0451169530</td><td>463.0</td><td>173.0</td><td>3.133898</td></tr><tr><td>111190</td><td>0</td><td>0451169530</td><td>463.0</td><td>2111.0</td><td>3.8050795</td></tr><tr><td>184299</td><td>0</td><td>0451169530</td><td>463.0</td><td>59.0</td><td>1.5412544</td></tr><tr><td>209160</td><td>0</td><td>0451169530</td><td>463.0</td><td>1318.0</td><td>4.3095055</td></tr><tr><td>171765</td><td>0</td><td>0451169530</td><td>463.0</td><td>5049.0</td><td>0.58242947</td></tr><tr><td>110973</td><td>0</td><td>0451169530</td><td>463.0</td><td>8.0</td><td>1.511079</td></tr><tr><td>122440</td><td>10</td><td>0451169530</td><td>463.0</td><td>1996.0</td><td>3.3242393</td></tr><tr><td>44296</td><td>0</td><td>0451169530</td><td>463.0</td><td>922.0</td><td>2.1041548</td></tr><tr><td>113904</td><td>0</td><td>0451169530</td><td>463.0</td><td>514.0</td><td>1.0432123</td></tr><tr><td>131686</td><td>0</td><td>0451169530</td><td>463.0</td><td>2988.0</td><td>4.02628</td></tr><tr><td>219546</td><td>0</td><td>0451169530</td><td>463.0</td><td>171.0</td><td>1.3958454</td></tr><tr><td>114007</td><td>0</td><td>0451169530</td><td>463.0</td><td>3803.0</td><td>4.316174</td></tr><tr><td>260316</td><td>10</td><td>0451169530</td><td>463.0</td><td>4778.0</td><td>6.222171</td></tr><tr><td>26670</td><td>7</td><td>0451169530</td><td>463.0</td><td>76158.0</td><td>5.9373665</td></tr><tr><td>59269</td><td>0</td><td>0451169530</td><td>463.0</td><td>1209.0</td><td>2.792958</td></tr><tr><td>240035</td><td>9</td><td>0451169530</td><td>463.0</td><td>1098.0</td><td>2.5422704</td></tr><tr><td>154037</td><td>0</td><td>0451169530</td><td>463.0</td><td>7183.0</td><td>1.7825252</td></tr><tr><td>83214</td><td>0</td><td>0451169530</td><td>463.0</td><td>3640.0</td><td>0.38838854</td></tr><tr><td>73741</td><td>10</td><td>0451169530</td><td>463.0</td><td>4225.0</td><td>3.7355466</td></tr><tr><td>53030</td><td>0</td><td>0451169530</td><td>463.0</td><td>73176.0</td><td>0.0</td></tr><tr><td>89867</td><td>0</td><td>0451169530</td><td>463.0</td><td>1705.0</td><td>2.0852542</td></tr><tr><td>251394</td><td>8</td><td>0451169530</td><td>463.0</td><td>289.0</td><td>2.096898</td></tr><tr><td>60244</td><td>4</td><td>0451169530</td><td>463.0</td><td>25.0</td><td>2.0693655</td></tr><tr><td>60546</td><td>10</td><td>0451169530</td><td>463.0</td><td>9367.0</td><td>7.6283464</td></tr><tr><td>268032</td><td>10</td><td>0451169530</td><td>463.0</td><td>526.0</td><td>2.046749</td></tr><tr><td>102967</td><td>0</td><td>0451169530</td><td>463.0</td><td>21.0</td><td>0.40090284</td></tr><tr><td>133689</td><td>10</td><td>0451169530</td><td>463.0</td><td>653.0</td><td>2.6804733</td></tr><tr><td>224213</td><td>0</td><td>0451169530</td><td>463.0</td><td>57931.0</td><td>0.0</td></tr><tr><td>102359</td><td>10</td><td>0451169530</td><td>463.0</td><td>911.0</td><td>7.030396</td></tr><tr><td>168595</td><td>0</td><td>0451169530</td><td>463.0</td><td>75980.0</td><td>0.0</td></tr><tr><td>259004</td><td>0</td><td>0451169530</td><td>463.0</td><td>1920.0</td><td>1.2266955</td></tr><tr><td>53430</td><td>0</td><td>0451169530</td><td>463.0</td><td>2508.0</td><td>0.015201584</td></tr><tr><td>21014</td><td>8</td><td>0451169530</td><td>463.0</td><td>151.0</td><td>2.0750437</td></tr><tr><td>242073</td><td>0</td><td>0451169530</td><td>463.0</td><td>1023.0</td><td>1.9587497</td></tr><tr><td>274301</td><td>7</td><td>0451169530</td><td>463.0</td><td>488.0</td><td>5.5241685</td></tr><tr><td>929</td><td>6</td><td>0451169530</td><td>463.0</td><td>2660.0</td><td>2.9727373</td></tr><tr><td>37227</td><td>10</td><td>0451169530</td><td>463.0</td><td>4492.0</td><td>8.587381</td></tr><tr><td>212719</td><td>9</td><td>0451169530</td><td>463.0</td><td>18306.0</td><td>6.78316</td></tr><tr><td>12926</td><td>10</td><td>0451169530</td><td>463.0</td><td>32133.0</td><td>9.053943</td></tr><tr><td>104665</td><td>7</td><td>0451169530</td><td>463.0</td><td>298.0</td><td>1.4073136</td></tr><tr><td>262902</td><td>7</td><td>0451169530</td><td>463.0</td><td>1744.0</td><td>4.148409</td></tr><tr><td>230522</td><td>0</td><td>0451169530</td><td>463.0</td><td>11.0</td><td>1.4690199</td></tr><tr><td>64943</td><td>0</td><td>0451169530</td><td>463.0</td><td>3223.0</td><td>0.0</td></tr><tr><td>153042</td><td>7</td><td>0451169530</td><td>463.0</td><td>2221.0</td><td>3.0562854</td></tr><tr><td>175100</td><td>9</td><td>0451169530</td><td>463.0</td><td>2360.0</td><td>5.36494</td></tr><tr><td>196502</td><td>10</td><td>0451169530</td><td>463.0</td><td>561.0</td><td>3.8410552</td></tr><tr><td>107523</td><td>4</td><td>0451169530</td><td>463.0</td><td>8938.0</td><td>5.024272</td></tr><tr><td>154529</td><td>9</td><td>0451169530</td><td>463.0</td><td>2538.0</td><td>7.143716</td></tr><tr><td>248464</td><td>10</td><td>0451169530</td><td>463.0</td><td>2605.0</td><td>3.888368</td></tr><tr><td>117176</td><td>10</td><td>0451169530</td><td>463.0</td><td>41462.0</td><td>8.481952</td></tr><tr><td>37512</td><td>0</td><td>0451169530</td><td>463.0</td><td>2144.0</td><td>2.0596583</td></tr><tr><td>242083</td><td>10</td><td>0451169530</td><td>463.0</td><td>573.0</td><td>5.4014883</td></tr><tr><td>14897</td><td>0</td><td>0451169530</td><td>463.0</td><td>1986.0</td><td>0.5673948</td></tr><tr><td>114371</td><td>9</td><td>0451169530</td><td>463.0</td><td>24365.0</td><td>5.965343</td></tr><tr><td>244994</td><td>0</td><td>0451169530</td><td>463.0</td><td>901.0</td><td>0.46489364</td></tr><tr><td>254241</td><td>0</td><td>0451169530</td><td>463.0</td><td>1090.0</td><td>0.0</td></tr><tr><td>154844</td><td>10</td><td>0451169530</td><td>463.0</td><td>3033.0</td><td>5.6264415</td></tr><tr><td>35065</td><td>10</td><td>0451169530</td><td>463.0</td><td>45527.0</td><td>8.481952</td></tr><tr><td>250322</td><td>0</td><td>0451169530</td><td>463.0</td><td>9869.0</td><td>3.0824192</td></tr><tr><td>11676</td><td>5</td><td>0451169530</td><td>463.0</td><td>0.0</td><td>4.803351</td></tr><tr><td>261208</td><td>0</td><td>0451169530</td><td>463.0</td><td>10642.0</td><td>1.5975379</td></tr><tr><td>132203</td><td>8</td><td>0451169530</td><td>463.0</td><td>6804.0</td><td>5.381856</td></tr><tr><td>237747</td><td>0</td><td>0441790348</td><td>471.0</td><td>32460.0</td><td>2.5352092</td></tr><tr><td>107044</td><td>0</td><td>0441790348</td><td>471.0</td><td>3352.0</td><td>3.4747849</td></tr><tr><td>178199</td><td>8</td><td>0441790348</td><td>471.0</td><td>808.0</td><td>3.9778621</td></tr><tr><td>138138</td><td>10</td><td>0441790348</td><td>471.0</td><td>3098.0</td><td>6.1686583</td></tr><tr><td>87555</td><td>0</td><td>0441790348</td><td>471.0</td><td>65.0</td><td>1.1366339</td></tr><tr><td>142121</td><td>0</td><td>0441790348</td><td>471.0</td><td>879.0</td><td>2.5792608</td></tr><tr><td>165319</td><td>9</td><td>0441790348</td><td>471.0</td><td>321.0</td><td>3.3550022</td></tr><tr><td>142584</td><td>10</td><td>0441790348</td><td>471.0</td><td>5771.0</td><td>5.77126</td></tr><tr><td>259810</td><td>10</td><td>0441790348</td><td>471.0</td><td>23249.0</td><td>7.6424146</td></tr><tr><td>192832</td><td>0</td><td>0441790348</td><td>471.0</td><td>26553.0</td><td>0.0</td></tr><tr><td>56399</td><td>10</td><td>0441790348</td><td>471.0</td><td>101.0</td><td>4.9747</td></tr><tr><td>78834</td><td>0</td><td>0441790348</td><td>471.0</td><td>126.0</td><td>1.8743649</td></tr><tr><td>20172</td><td>10</td><td>0441790348</td><td>471.0</td><td>1869.0</td><td>5.1644754</td></tr><tr><td>209536</td><td>0</td><td>0441790348</td><td>471.0</td><td>3008.0</td><td>2.2728577</td></tr><tr><td>231210</td><td>0</td><td>0441790348</td><td>471.0</td><td>28.0</td><td>1.3705864</td></tr><tr><td>200993</td><td>0</td><td>0441790348</td><td>471.0</td><td>2313.0</td><td>1.4057039</td></tr><tr><td>256402</td><td>0</td><td>0441790348</td><td>471.0</td><td>787.0</td><td>1.916421</td></tr><tr><td>25409</td><td>8</td><td>0441790348</td><td>471.0</td><td>332.0</td><td>4.523087</td></tr><tr><td>59059</td><td>0</td><td>0441790348</td><td>471.0</td><td>2738.0</td><td>2.4947362</td></tr><tr><td>225191</td><td>0</td><td>0441790348</td><td>471.0</td><td>7516.0</td><td>4.2670093</td></tr><tr><td>163200</td><td>9</td><td>0441790348</td><td>471.0</td><td>35264.0</td><td>7.637172</td></tr><tr><td>237898</td><td>4</td><td>0441790348</td><td>471.0</td><td>5238.0</td><td>4.531012</td></tr><tr><td>68256</td><td>0</td><td>0441790348</td><td>471.0</td><td>2168.0</td><td>1.750786</td></tr><tr><td>251613</td><td>7</td><td>0441790348</td><td>471.0</td><td>91.0</td><td>0.5147719</td></tr><tr><td>271705</td><td>9</td><td>0441790348</td><td>471.0</td><td>601.0</td><td>3.9458153</td></tr><tr><td>241414</td><td>10</td><td>0441790348</td><td>471.0</td><td>7216.0</td><td>3.2968109</td></tr><tr><td>217934</td><td>10</td><td>0441790348</td><td>471.0</td><td>9653.0</td><td>4.7136703</td></tr><tr><td>252220</td><td>0</td><td>0441790348</td><td>471.0</td><td>84598.0</td><td>0.0</td></tr><tr><td>155014</td><td>0</td><td>0441790348</td><td>471.0</td><td>618.0</td><td>2.136435</td></tr><tr><td>219871</td><td>10</td><td>0441790348</td><td>471.0</td><td>62326.0</td><td>8.433651</td></tr><tr><td>251739</td><td>8</td><td>0441790348</td><td>471.0</td><td>5018.0</td><td>4.966103</td></tr><tr><td>87746</td><td>0</td><td>0441790348</td><td>471.0</td><td>146.0</td><td>0.028277945</td></tr><tr><td>224768</td><td>6</td><td>0441790348</td><td>471.0</td><td>2775.0</td><td>4.5037856</td></tr><tr><td>42450</td><td>9</td><td>0441790348</td><td>471.0</td><td>4979.0</td><td>4.163887</td></tr><tr><td>65377</td><td>7</td><td>0441790348</td><td>471.0</td><td>12780.0</td><td>4.897737</td></tr><tr><td>204864</td><td>0</td><td>0441790348</td><td>471.0</td><td>13.0</td><td>2.70749</td></tr><tr><td>139228</td><td>9</td><td>0441790348</td><td>471.0</td><td>84453.0</td><td>7.5902863</td></tr><tr><td>36441</td><td>0</td><td>0441790348</td><td>471.0</td><td>6961.0</td><td>0.88536745</td></tr><tr><td>147224</td><td>0</td><td>0441790348</td><td>471.0</td><td>881.0</td><td>2.1951103</td></tr><tr><td>163202</td><td>10</td><td>0441790348</td><td>471.0</td><td>1074.0</td><td>3.93848</td></tr><tr><td>205505</td><td>0</td><td>0441790348</td><td>471.0</td><td>10998.0</td><td>2.2351856</td></tr><tr><td>69810</td><td>0</td><td>0441790348</td><td>471.0</td><td>2177.0</td><td>0.6519357</td></tr><tr><td>128331</td><td>0</td><td>0441790348</td><td>471.0</td><td>2245.0</td><td>2.120647</td></tr><tr><td>78438</td><td>10</td><td>0441790348</td><td>471.0</td><td>11765.0</td><td>4.868235</td></tr><tr><td>44893</td><td>9</td><td>0441790348</td><td>471.0</td><td>1128.0</td><td>4.3682365</td></tr><tr><td>197659</td><td>9</td><td>0441790348</td><td>471.0</td><td>117.0</td><td>5.740602</td></tr><tr><td>68436</td><td>9</td><td>0441790348</td><td>471.0</td><td>2041.0</td><td>6.198642</td></tr><tr><td>267081</td><td>0</td><td>0441790348</td><td>471.0</td><td>46490.0</td><td>0.0</td></tr><tr><td>197775</td><td>0</td><td>0441790348</td><td>471.0</td><td>455.0</td><td>0.67728144</td></tr><tr><td>177432</td><td>8</td><td>0441790348</td><td>471.0</td><td>511.0</td><td>6.7397327</td></tr><tr><td>75595</td><td>0</td><td>0441790348</td><td>471.0</td><td>1073.0</td><td>0.34756175</td></tr><tr><td>39600</td><td>0</td><td>0441790348</td><td>471.0</td><td>34044.0</td><td>0.0</td></tr><tr><td>114016</td><td>10</td><td>0441790348</td><td>471.0</td><td>14042.0</td><td>6.0309315</td></tr><tr><td>204260</td><td>6</td><td>0441790348</td><td>471.0</td><td>49590.0</td><td>5.0601907</td></tr><tr><td>248718</td><td>9</td><td>0441790348</td><td>471.0</td><td>88.0</td><td>5.39605</td></tr><tr><td>97573</td><td>7</td><td>0441790348</td><td>471.0</td><td>25981.0</td><td>5.914764</td></tr><tr><td>77809</td><td>0</td><td>0441790348</td><td>471.0</td><td>374.0</td><td>1.8993285</td></tr><tr><td>55492</td><td>0</td><td>0441790348</td><td>471.0</td><td>17.0</td><td>0.5556934</td></tr><tr><td>119229</td><td>8</td><td>0441790348</td><td>471.0</td><td>11296.0</td><td>3.0479412</td></tr><tr><td>115792</td><td>7</td><td>0441790348</td><td>471.0</td><td>20207.0</td><td>6.0454097</td></tr><tr><td>201926</td><td>0</td><td>0441790348</td><td>471.0</td><td>8945.0</td><td>2.9789717</td></tr><tr><td>250973</td><td>0</td><td>0441790348</td><td>471.0</td><td>37214.0</td><td>0.0</td></tr><tr><td>144447</td><td>8</td><td>0441790348</td><td>471.0</td><td>71546.0</td><td>6.746921</td></tr><tr><td>196598</td><td>8</td><td>0441790348</td><td>471.0</td><td>5521.0</td><td>2.8017852</td></tr><tr><td>39773</td><td>0</td><td>0441790348</td><td>471.0</td><td>610.0</td><td>2.228561</td></tr><tr><td>154198</td><td>10</td><td>0441790348</td><td>471.0</td><td>44667.0</td><td>8.433651</td></tr><tr><td>208141</td><td>0</td><td>0441790348</td><td>471.0</td><td>485.0</td><td>2.1334846</td></tr><tr><td>59971</td><td>0</td><td>0441790348</td><td>471.0</td><td>456.0</td><td>0.7516996</td></tr><tr><td>4938</td><td>10</td><td>0441790348</td><td>471.0</td><td>2338.0</td><td>3.592502</td></tr><tr><td>271306</td><td>10</td><td>0441790348</td><td>471.0</td><td>3563.0</td><td>6.471056</td></tr><tr><td>37950</td><td>7</td><td>0441790348</td><td>471.0</td><td>173.0</td><td>3.0207627</td></tr><tr><td>148192</td><td>0</td><td>0441790348</td><td>471.0</td><td>7136.0</td><td>2.6725738</td></tr><tr><td>27472</td><td>0</td><td>0441790348</td><td>471.0</td><td>1116.0</td><td>4.198874</td></tr><tr><td>212760</td><td>8</td><td>0441790348</td><td>471.0</td><td>24929.0</td><td>4.1262746</td></tr><tr><td>3939</td><td>8</td><td>0441790348</td><td>471.0</td><td>36908.0</td><td>6.549716</td></tr><tr><td>233137</td><td>10</td><td>0441790348</td><td>471.0</td><td>16211.0</td><td>3.6588342</td></tr><tr><td>161870</td><td>3</td><td>0441790348</td><td>471.0</td><td>1914.0</td><td>3.6529276</td></tr><tr><td>95359</td><td>0</td><td>0441790348</td><td>471.0</td><td>51.0</td><td>4.0879774</td></tr><tr><td>115161</td><td>0</td><td>0441790348</td><td>471.0</td><td>12335.0</td><td>4.184559</td></tr><tr><td>269792</td><td>10</td><td>0441790348</td><td>471.0</td><td>40510.0</td><td>7.5812025</td></tr><tr><td>83671</td><td>0</td><td>0441790348</td><td>471.0</td><td>821.0</td><td>5.4163446</td></tr><tr><td>190741</td><td>0</td><td>0441790348</td><td>471.0</td><td>869.0</td><td>1.7670138</td></tr><tr><td>149483</td><td>8</td><td>0441790348</td><td>471.0</td><td>5798.0</td><td>7.346432</td></tr><tr><td>235884</td><td>10</td><td>0441790348</td><td>471.0</td><td>7438.0</td><td>7.297413</td></tr><tr><td>151795</td><td>8</td><td>0441790348</td><td>471.0</td><td>38195.0</td><td>6.695865</td></tr><tr><td>271589</td><td>0</td><td>0441790348</td><td>471.0</td><td>19395.0</td><td>4.289142</td></tr><tr><td>202000</td><td>7</td><td>0441790348</td><td>471.0</td><td>6320.0</td><td>4.56252</td></tr><tr><td>121167</td><td>7</td><td>0441790348</td><td>471.0</td><td>8418.0</td><td>5.853652</td></tr><tr><td>218390</td><td>0</td><td>0441790348</td><td>471.0</td><td>59805.0</td><td>0.0</td></tr><tr><td>56847</td><td>0</td><td>0441790348</td><td>471.0</td><td>18016.0</td><td>1.8561933</td></tr><tr><td>60244</td><td>0</td><td>0441790348</td><td>471.0</td><td>25.0</td><td>1.6184357</td></tr><tr><td>115490</td><td>0</td><td>0441790348</td><td>471.0</td><td>245.0</td><td>0.94596773</td></tr><tr><td>160401</td><td>10</td><td>0441790348</td><td>471.0</td><td>1147.0</td><td>3.7954996</td></tr><tr><td>171118</td><td>8</td><td>0441790348</td><td>471.0</td><td>24.0</td><td>3.1974127</td></tr><tr><td>86959</td><td>10</td><td>0441790348</td><td>471.0</td><td>2551.0</td><td>2.5628293</td></tr><tr><td>171783</td><td>9</td><td>0441790348</td><td>471.0</td><td>4686.0</td><td>2.7047067</td></tr><tr><td>234828</td><td>8</td><td>0441790348</td><td>471.0</td><td>95.0</td><td>3.3852375</td></tr><tr><td>96493</td><td>10</td><td>0441790348</td><td>471.0</td><td>2948.0</td><td>2.5070357</td></tr><tr><td>102967</td><td>0</td><td>0441790348</td><td>471.0</td><td>21.0</td><td>0.37339386</td></tr><tr><td>204333</td><td>7</td><td>0441790348</td><td>471.0</td><td>7414.0</td><td>3.0933554</td></tr><tr><td>102359</td><td>0</td><td>0441790348</td><td>471.0</td><td>911.0</td><td>6.5429816</td></tr><tr><td>84201</td><td>0</td><td>0441790348</td><td>471.0</td><td>2088.0</td><td>2.4774988</td></tr><tr><td>267326</td><td>10</td><td>0441790348</td><td>471.0</td><td>3268.0</td><td>2.798548</td></tr><tr><td>201323</td><td>10</td><td>0441790348</td><td>471.0</td><td>10621.0</td><td>7.8290415</td></tr><tr><td>154070</td><td>0</td><td>0441790348</td><td>471.0</td><td>1196.0</td><td>1.8449814</td></tr><tr><td>73651</td><td>0</td><td>0441790348</td><td>471.0</td><td>536.0</td><td>1.9668157</td></tr><tr><td>175278</td><td>5</td><td>0441790348</td><td>471.0</td><td>4611.0</td><td>2.8082929</td></tr><tr><td>230522</td><td>9</td><td>0441790348</td><td>471.0</td><td>11.0</td><td>1.2562667</td></tr><tr><td>9856</td><td>0</td><td>0441790348</td><td>471.0</td><td>872.0</td><td>2.0875866</td></tr><tr><td>100906</td><td>9</td><td>0441790348</td><td>471.0</td><td>106.0</td><td>3.6518555</td></tr><tr><td>56856</td><td>0</td><td>0441790348</td><td>471.0</td><td>119.0</td><td>1.2458578</td></tr><tr><td>251003</td><td>8</td><td>0441790348</td><td>471.0</td><td>2308.0</td><td>4.683586</td></tr><tr><td>225763</td><td>0</td><td>0441790348</td><td>471.0</td><td>149.0</td><td>1.7083712</td></tr><tr><td>255078</td><td>9</td><td>0441790348</td><td>471.0</td><td>1316.0</td><td>3.302749</td></tr><tr><td>93537</td><td>9</td><td>0441790348</td><td>471.0</td><td>14045.0</td><td>3.5657876</td></tr><tr><td>2982</td><td>8</td><td>0441790348</td><td>471.0</td><td>18813.0</td><td>3.0533524</td></tr><tr><td>6798</td><td>7</td><td>0441790348</td><td>471.0</td><td>65211.0</td><td>5.903557</td></tr><tr><td>37512</td><td>5</td><td>0441790348</td><td>471.0</td><td>2144.0</td><td>1.8860812</td></tr><tr><td>82926</td><td>0</td><td>0441790348</td><td>471.0</td><td>722.0</td><td>3.3054837E-6</td></tr><tr><td>147835</td><td>5</td><td>0441790348</td><td>471.0</td><td>29140.0</td><td>2.662921</td></tr><tr><td>250962</td><td>0</td><td>0441790348</td><td>471.0</td><td>571.0</td><td>2.6796691</td></tr><tr><td>35490</td><td>0</td><td>0441790348</td><td>471.0</td><td>4060.0</td><td>2.5931382</td></tr><tr><td>106007</td><td>0</td><td>0441790348</td><td>471.0</td><td>873.0</td><td>4.9801373</td></tr><tr><td>248072</td><td>8</td><td>0441790348</td><td>471.0</td><td>36730.0</td><td>5.4479947</td></tr><tr><td>11832</td><td>0</td><td>0441790348</td><td>471.0</td><td>5002.0</td><td>4.370923</td></tr><tr><td>156144</td><td>9</td><td>0441790348</td><td>471.0</td><td>24278.0</td><td>6.132511</td></tr><tr><td>11676</td><td>8</td><td>0441790348</td><td>471.0</td><td>0.0</td><td>4.782488</td></tr><tr><td>196457</td><td>0</td><td>0441790348</td><td>471.0</td><td>656.0</td><td>0.85605377</td></tr><tr><td>271792</td><td>4</td><td>0441790348</td><td>471.0</td><td>13642.0</td><td>2.7747104</td></tr><tr><td>209683</td><td>8</td><td>0441790348</td><td>471.0</td><td>65357.0</td><td>6.746921</td></tr><tr><td>170513</td><td>9</td><td>038529929X</td><td>496.0</td><td>463.0</td><td>2.2554224</td></tr><tr><td>258534</td><td>9</td><td>038529929X</td><td>496.0</td><td>243.0</td><td>2.5392475</td></tr><tr><td>217986</td><td>8</td><td>038529929X</td><td>496.0</td><td>1127.0</td><td>2.1869948</td></tr><tr><td>15651</td><td>0</td><td>038529929X</td><td>496.0</td><td>2655.0</td><td>2.2078276</td></tr><tr><td>162639</td><td>0</td><td>038529929X</td><td>496.0</td><td>53.0</td><td>1.7468364</td></tr><tr><td>136205</td><td>0</td><td>038529929X</td><td>496.0</td><td>255.0</td><td>1.1164536</td></tr><tr><td>251327</td><td>0</td><td>038529929X</td><td>496.0</td><td>2739.0</td><td>2.109815</td></tr><tr><td>270820</td><td>0</td><td>038529929X</td><td>496.0</td><td>756.0</td><td>2.2411711</td></tr><tr><td>229741</td><td>0</td><td>038529929X</td><td>496.0</td><td>772.0</td><td>3.032015</td></tr><tr><td>254053</td><td>0</td><td>038529929X</td><td>496.0</td><td>2522.0</td><td>1.9833858</td></tr><tr><td>62968</td><td>7</td><td>038529929X</td><td>496.0</td><td>7321.0</td><td>3.3899968</td></tr><tr><td>117557</td><td>6</td><td>038529929X</td><td>496.0</td><td>14644.0</td><td>3.3312871</td></tr><tr><td>17935</td><td>8</td><td>038529929X</td><td>496.0</td><td>76734.0</td><td>5.8244333</td></tr><tr><td>257118</td><td>0</td><td>038529929X</td><td>496.0</td><td>23025.0</td><td>2.6486533</td></tr><tr><td>52084</td><td>0</td><td>038529929X</td><td>496.0</td><td>41038.0</td><td>0.0</td></tr><tr><td>205602</td><td>2</td><td>038529929X</td><td>496.0</td><td>29149.0</td><td>3.5232317</td></tr><tr><td>248138</td><td>5</td><td>038529929X</td><td>496.0</td><td>2595.0</td><td>1.7608706</td></tr><tr><td>149069</td><td>10</td><td>038529929X</td><td>496.0</td><td>663.0</td><td>2.382528</td></tr><tr><td>185176</td><td>0</td><td>038529929X</td><td>496.0</td><td>1077.0</td><td>2.595864</td></tr><tr><td>225366</td><td>7</td><td>038529929X</td><td>496.0</td><td>7080.0</td><td>1.4031556</td></tr><tr><td>254206</td><td>6</td><td>038529929X</td><td>496.0</td><td>654.0</td><td>5.504479</td></tr><tr><td>47975</td><td>0</td><td>038529929X</td><td>496.0</td><td>4459.0</td><td>1.8085134</td></tr><tr><td>224626</td><td>6</td><td>038529929X</td><td>496.0</td><td>15508.0</td><td>6.0203714</td></tr><tr><td>108405</td><td>10</td><td>038529929X</td><td>496.0</td><td>1244.0</td><td>3.3185263</td></tr><tr><td>225989</td><td>0</td><td>038529929X</td><td>496.0</td><td>774.0</td><td>0.4441437</td></tr><tr><td>148613</td><td>4</td><td>038529929X</td><td>496.0</td><td>19271.0</td><td>2.3228111</td></tr><tr><td>198711</td><td>0</td><td>038529929X</td><td>496.0</td><td>1.0</td><td>0.009959557</td></tr><tr><td>215986</td><td>0</td><td>038529929X</td><td>496.0</td><td>2364.0</td><td>3.5825336</td></tr><tr><td>211767</td><td>0</td><td>038529929X</td><td>496.0</td><td>7078.0</td><td>1.0671468</td></tr><tr><td>236645</td><td>0</td><td>038529929X</td><td>496.0</td><td>33670.0</td><td>0.0</td></tr><tr><td>117852</td><td>0</td><td>038529929X</td><td>496.0</td><td>3541.0</td><td>0.8530716</td></tr><tr><td>275470</td><td>8</td><td>038529929X</td><td>496.0</td><td>47945.0</td><td>5.8244333</td></tr><tr><td>211722</td><td>0</td><td>038529929X</td><td>496.0</td><td>52259.0</td><td>0.0</td></tr><tr><td>112001</td><td>0</td><td>038529929X</td><td>496.0</td><td>218.0</td><td>3.2893472</td></tr><tr><td>16634</td><td>0</td><td>038529929X</td><td>496.0</td><td>94.0</td><td>1.6018671</td></tr><tr><td>127429</td><td>0</td><td>038529929X</td><td>496.0</td><td>57.0</td><td>1.4993782E-7</td></tr><tr><td>17950</td><td>8</td><td>038529929X</td><td>496.0</td><td>339.0</td><td>1.6663706</td></tr><tr><td>270026</td><td>0</td><td>038529929X</td><td>496.0</td><td>12632.0</td><td>2.2252445</td></tr><tr><td>210485</td><td>0</td><td>038529929X</td><td>496.0</td><td>235.0</td><td>2.2488058</td></tr><tr><td>101696</td><td>0</td><td>038529929X</td><td>496.0</td><td>4159.0</td><td>2.3039286</td></tr><tr><td>152020</td><td>0</td><td>038529929X</td><td>496.0</td><td>12290.0</td><td>2.4543726</td></tr><tr><td>46230</td><td>0</td><td>038529929X</td><td>496.0</td><td>32607.0</td><td>0.0</td></tr><tr><td>201526</td><td>0</td><td>038529929X</td><td>496.0</td><td>191.0</td><td>0.6397089</td></tr><tr><td>243181</td><td>0</td><td>038529929X</td><td>496.0</td><td>74888.0</td><td>0.0</td></tr><tr><td>127470</td><td>0</td><td>038529929X</td><td>496.0</td><td>80765.0</td><td>0.0</td></tr><tr><td>23511</td><td>0</td><td>038529929X</td><td>496.0</td><td>1569.0</td><td>1.9217324</td></tr><tr><td>274308</td><td>0</td><td>038529929X</td><td>496.0</td><td>64.0</td><td>0.3496517</td></tr><tr><td>8362</td><td>0</td><td>038529929X</td><td>496.0</td><td>1299.0</td><td>1.1956407</td></tr><tr><td>95697</td><td>0</td><td>038529929X</td><td>496.0</td><td>44713.0</td><td>0.0</td></tr><tr><td>111944</td><td>0</td><td>038529929X</td><td>496.0</td><td>1688.0</td><td>4.056793</td></tr><tr><td>182403</td><td>9</td><td>038529929X</td><td>496.0</td><td>2910.0</td><td>3.4664426</td></tr><tr><td>268300</td><td>8</td><td>038529929X</td><td>496.0</td><td>1253.0</td><td>5.0015426</td></tr><tr><td>257927</td><td>5</td><td>038529929X</td><td>496.0</td><td>19132.0</td><td>2.5606153</td></tr><tr><td>59770</td><td>5</td><td>038529929X</td><td>496.0</td><td>1950.0</td><td>1.9090182</td></tr><tr><td>250330</td><td>0</td><td>038529929X</td><td>496.0</td><td>993.0</td><td>0.88582796</td></tr><tr><td>235267</td><td>8</td><td>038529929X</td><td>496.0</td><td>48901.0</td><td>5.8244333</td></tr><tr><td>182442</td><td>0</td><td>038529929X</td><td>496.0</td><td>1159.0</td><td>0.8726676</td></tr><tr><td>115692</td><td>9</td><td>038529929X</td><td>496.0</td><td>1698.0</td><td>3.814528</td></tr><tr><td>160346</td><td>10</td><td>038529929X</td><td>496.0</td><td>14802.0</td><td>4.2843695</td></tr><tr><td>98625</td><td>0</td><td>038529929X</td><td>496.0</td><td>17933.0</td><td>1.3943939</td></tr><tr><td>176875</td><td>0</td><td>038529929X</td><td>496.0</td><td>1536.0</td><td>1.1549824</td></tr><tr><td>16459</td><td>9</td><td>038529929X</td><td>496.0</td><td>29515.0</td><td>5.360191</td></tr><tr><td>178522</td><td>9</td><td>038529929X</td><td>496.0</td><td>1037.0</td><td>4.2163076</td></tr><tr><td>237070</td><td>3</td><td>038529929X</td><td>496.0</td><td>6551.0</td><td>3.864329</td></tr><tr><td>155989</td><td>0</td><td>038529929X</td><td>496.0</td><td>10167.0</td><td>3.037867</td></tr><tr><td>87141</td><td>8</td><td>038529929X</td><td>496.0</td><td>55.0</td><td>1.3759168</td></tr><tr><td>201760</td><td>0</td><td>038529929X</td><td>496.0</td><td>3229.0</td><td>1.2726629</td></tr><tr><td>123460</td><td>0</td><td>038529929X</td><td>496.0</td><td>1279.0</td><td>1.416721</td></tr><tr><td>133935</td><td>5</td><td>038529929X</td><td>496.0</td><td>2832.0</td><td>2.227107</td></tr><tr><td>55490</td><td>10</td><td>038529929X</td><td>496.0</td><td>428.0</td><td>5.1932964</td></tr><tr><td>108005</td><td>10</td><td>038529929X</td><td>496.0</td><td>794.0</td><td>1.1502686</td></tr><tr><td>182993</td><td>8</td><td>038529929X</td><td>496.0</td><td>438.0</td><td>2.5552485</td></tr><tr><td>255618</td><td>0</td><td>038529929X</td><td>496.0</td><td>1887.0</td><td>0.44086602</td></tr><tr><td>137663</td><td>0</td><td>038529929X</td><td>496.0</td><td>10554.0</td><td>2.3905096</td></tr><tr><td>255489</td><td>3</td><td>038529929X</td><td>496.0</td><td>239.0</td><td>1.528448</td></tr><tr><td>76867</td><td>0</td><td>038529929X</td><td>496.0</td><td>80175.0</td><td>0.0</td></tr><tr><td>152435</td><td>3</td><td>038529929X</td><td>496.0</td><td>1638.0</td><td>4.070506</td></tr><tr><td>115998</td><td>8</td><td>038529929X</td><td>496.0</td><td>11032.0</td><td>4.8817787</td></tr><tr><td>198044</td><td>0</td><td>038529929X</td><td>496.0</td><td>35775.0</td><td>1.8816874</td></tr><tr><td>120548</td><td>0</td><td>038529929X</td><td>496.0</td><td>459.0</td><td>0.9529713</td></tr><tr><td>167556</td><td>2</td><td>038529929X</td><td>496.0</td><td>5915.0</td><td>3.0697477</td></tr><tr><td>114414</td><td>0</td><td>038529929X</td><td>496.0</td><td>102.0</td><td>0.37426025</td></tr><tr><td>143594</td><td>0</td><td>038529929X</td><td>496.0</td><td>12282.0</td><td>1.8675904</td></tr><tr><td>276111</td><td>5</td><td>038529929X</td><td>496.0</td><td>18764.0</td><td>3.2496543</td></tr><tr><td>78973</td><td>0</td><td>038529929X</td><td>496.0</td><td>216.0</td><td>4.088619</td></tr><tr><td>152582</td><td>3</td><td>038529929X</td><td>496.0</td><td>14839.0</td><td>3.6041768</td></tr><tr><td>149908</td><td>0</td><td>038529929X</td><td>496.0</td><td>418.0</td><td>2.098847</td></tr><tr><td>270829</td><td>0</td><td>038529929X</td><td>496.0</td><td>4243.0</td><td>1.0535928</td></tr><tr><td>7158</td><td>0</td><td>038529929X</td><td>496.0</td><td>356.0</td><td>0.91813225</td></tr><tr><td>130950</td><td>7</td><td>038529929X</td><td>496.0</td><td>3318.0</td><td>2.6039712</td></tr><tr><td>39646</td><td>0</td><td>038529929X</td><td>496.0</td><td>237.0</td><td>0.32630238</td></tr><tr><td>246722</td><td>0</td><td>038529929X</td><td>496.0</td><td>9214.0</td><td>0.3975372</td></tr><tr><td>6772</td><td>0</td><td>038529929X</td><td>496.0</td><td>2669.0</td><td>1.6974778</td></tr><tr><td>21333</td><td>9</td><td>038529929X</td><td>496.0</td><td>19491.0</td><td>3.4351935</td></tr><tr><td>247726</td><td>3</td><td>038529929X</td><td>496.0</td><td>9561.0</td><td>3.054522</td></tr><tr><td>42944</td><td>0</td><td>038529929X</td><td>496.0</td><td>10406.0</td><td>0.59227014</td></tr><tr><td>238120</td><td>0</td><td>038529929X</td><td>496.0</td><td>60.0</td><td>0.34691536</td></tr><tr><td>199416</td><td>0</td><td>038529929X</td><td>496.0</td><td>621.0</td><td>2.1046438</td></tr><tr><td>117925</td><td>8</td><td>038529929X</td><td>496.0</td><td>7659.0</td><td>4.7472944</td></tr><tr><td>262902</td><td>0</td><td>038529929X</td><td>496.0</td><td>1744.0</td><td>2.961375</td></tr><tr><td>242639</td><td>0</td><td>038529929X</td><td>496.0</td><td>2518.0</td><td>3.0696468</td></tr><tr><td>230522</td><td>0</td><td>038529929X</td><td>496.0</td><td>11.0</td><td>0.98436075</td></tr><tr><td>73394</td><td>0</td><td>038529929X</td><td>496.0</td><td>33.0</td><td>0.11177245</td></tr><tr><td>101851</td><td>6</td><td>038529929X</td><td>496.0</td><td>204.0</td><td>4.0521398</td></tr><tr><td>71712</td><td>0</td><td>038529929X</td><td>496.0</td><td>525.0</td><td>1.2475559</td></tr><tr><td>36836</td><td>0</td><td>038529929X</td><td>496.0</td><td>14.0</td><td>0.686657</td></tr><tr><td>226879</td><td>0</td><td>038529929X</td><td>496.0</td><td>349.0</td><td>1.4060316</td></tr><tr><td>122716</td><td>6</td><td>038529929X</td><td>496.0</td><td>1433.0</td><td>2.9445353</td></tr><tr><td>224435</td><td>0</td><td>038529929X</td><td>496.0</td><td>778.0</td><td>0.46302065</td></tr><tr><td>242083</td><td>9</td><td>038529929X</td><td>496.0</td><td>573.0</td><td>3.7655067</td></tr><tr><td>225379</td><td>8</td><td>038529929X</td><td>496.0</td><td>1836.0</td><td>4.4899697</td></tr><tr><td>43842</td><td>10</td><td>038529929X</td><td>496.0</td><td>186.0</td><td>0.8340236</td></tr><tr><td>112188</td><td>0</td><td>038529929X</td><td>496.0</td><td>7834.0</td><td>1.0867945</td></tr><tr><td>135821</td><td>7</td><td>038529929X</td><td>496.0</td><td>21267.0</td><td>2.7459333</td></tr><tr><td>37951</td><td>6</td><td>038529929X</td><td>496.0</td><td>46609.0</td><td>4.3683248</td></tr><tr><td>268734</td><td>0</td><td>038529929X</td><td>496.0</td><td>6871.0</td><td>2.783621</td></tr><tr><td>657</td><td>6</td><td>038529929X</td><td>496.0</td><td>25959.0</td><td>2.6721642</td></tr><tr><td>92398</td><td>7</td><td>038529929X</td><td>496.0</td><td>6104.0</td><td>5.1556745</td></tr><tr><td>179744</td><td>0</td><td>038529929X</td><td>496.0</td><td>551.0</td><td>1.389333</td></tr><tr><td>83077</td><td>7</td><td>038529929X</td><td>496.0</td><td>78946.0</td><td>5.0963793</td></tr><tr><td>11676</td><td>0</td><td>038529929X</td><td>496.0</td><td>0.0</td><td>3.5312152</td></tr><tr><td>52584</td><td>0</td><td>038529929X</td><td>496.0</td><td>18.0</td><td>0.48253748</td></tr><tr><td>154773</td><td>0</td><td>038529929X</td><td>496.0</td><td>1900.0</td><td>0.8423051</td></tr><tr><td>116856</td><td>9</td><td>038529929X</td><td>496.0</td><td>8796.0</td><td>3.2473497</td></tr><tr><td>13582</td><td>9</td><td>038529929X</td><td>496.0</td><td>991.0</td><td>2.0746732</td></tr><tr><td>94583</td><td>8</td><td>038529929X</td><td>496.0</td><td>69660.0</td><td>5.8244333</td></tr><tr><td>191578</td><td>0</td><td>038529929X</td><td>496.0</td><td>6794.0</td><td>1.397308</td></tr><tr><td>258534</td><td>8</td><td>0553210092</td><td>833.0</td><td>243.0</td><td>2.5931852</td></tr><tr><td>227146</td><td>0</td><td>0553210092</td><td>833.0</td><td>6482.0</td><td>3.213367</td></tr><tr><td>2366</td><td>8</td><td>0553210092</td><td>833.0</td><td>89194.0</td><td>6.2949</td></tr><tr><td>174304</td><td>8</td><td>0553210092</td><td>833.0</td><td>85.0</td><td>1.7013396</td></tr><tr><td>72844</td><td>0</td><td>0553210092</td><td>833.0</td><td>66814.0</td><td>0.0</td></tr><tr><td>35050</td><td>0</td><td>0553210092</td><td>833.0</td><td>78.0</td><td>0.106829144</td></tr><tr><td>108352</td><td>0</td><td>0553210092</td><td>833.0</td><td>593.0</td><td>1.7885644</td></tr><tr><td>149690</td><td>0</td><td>0553210092</td><td>833.0</td><td>1331.0</td><td>1.025715</td></tr><tr><td>265313</td><td>0</td><td>0553210092</td><td>833.0</td><td>115.0</td><td>1.1271291</td></tr><tr><td>90322</td><td>0</td><td>0553210092</td><td>833.0</td><td>6855.0</td><td>2.3249676</td></tr><tr><td>224138</td><td>10</td><td>0553210092</td><td>833.0</td><td>300.0</td><td>1.8739896</td></tr><tr><td>161041</td><td>9</td><td>0553210092</td><td>833.0</td><td>1489.0</td><td>4.024564</td></tr><tr><td>263163</td><td>0</td><td>0553210092</td><td>833.0</td><td>501.0</td><td>1.2951083</td></tr><tr><td>71822</td><td>0</td><td>0553210092</td><td>833.0</td><td>14813.0</td><td>0.5770946</td></tr><tr><td>189983</td><td>9</td><td>0553210092</td><td>833.0</td><td>22395.0</td><td>4.686592</td></tr><tr><td>55858</td><td>0</td><td>0553210092</td><td>833.0</td><td>1176.0</td><td>1.4728799</td></tr><tr><td>153249</td><td>7</td><td>0553210092</td><td>833.0</td><td>10410.0</td><td>4.414623</td></tr><tr><td>127384</td><td>7</td><td>0553210092</td><td>833.0</td><td>2092.0</td><td>2.595836</td></tr><tr><td>225989</td><td>0</td><td>0553210092</td><td>833.0</td><td>774.0</td><td>0.49926195</td></tr><tr><td>142801</td><td>0</td><td>0553210092</td><td>833.0</td><td>2183.0</td><td>1.1069269</td></tr><tr><td>106225</td><td>0</td><td>0553210092</td><td>833.0</td><td>182.0</td><td>0.72614235</td></tr><tr><td>16634</td><td>8</td><td>0553210092</td><td>833.0</td><td>94.0</td><td>2.195789</td></tr><tr><td>174615</td><td>0</td><td>0553210092</td><td>833.0</td><td>3632.0</td><td>1.7132868</td></tr><tr><td>151729</td><td>5</td><td>0553210092</td><td>833.0</td><td>56883.0</td><td>3.9343123</td></tr><tr><td>231827</td><td>0</td><td>0553210092</td><td>833.0</td><td>507.0</td><td>1.7368917</td></tr><tr><td>177432</td><td>7</td><td>0553210092</td><td>833.0</td><td>511.0</td><td>5.4941416</td></tr><tr><td>37400</td><td>7</td><td>0553210092</td><td>833.0</td><td>1894.0</td><td>2.9801874</td></tr><tr><td>110934</td><td>9</td><td>0553210092</td><td>833.0</td><td>590.0</td><td>5.0861044</td></tr><tr><td>224349</td><td>0</td><td>0553210092</td><td>833.0</td><td>107.0</td><td>0.97510284</td></tr><tr><td>55492</td><td>0</td><td>0553210092</td><td>833.0</td><td>17.0</td><td>0.41976193</td></tr><tr><td>139586</td><td>0</td><td>0553210092</td><td>833.0</td><td>2805.0</td><td>1.5356442</td></tr><tr><td>193676</td><td>0</td><td>0553210092</td><td>833.0</td><td>1509.0</td><td>2.4509192</td></tr><tr><td>120598</td><td>0</td><td>0553210092</td><td>833.0</td><td>1118.0</td><td>2.5003462</td></tr><tr><td>46862</td><td>6</td><td>0553210092</td><td>833.0</td><td>10489.0</td><td>2.6889708</td></tr><tr><td>156706</td><td>10</td><td>0553210092</td><td>833.0</td><td>3102.0</td><td>1.9335302</td></tr><tr><td>98741</td><td>0</td><td>0553210092</td><td>833.0</td><td>23.0</td><td>0.13706295</td></tr><tr><td>67670</td><td>0</td><td>0553210092</td><td>833.0</td><td>41948.0</td><td>0.0</td></tr><tr><td>255092</td><td>10</td><td>0553210092</td><td>833.0</td><td>648.0</td><td>2.799007</td></tr><tr><td>135778</td><td>0</td><td>0553210092</td><td>833.0</td><td>5834.0</td><td>2.414937</td></tr><tr><td>45765</td><td>10</td><td>0553210092</td><td>833.0</td><td>13793.0</td><td>3.3996933</td></tr><tr><td>131943</td><td>0</td><td>0553210092</td><td>833.0</td><td>26461.0</td><td>2.518299</td></tr><tr><td>175287</td><td>0</td><td>0553210092</td><td>833.0</td><td>3516.0</td><td>2.4024627</td></tr><tr><td>189918</td><td>0</td><td>0553210092</td><td>833.0</td><td>52182.0</td><td>0.0</td></tr><tr><td>6251</td><td>7</td><td>0553210092</td><td>833.0</td><td>129.0</td><td>2.264123</td></tr><tr><td>198336</td><td>8</td><td>0553210092</td><td>833.0</td><td>60240.0</td><td>6.2949</td></tr><tr><td>233256</td><td>0</td><td>0553210092</td><td>833.0</td><td>2851.0</td><td>1.5784454</td></tr><tr><td>96475</td><td>0</td><td>0553210092</td><td>833.0</td><td>1780.0</td><td>0.5661583</td></tr><tr><td>96142</td><td>0</td><td>0553210092</td><td>833.0</td><td>16656.0</td><td>2.750593</td></tr><tr><td>52125</td><td>9</td><td>0553210092</td><td>833.0</td><td>23703.0</td><td>4.0616813</td></tr><tr><td>11601</td><td>0</td><td>0553210092</td><td>833.0</td><td>45.0</td><td>0.30672756</td></tr><tr><td>133747</td><td>0</td><td>0553210092</td><td>833.0</td><td>181.0</td><td>1.6345727</td></tr><tr><td>106280</td><td>0</td><td>0553210092</td><td>833.0</td><td>1671.0</td><td>2.3348784</td></tr><tr><td>189536</td><td>0</td><td>0553210092</td><td>833.0</td><td>8110.0</td><td>2.1376712</td></tr><tr><td>11224</td><td>6</td><td>0553210092</td><td>833.0</td><td>2540.0</td><td>2.7805965</td></tr><tr><td>39646</td><td>0</td><td>0553210092</td><td>833.0</td><td>237.0</td><td>0.32433084</td></tr><tr><td>157799</td><td>0</td><td>0553210092</td><td>833.0</td><td>1213.0</td><td>1.7589788</td></tr><tr><td>234828</td><td>0</td><td>0553210092</td><td>833.0</td><td>95.0</td><td>3.0433896</td></tr><tr><td>101588</td><td>0</td><td>0553210092</td><td>833.0</td><td>26505.0</td><td>2.7045238</td></tr><tr><td>20029</td><td>5</td><td>0553210092</td><td>833.0</td><td>29649.0</td><td>4.1410336</td></tr><tr><td>133689</td><td>0</td><td>0553210092</td><td>833.0</td><td>653.0</td><td>1.8411016</td></tr><tr><td>251495</td><td>0</td><td>0553210092</td><td>833.0</td><td>1185.0</td><td>1.456999</td></tr><tr><td>37573</td><td>5</td><td>0553210092</td><td>833.0</td><td>3307.0</td><td>1.9549767</td></tr><tr><td>103636</td><td>8</td><td>0553210092</td><td>833.0</td><td>19539.0</td><td>3.651942</td></tr><tr><td>7769</td><td>5</td><td>0553210092</td><td>833.0</td><td>91280.0</td><td>3.9343123</td></tr><tr><td>90687</td><td>0</td><td>0553210092</td><td>833.0</td><td>8922.0</td><td>0.757051</td></tr><tr><td>102430</td><td>8</td><td>0553210092</td><td>833.0</td><td>13310.0</td><td>5.212954</td></tr><tr><td>261937</td><td>10</td><td>0553210092</td><td>833.0</td><td>19798.0</td><td>5.1003294</td></tr><tr><td>2288</td><td>5</td><td>0553210092</td><td>833.0</td><td>3748.0</td><td>2.6688776</td></tr><tr><td>42914</td><td>0</td><td>0553210092</td><td>833.0</td><td>708.0</td><td>1.750946</td></tr><tr><td>144247</td><td>8</td><td>0553210092</td><td>833.0</td><td>89955.0</td><td>6.2949</td></tr><tr><td>115105</td><td>0</td><td>0553210092</td><td>833.0</td><td>37137.0</td><td>0.0</td></tr><tr><td>143163</td><td>0</td><td>0553210092</td><td>833.0</td><td>1024.0</td><td>3.35155</td></tr><tr><td>413</td><td>8</td><td>0553210092</td><td>833.0</td><td>22497.0</td><td>4.5987086</td></tr><tr><td>179978</td><td>0</td><td>0553210092</td><td>833.0</td><td>379.0</td><td>3.0567393</td></tr><tr><td>23872</td><td>10</td><td>0553210092</td><td>833.0</td><td>270.0</td><td>5.049055</td></tr><tr><td>267602</td><td>6</td><td>0553210092</td><td>833.0</td><td>23184.0</td><td>4.2014613</td></tr><tr><td>231857</td><td>5</td><td>0553210092</td><td>833.0</td><td>357.0</td><td>1.4904847</td></tr><tr><td>200811</td><td>9</td><td>0553210092</td><td>833.0</td><td>51025.0</td><td>7.081763</td></tr><tr><td>211426</td><td>0</td><td>0553210092</td><td>833.0</td><td>118.0</td><td>1.0391424</td></tr><tr><td>250962</td><td>0</td><td>0553210092</td><td>833.0</td><td>571.0</td><td>1.7530329</td></tr><tr><td>249695</td><td>0</td><td>0553210092</td><td>833.0</td><td>1193.0</td><td>2.0516226</td></tr><tr><td>138425</td><td>0</td><td>0553210092</td><td>833.0</td><td>4628.0</td><td>1.3835115</td></tr><tr><td>19018</td><td>3</td><td>0553210092</td><td>833.0</td><td>5646.0</td><td>2.6630404</td></tr><tr><td>137688</td><td>9</td><td>0553210092</td><td>833.0</td><td>652.0</td><td>2.476499</td></tr><tr><td>148744</td><td>0</td><td>0553210092</td><td>833.0</td><td>46.0</td><td>0.5593367</td></tr><tr><td>225411</td><td>8</td><td>0553210092</td><td>833.0</td><td>1948.0</td><td>1.6270893</td></tr><tr><td>11709</td><td>0</td><td>0553210092</td><td>833.0</td><td>3837.0</td><td>1.0820489</td></tr><tr><td>11676</td><td>8</td><td>0553210092</td><td>833.0</td><td>0.0</td><td>4.0604143</td></tr><tr><td>36114</td><td>7</td><td>0553210092</td><td>833.0</td><td>44815.0</td><td>5.5080376</td></tr><tr><td>60277</td><td>0</td><td>0553210092</td><td>833.0</td><td>208.0</td><td>0.011564791</td></tr><tr><td>34593</td><td>0</td><td>0553210092</td><td>833.0</td><td>64515.0</td><td>0.0</td></tr><tr><td>277819</td><td>0</td><td>0553210092</td><td>833.0</td><td>46114.0</td><td>0.0</td></tr><tr><td>104636</td><td>8</td><td>0440193613</td><td>1088.0</td><td>148.0</td><td>2.5240974</td></tr><tr><td>243745</td><td>5</td><td>0440193613</td><td>1088.0</td><td>1522.0</td><td>1.0366094</td></tr><tr><td>21031</td><td>0</td><td>0440193613</td><td>1088.0</td><td>1466.0</td><td>1.5300069</td></tr><tr><td>246513</td><td>9</td><td>0440193613</td><td>1088.0</td><td>613.0</td><td>1.6260258</td></tr><tr><td>68555</td><td>0</td><td>0440193613</td><td>1088.0</td><td>193.0</td><td>1.3747627</td></tr><tr><td>135294</td><td>0</td><td>0440193613</td><td>1088.0</td><td>3485.0</td><td>0.0</td></tr><tr><td>8188</td><td>0</td><td>0440193613</td><td>1088.0</td><td>13873.0</td><td>2.98924</td></tr><tr><td>108285</td><td>0</td><td>0440193613</td><td>1088.0</td><td>333.0</td><td>0.6994167</td></tr><tr><td>220307</td><td>0</td><td>0440193613</td><td>1088.0</td><td>2255.0</td><td>0.7498826</td></tr><tr><td>125692</td><td>0</td><td>0440193613</td><td>1088.0</td><td>128.0</td><td>0.29476017</td></tr><tr><td>59172</td><td>9</td><td>0440193613</td><td>1088.0</td><td>230.0</td><td>1.8588644</td></tr><tr><td>252695</td><td>0</td><td>0440193613</td><td>1088.0</td><td>111.0</td><td>1.0583196</td></tr><tr><td>178093</td><td>0</td><td>0440193613</td><td>1088.0</td><td>3293.0</td><td>1.4762186</td></tr><tr><td>198711</td><td>0</td><td>0440193613</td><td>1088.0</td><td>1.0</td><td>0.008200013</td></tr><tr><td>219482</td><td>0</td><td>0440193613</td><td>1088.0</td><td>1516.0</td><td>0.0</td></tr><tr><td>247585</td><td>0</td><td>0440193613</td><td>1088.0</td><td>20614.0</td><td>0.9751798</td></tr><tr><td>278418</td><td>0</td><td>0440193613</td><td>1088.0</td><td>6.0</td><td>0.106320985</td></tr><tr><td>185233</td><td>0</td><td>0440193613</td><td>1088.0</td><td>16.0</td><td>0.74524635</td></tr><tr><td>245827</td><td>0</td><td>0440193613</td><td>1088.0</td><td>86.0</td><td>0.5832583</td></tr><tr><td>243700</td><td>0</td><td>0440193613</td><td>1088.0</td><td>998.0</td><td>1.1675907</td></tr><tr><td>227447</td><td>0</td><td>0440193613</td><td>1088.0</td><td>20.0</td><td>0.50377727</td></tr><tr><td>272715</td><td>0</td><td>0440193613</td><td>1088.0</td><td>1275.0</td><td>0.98126054</td></tr><tr><td>174851</td><td>8</td><td>0440193613</td><td>1088.0</td><td>20057.0</td><td>4.6737547</td></tr><tr><td>124487</td><td>0</td><td>0440193613</td><td>1088.0</td><td>340.0</td><td>1.2489241</td></tr><tr><td>212898</td><td>0</td><td>0440193613</td><td>1088.0</td><td>5.0</td><td>9.476454E-12</td></tr><tr><td>179733</td><td>0</td><td>0440193613</td><td>1088.0</td><td>415.0</td><td>0.41305256</td></tr><tr><td>16916</td><td>0</td><td>0440193613</td><td>1088.0</td><td>299.0</td><td>0.45698178</td></tr><tr><td>201674</td><td>0</td><td>0440193613</td><td>1088.0</td><td>644.0</td><td>0.7646183</td></tr><tr><td>106936</td><td>0</td><td>0440193613</td><td>1088.0</td><td>1250.0</td><td>0.0</td></tr><tr><td>274308</td><td>0</td><td>0440193613</td><td>1088.0</td><td>64.0</td><td>0.25687638</td></tr><tr><td>20201</td><td>0</td><td>0440193613</td><td>1088.0</td><td>764.0</td><td>1.1742182</td></tr><tr><td>254676</td><td>0</td><td>0440193613</td><td>1088.0</td><td>2220.0</td><td>0.058769993</td></tr><tr><td>238781</td><td>0</td><td>0440193613</td><td>1088.0</td><td>41.0</td><td>0.20555301</td></tr><tr><td>8936</td><td>0</td><td>0440193613</td><td>1088.0</td><td>484.0</td><td>0.96731955</td></tr><tr><td>277427</td><td>0</td><td>0440193613</td><td>1088.0</td><td>269.0</td><td>1.3063937</td></tr><tr><td>153361</td><td>9</td><td>0440193613</td><td>1088.0</td><td>1800.0</td><td>2.2797964</td></tr><tr><td>172742</td><td>0</td><td>0440193613</td><td>1088.0</td><td>37.0</td><td>0.5730067</td></tr><tr><td>113663</td><td>9</td><td>0440193613</td><td>1088.0</td><td>3280.0</td><td>3.806269</td></tr><tr><td>13552</td><td>0</td><td>0440193613</td><td>1088.0</td><td>175.0</td><td>1.5408072</td></tr><tr><td>55734</td><td>0</td><td>0440193613</td><td>1088.0</td><td>503.0</td><td>0.53024757</td></tr><tr><td>76942</td><td>0</td><td>0440193613</td><td>1088.0</td><td>307.0</td><td>0.32194728</td></tr><tr><td>178667</td><td>0</td><td>0440193613</td><td>1088.0</td><td>326.0</td><td>0.62377506</td></tr><tr><td>184299</td><td>0</td><td>0440193613</td><td>1088.0</td><td>59.0</td><td>0.7785635</td></tr><tr><td>110973</td><td>0</td><td>0440193613</td><td>1088.0</td><td>8.0</td><td>0.71181214</td></tr><tr><td>191187</td><td>0</td><td>0440193613</td><td>1088.0</td><td>495.0</td><td>0.0</td></tr><tr><td>114368</td><td>5</td><td>0440193613</td><td>1088.0</td><td>161.0</td><td>2.7470653</td></tr><tr><td>170742</td><td>0</td><td>0440193613</td><td>1088.0</td><td>524.0</td><td>0.4469342</td></tr><tr><td>69945</td><td>0</td><td>0440193613</td><td>1088.0</td><td>5092.0</td><td>0.8537364</td></tr><tr><td>16795</td><td>7</td><td>0440193613</td><td>1088.0</td><td>10.0</td><td>1.5718464</td></tr><tr><td>114414</td><td>0</td><td>0440193613</td><td>1088.0</td><td>102.0</td><td>0.29672867</td></tr><tr><td>273979</td><td>0</td><td>0440193613</td><td>1088.0</td><td>427.0</td><td>0.68052894</td></tr><tr><td>63595</td><td>0</td><td>0440193613</td><td>1088.0</td><td>1501.0</td><td>2.3061407</td></tr><tr><td>117132</td><td>7</td><td>0440193613</td><td>1088.0</td><td>4432.0</td><td>4.1458144</td></tr><tr><td>254355</td><td>0</td><td>0440193613</td><td>1088.0</td><td>5143.0</td><td>2.3873804</td></tr><tr><td>59038</td><td>0</td><td>0440193613</td><td>1088.0</td><td>1592.0</td><td>0.9987781</td></tr><tr><td>102967</td><td>0</td><td>0440193613</td><td>1088.0</td><td>21.0</td><td>0.225597</td></tr><tr><td>133689</td><td>0</td><td>0440193613</td><td>1088.0</td><td>653.0</td><td>1.4518319</td></tr><tr><td>145451</td><td>0</td><td>0440193613</td><td>1088.0</td><td>265.0</td><td>0.07667203</td></tr><tr><td>249111</td><td>0</td><td>0440193613</td><td>1088.0</td><td>749.0</td><td>1.7826954</td></tr><tr><td>230522</td><td>0</td><td>0440193613</td><td>1088.0</td><td>11.0</td><td>0.58795625</td></tr><tr><td>150498</td><td>0</td><td>0440193613</td><td>1088.0</td><td>575.0</td><td>1.1320789</td></tr><tr><td>222884</td><td>10</td><td>0440193613</td><td>1088.0</td><td>10516.0</td><td>2.9315026</td></tr><tr><td>70415</td><td>0</td><td>0440193613</td><td>1088.0</td><td>424.0</td><td>1.9148344</td></tr><tr><td>9660</td><td>5</td><td>0440193613</td><td>1088.0</td><td>4640.0</td><td>1.8487715</td></tr><tr><td>190459</td><td>0</td><td>0440193613</td><td>1088.0</td><td>529.0</td><td>0.419234</td></tr><tr><td>211426</td><td>0</td><td>0440193613</td><td>1088.0</td><td>118.0</td><td>0.7248894</td></tr><tr><td>82926</td><td>0</td><td>0440193613</td><td>1088.0</td><td>722.0</td><td>1.6239474E-6</td></tr><tr><td>55548</td><td>0</td><td>0440193613</td><td>1088.0</td><td>184.0</td><td>0.6606693</td></tr><tr><td>69405</td><td>8</td><td>0440193613</td><td>1088.0</td><td>700.0</td><td>0.6065644</td></tr><tr><td>254465</td><td>10</td><td>0440193613</td><td>1088.0</td><td>67.0</td><td>1.2296282</td></tr><tr><td>178726</td><td>3</td><td>0440193613</td><td>1088.0</td><td>34415.0</td><td>1.6336747</td></tr><tr><td>182506</td><td>0</td><td>0440193613</td><td>1088.0</td><td>1526.0</td><td>0.8849966</td></tr><tr><td>62272</td><td>9</td><td>0440193613</td><td>1088.0</td><td>562.0</td><td>0.73554265</td></tr><tr><td>11676</td><td>8</td><td>0440193613</td><td>1088.0</td><td>0.0</td><td>2.8121564</td></tr><tr><td>151143</td><td>0</td><td>0440193613</td><td>1088.0</td><td>2859.0</td><td>0.5567345</td></tr><tr><td>57006</td><td>0</td><td>0440193613</td><td>1088.0</td><td>934.0</td><td>0.70188594</td></tr><tr><td>147847</td><td>5</td><td>0440193613</td><td>1088.0</td><td>104.0</td><td>0.9844482</td></tr><tr><td>163676</td><td>0</td><td>0440193613</td><td>1088.0</td><td>3444.0</td><td>1.6241547</td></tr><tr><td>101873</td><td>5</td><td>0515134384</td><td>1238.0</td><td>56661.0</td><td>3.6471891</td></tr><tr><td>35050</td><td>0</td><td>0515134384</td><td>1238.0</td><td>78.0</td><td>0.09008279</td></tr><tr><td>106845</td><td>7</td><td>0515134384</td><td>1238.0</td><td>4697.0</td><td>3.0706232</td></tr><tr><td>250903</td><td>0</td><td>0515134384</td><td>1238.0</td><td>66199.0</td><td>0.0</td></tr><tr><td>61619</td><td>0</td><td>0515134384</td><td>1238.0</td><td>210.0</td><td>0.1617928</td></tr><tr><td>150896</td><td>0</td><td>0515134384</td><td>1238.0</td><td>1276.0</td><td>2.7394204</td></tr><tr><td>135149</td><td>7</td><td>0515134384</td><td>1238.0</td><td>27.0</td><td>1.7381173</td></tr><tr><td>267635</td><td>8</td><td>0515134384</td><td>1238.0</td><td>743.0</td><td>2.5786955</td></tr><tr><td>52159</td><td>7</td><td>0515134384</td><td>1238.0</td><td>3669.0</td><td>2.4180725</td></tr><tr><td>207616</td><td>4</td><td>0515134384</td><td>1238.0</td><td>2371.0</td><td>3.9957216</td></tr><tr><td>136382</td><td>8</td><td>0515134384</td><td>1238.0</td><td>329.0</td><td>1.7146584</td></tr><tr><td>37311</td><td>0</td><td>0515134384</td><td>1238.0</td><td>3196.0</td><td>2.236568</td></tr><tr><td>58594</td><td>9</td><td>0515134384</td><td>1238.0</td><td>1961.0</td><td>3.7449617</td></tr><tr><td>37584</td><td>0</td><td>0515134384</td><td>1238.0</td><td>10683.0</td><td>2.620939</td></tr><tr><td>269719</td><td>0</td><td>0515134384</td><td>1238.0</td><td>346.0</td><td>0.34672287</td></tr><tr><td>125133</td><td>0</td><td>0515134384</td><td>1238.0</td><td>8646.0</td><td>1.5944242</td></tr><tr><td>2136</td><td>8</td><td>0515134384</td><td>1238.0</td><td>12667.0</td><td>2.2829893</td></tr><tr><td>87746</td><td>0</td><td>0515134384</td><td>1238.0</td><td>146.0</td><td>0.020200934</td></tr><tr><td>277945</td><td>7</td><td>0515134384</td><td>1238.0</td><td>6457.0</td><td>3.632397</td></tr><tr><td>218240</td><td>0</td><td>0515134384</td><td>1238.0</td><td>6563.0</td><td>2.1997523</td></tr><tr><td>38023</td><td>0</td><td>0515134384</td><td>1238.0</td><td>178.0</td><td>1.6044637</td></tr><tr><td>227447</td><td>0</td><td>0515134384</td><td>1238.0</td><td>20.0</td><td>0.7099365</td></tr><tr><td>254481</td><td>0</td><td>0515134384</td><td>1238.0</td><td>3863.0</td><td>1.0286296E-6</td></tr><tr><td>194027</td><td>0</td><td>0515134384</td><td>1238.0</td><td>5246.0</td><td>2.2407598</td></tr><tr><td>119168</td><td>0</td><td>0515134384</td><td>1238.0</td><td>8718.0</td><td>2.5052264</td></tr><tr><td>168581</td><td>0</td><td>0515134384</td><td>1238.0</td><td>23653.0</td><td>2.7683883</td></tr><tr><td>93565</td><td>6</td><td>0515134384</td><td>1238.0</td><td>2153.0</td><td>4.6437864</td></tr><tr><td>151101</td><td>0</td><td>0515134384</td><td>1238.0</td><td>3674.0</td><td>2.7514522</td></tr><tr><td>210792</td><td>0</td><td>0515134384</td><td>1238.0</td><td>358.0</td><td>0.0</td></tr><tr><td>110483</td><td>7</td><td>0515134384</td><td>1238.0</td><td>383.0</td><td>3.2105856</td></tr><tr><td>108786</td><td>7</td><td>0515134384</td><td>1238.0</td><td>19506.0</td><td>3.759953</td></tr><tr><td>55492</td><td>0</td><td>0515134384</td><td>1238.0</td><td>17.0</td><td>0.37298113</td></tr><tr><td>132035</td><td>0</td><td>0515134384</td><td>1238.0</td><td>75836.0</td><td>0.0</td></tr><tr><td>269566</td><td>0</td><td>0515134384</td><td>1238.0</td><td>35.0</td><td>0.81888604</td></tr><tr><td>67034</td><td>0</td><td>0515134384</td><td>1238.0</td><td>1815.0</td><td>0.19204536</td></tr><tr><td>247429</td><td>0</td><td>0515134384</td><td>1238.0</td><td>437.0</td><td>2.6267314</td></tr><tr><td>35859</td><td>0</td><td>0515134384</td><td>1238.0</td><td>4.0</td><td>0.62229425</td></tr><tr><td>189516</td><td>0</td><td>0515134384</td><td>1238.0</td><td>445.0</td><td>1.0658568</td></tr><tr><td>2110</td><td>5</td><td>0515134384</td><td>1238.0</td><td>1022.0</td><td>2.7783878</td></tr><tr><td>11724</td><td>8</td><td>0515134384</td><td>1238.0</td><td>1432.0</td><td>2.097809</td></tr><tr><td>91342</td><td>0</td><td>0515134384</td><td>1238.0</td><td>720.0</td><td>1.5700433</td></tr><tr><td>81045</td><td>0</td><td>0515134384</td><td>1238.0</td><td>691.0</td><td>0.43986905</td></tr><tr><td>131032</td><td>7</td><td>0515134384</td><td>1238.0</td><td>2083.0</td><td>2.8483875</td></tr><tr><td>45102</td><td>10</td><td>0515134384</td><td>1238.0</td><td>54369.0</td><td>7.2943783</td></tr><tr><td>25930</td><td>0</td><td>0515134384</td><td>1238.0</td><td>4581.0</td><td>2.6344638</td></tr><tr><td>159868</td><td>8</td><td>0515134384</td><td>1238.0</td><td>4997.0</td><td>5.301404</td></tr><tr><td>225087</td><td>0</td><td>0515134384</td><td>1238.0</td><td>97.0</td><td>1.6925098</td></tr><tr><td>259625</td><td>0</td><td>0515134384</td><td>1238.0</td><td>1006.0</td><td>0.6790936</td></tr><tr><td>151654</td><td>7</td><td>0515134384</td><td>1238.0</td><td>17009.0</td><td>3.5260513</td></tr><tr><td>79939</td><td>10</td><td>0515134384</td><td>1238.0</td><td>17292.0</td><td>2.4757771</td></tr><tr><td>41781</td><td>0</td><td>0515134384</td><td>1238.0</td><td>1110.0</td><td>1.7253091</td></tr><tr><td>236283</td><td>0</td><td>0515134384</td><td>1238.0</td><td>73.0</td><td>1.4077346</td></tr><tr><td>23364</td><td>5</td><td>0515134384</td><td>1238.0</td><td>16044.0</td><td>2.919183</td></tr><tr><td>241646</td><td>8</td><td>0515134384</td><td>1238.0</td><td>17364.0</td><td>4.635378</td></tr><tr><td>145330</td><td>7</td><td>0515134384</td><td>1238.0</td><td>15887.0</td><td>2.653505</td></tr><tr><td>266726</td><td>0</td><td>0515134384</td><td>1238.0</td><td>59057.0</td><td>0.0</td></tr><tr><td>166596</td><td>0</td><td>0515134384</td><td>1238.0</td><td>75.0</td><td>0.70654625</td></tr><tr><td>45369</td><td>5</td><td>0515134384</td><td>1238.0</td><td>33511.0</td><td>3.6921947</td></tr><tr><td>88793</td><td>0</td><td>0515134384</td><td>1238.0</td><td>837.0</td><td>2.4677916</td></tr><tr><td>265115</td><td>9</td><td>0515134384</td><td>1238.0</td><td>83.0</td><td>1.3050427</td></tr><tr><td>242106</td><td>0</td><td>0515134384</td><td>1238.0</td><td>260.0</td><td>1.4287767</td></tr><tr><td>159033</td><td>7</td><td>0515134384</td><td>1238.0</td><td>135.0</td><td>0.75492984</td></tr><tr><td>225763</td><td>0</td><td>0515134384</td><td>1238.0</td><td>149.0</td><td>1.0933642</td></tr><tr><td>184562</td><td>0</td><td>0515134384</td><td>1238.0</td><td>8343.0</td><td>3.229278</td></tr><tr><td>135961</td><td>0</td><td>0515134384</td><td>1238.0</td><td>21962.0</td><td>1.3314843</td></tr><tr><td>202277</td><td>6</td><td>0515134384</td><td>1238.0</td><td>942.0</td><td>1.6857406</td></tr><tr><td>2793</td><td>0</td><td>0515134384</td><td>1238.0</td><td>3371.0</td><td>1.0158014</td></tr><tr><td>129790</td><td>2</td><td>0515134384</td><td>1238.0</td><td>19891.0</td><td>2.1166904</td></tr><tr><td>266753</td><td>0</td><td>0515134384</td><td>1238.0</td><td>681.0</td><td>1.0965971</td></tr><tr><td>11676</td><td>8</td><td>0515134384</td><td>1238.0</td><td>0.0</td><td>3.236868</td></tr><tr><td>180032</td><td>0</td><td>0515134384</td><td>1238.0</td><td>947.0</td><td>0.95172775</td></tr><tr><td>38718</td><td>0</td><td>0515134384</td><td>1238.0</td><td>3870.0</td><td>1.9096892</td></tr><tr><td>50895</td><td>6</td><td>0446609617</td><td>1342.0</td><td>1342.0</td><td>2.5840986</td></tr><tr><td>176102</td><td>8</td><td>0446609617</td><td>1342.0</td><td>10206.0</td><td>4.2367663</td></tr><tr><td>49154</td><td>0</td><td>0446609617</td><td>1342.0</td><td>1483.0</td><td>0.97456086</td></tr><tr><td>103304</td><td>8</td><td>0446609617</td><td>1342.0</td><td>1160.0</td><td>0.8112297</td></tr><tr><td>51834</td><td>0</td><td>0446609617</td><td>1342.0</td><td>30148.0</td><td>0.0</td></tr><tr><td>131098</td><td>0</td><td>0446609617</td><td>1342.0</td><td>21683.0</td><td>2.2480042</td></tr><tr><td>32122</td><td>0</td><td>0446609617</td><td>1342.0</td><td>1051.0</td><td>0.99130183</td></tr><tr><td>254863</td><td>8</td><td>0446609617</td><td>1342.0</td><td>7634.0</td><td>4.4372487</td></tr><tr><td>242361</td><td>0</td><td>0446609617</td><td>1342.0</td><td>914.0</td><td>0.594442</td></tr><tr><td>234623</td><td>0</td><td>0446609617</td><td>1342.0</td><td>12.0</td><td>0.12401743</td></tr><tr><td>112815</td><td>7</td><td>0446609617</td><td>1342.0</td><td>21326.0</td><td>1.5165126</td></tr><tr><td>93630</td><td>8</td><td>0446609617</td><td>1342.0</td><td>16580.0</td><td>5.731266</td></tr><tr><td>108285</td><td>0</td><td>0446609617</td><td>1342.0</td><td>333.0</td><td>1.1293721</td></tr><tr><td>231241</td><td>10</td><td>0446609617</td><td>1342.0</td><td>6616.0</td><td>4.310371</td></tr><tr><td>71634</td><td>0</td><td>0446609617</td><td>1342.0</td><td>7446.0</td><td>0.0</td></tr><tr><td>10314</td><td>0</td><td>0446609617</td><td>1342.0</td><td>995.0</td><td>2.2567632</td></tr><tr><td>269719</td><td>0</td><td>0446609617</td><td>1342.0</td><td>346.0</td><td>0.35289428</td></tr><tr><td>252695</td><td>7</td><td>0446609617</td><td>1342.0</td><td>111.0</td><td>1.5915012</td></tr><tr><td>88677</td><td>0</td><td>0446609617</td><td>1342.0</td><td>416.0</td><td>3.1241825</td></tr><tr><td>31471</td><td>0</td><td>0446609617</td><td>1342.0</td><td>5354.0</td><td>2.8147218</td></tr><tr><td>84191</td><td>0</td><td>0446609617</td><td>1342.0</td><td>6362.0</td><td>1.2978607</td></tr><tr><td>59763</td><td>0</td><td>0446609617</td><td>1342.0</td><td>8176.0</td><td>2.6077313</td></tr><tr><td>85455</td><td>9</td><td>0446609617</td><td>1342.0</td><td>5122.0</td><td>1.2997437</td></tr><tr><td>278418</td><td>0</td><td>0446609617</td><td>1342.0</td><td>6.0</td><td>0.1421311</td></tr><tr><td>185233</td><td>0</td><td>0446609617</td><td>1342.0</td><td>16.0</td><td>0.93626595</td></tr><tr><td>144531</td><td>0</td><td>0446609617</td><td>1342.0</td><td>205.0</td><td>1.0544847</td></tr><tr><td>227447</td><td>0</td><td>0446609617</td><td>1342.0</td><td>20.0</td><td>0.65524983</td></tr><tr><td>206695</td><td>0</td><td>0446609617</td><td>1342.0</td><td>1665.0</td><td>1.5904919</td></tr><tr><td>84024</td><td>5</td><td>0446609617</td><td>1342.0</td><td>397.0</td><td>0.9996777</td></tr><tr><td>182085</td><td>0</td><td>0446609617</td><td>1342.0</td><td>43.0</td><td>2.4089947</td></tr><tr><td>33974</td><td>0</td><td>0446609617</td><td>1342.0</td><td>189.0</td><td>0.8153736</td></tr><tr><td>122793</td><td>0</td><td>0446609617</td><td>1342.0</td><td>462.0</td><td>2.480418</td></tr><tr><td>196077</td><td>0</td><td>0446609617</td><td>1342.0</td><td>72.0</td><td>0.8498574</td></tr><tr><td>65382</td><td>0</td><td>0446609617</td><td>1342.0</td><td>9756.0</td><td>0.46082455</td></tr><tr><td>87141</td><td>0</td><td>0446609617</td><td>1342.0</td><td>55.0</td><td>1.7138695</td></tr><tr><td>119575</td><td>8</td><td>0446609617</td><td>1342.0</td><td>449.0</td><td>1.2648047</td></tr><tr><td>76352</td><td>0</td><td>0446609617</td><td>1342.0</td><td>7.0</td><td>0.124914266</td></tr><tr><td>23680</td><td>9</td><td>0446609617</td><td>1342.0</td><td>1494.0</td><td>1.8298515</td></tr><tr><td>92405</td><td>6</td><td>0446609617</td><td>1342.0</td><td>1498.0</td><td>2.7547524</td></tr><tr><td>40943</td><td>0</td><td>0446609617</td><td>1342.0</td><td>84.0</td><td>1.05115</td></tr><tr><td>158295</td><td>0</td><td>0446609617</td><td>1342.0</td><td>87.0</td><td>2.5610147</td></tr><tr><td>138802</td><td>7</td><td>0446609617</td><td>1342.0</td><td>26987.0</td><td>2.863972</td></tr><tr><td>79186</td><td>0</td><td>0446609617</td><td>1342.0</td><td>293.0</td><td>0.35810062</td></tr><tr><td>11601</td><td>0</td><td>0446609617</td><td>1342.0</td><td>45.0</td><td>0.35840097</td></tr><tr><td>78973</td><td>7</td><td>0446609617</td><td>1342.0</td><td>216.0</td><td>3.9356139</td></tr><tr><td>273979</td><td>0</td><td>0446609617</td><td>1342.0</td><td>427.0</td><td>0.89264613</td></tr><tr><td>225595</td><td>10</td><td>0446609617</td><td>1342.0</td><td>818.0</td><td>4.8549504</td></tr><tr><td>62193</td><td>0</td><td>0446609617</td><td>1342.0</td><td>3906.0</td><td>0.6756273</td></tr><tr><td>102967</td><td>0</td><td>0446609617</td><td>1342.0</td><td>21.0</td><td>0.2876834</td></tr><tr><td>34502</td><td>0</td><td>0446609617</td><td>1342.0</td><td>12563.0</td><td>2.1002574</td></tr><tr><td>145619</td><td>0</td><td>0446609617</td><td>1342.0</td><td>256.0</td><td>0.5363247</td></tr><tr><td>19711</td><td>6</td><td>0446609617</td><td>1342.0</td><td>990.0</td><td>2.3840754</td></tr><tr><td>52614</td><td>0</td><td>0446609617</td><td>1342.0</td><td>90.0</td><td>1.4480605</td></tr><tr><td>145451</td><td>0</td><td>0446609617</td><td>1342.0</td><td>265.0</td><td>0.10487746</td></tr><tr><td>161752</td><td>0</td><td>0446609617</td><td>1342.0</td><td>414.0</td><td>0.30216065</td></tr><tr><td>182086</td><td>10</td><td>0446609617</td><td>1342.0</td><td>426.0</td><td>3.8136492</td></tr><tr><td>188038</td><td>8</td><td>0446609617</td><td>1342.0</td><td>6451.0</td><td>4.194599</td></tr><tr><td>230522</td><td>0</td><td>0446609617</td><td>1342.0</td><td>11.0</td><td>0.908953</td></tr><tr><td>73394</td><td>0</td><td>0446609617</td><td>1342.0</td><td>33.0</td><td>0.10875458</td></tr><tr><td>262407</td><td>7</td><td>0446609617</td><td>1342.0</td><td>4213.0</td><td>2.1365986</td></tr><tr><td>190844</td><td>0</td><td>0446609617</td><td>1342.0</td><td>1958.0</td><td>2.0107105</td></tr><tr><td>247752</td><td>0</td><td>0446609617</td><td>1342.0</td><td>522.0</td><td>1.1393163</td></tr><tr><td>36606</td><td>0</td><td>0446609617</td><td>1342.0</td><td>42.0</td><td>0.7805048</td></tr><tr><td>37493</td><td>0</td><td>0446609617</td><td>1342.0</td><td>1702.0</td><td>0.897566</td></tr><tr><td>102275</td><td>9</td><td>0446609617</td><td>1342.0</td><td>682.0</td><td>1.6794534</td></tr><tr><td>154469</td><td>6</td><td>0446609617</td><td>1342.0</td><td>1429.0</td><td>3.6554523</td></tr><tr><td>11676</td><td>0</td><td>0446609617</td><td>1342.0</td><td>0.0</td><td>3.3984141</td></tr><tr><td>163373</td><td>0</td><td>0446609617</td><td>1342.0</td><td>69501.0</td><td>0.0</td></tr><tr><td>104636</td><td>0</td><td>0440944597</td><td>1580.0</td><td>148.0</td><td>2.2750401</td></tr><tr><td>231210</td><td>0</td><td>0440944597</td><td>1580.0</td><td>28.0</td><td>0.5365132</td></tr><tr><td>255101</td><td>0</td><td>0440944597</td><td>1580.0</td><td>71483.0</td><td>0.0</td></tr><tr><td>125039</td><td>0</td><td>0440944597</td><td>1580.0</td><td>253.0</td><td>0.6310858</td></tr><tr><td>218344</td><td>0</td><td>0440944597</td><td>1580.0</td><td>2675.0</td><td>0.91619563</td></tr><tr><td>225041</td><td>0</td><td>0440944597</td><td>1580.0</td><td>24540.0</td><td>1.3207887</td></tr><tr><td>254068</td><td>0</td><td>0440944597</td><td>1580.0</td><td>15339.0</td><td>1.0596147</td></tr><tr><td>87746</td><td>0</td><td>0440944597</td><td>1580.0</td><td>146.0</td><td>0.014810273</td></tr><tr><td>81298</td><td>5</td><td>0440944597</td><td>1580.0</td><td>1922.0</td><td>1.4151156</td></tr><tr><td>204864</td><td>0</td><td>0440944597</td><td>1580.0</td><td>13.0</td><td>0.9901447</td></tr><tr><td>245410</td><td>0</td><td>0440944597</td><td>1580.0</td><td>572.0</td><td>2.5235593</td></tr><tr><td>107258</td><td>0</td><td>0440944597</td><td>1580.0</td><td>4738.0</td><td>3.2253022</td></tr><tr><td>94865</td><td>0</td><td>0440944597</td><td>1580.0</td><td>4645.0</td><td>1.1913729</td></tr><tr><td>136010</td><td>0</td><td>0440944597</td><td>1580.0</td><td>359.0</td><td>1.1956791</td></tr><tr><td>16634</td><td>0</td><td>0440944597</td><td>1580.0</td><td>94.0</td><td>1.3254057</td></tr><tr><td>127429</td><td>0</td><td>0440944597</td><td>1580.0</td><td>57.0</td><td>3.43243E-8</td></tr><tr><td>208568</td><td>6</td><td>0440944597</td><td>1580.0</td><td>634.0</td><td>0.31505772</td></tr><tr><td>210485</td><td>0</td><td>0440944597</td><td>1580.0</td><td>235.0</td><td>1.5761007</td></tr><tr><td>112881</td><td>0</td><td>0440944597</td><td>1580.0</td><td>268.0</td><td>0.22677532</td></tr><tr><td>143157</td><td>8</td><td>0440944597</td><td>1580.0</td><td>84839.0</td><td>5.340852</td></tr><tr><td>274308</td><td>0</td><td>0440944597</td><td>1580.0</td><td>64.0</td><td>0.24469385</td></tr><tr><td>268603</td><td>9</td><td>0440944597</td><td>1580.0</td><td>10426.0</td><td>2.8340278</td></tr><tr><td>245109</td><td>6</td><td>0440944597</td><td>1580.0</td><td>57457.0</td><td>4.0056386</td></tr><tr><td>225686</td><td>6</td><td>0440944597</td><td>1580.0</td><td>3320.0</td><td>2.2661927</td></tr><tr><td>103007</td><td>0</td><td>0440944597</td><td>1580.0</td><td>25166.0</td><td>0.0</td></tr><tr><td>154137</td><td>0</td><td>0440944597</td><td>1580.0</td><td>2589.0</td><td>0.52897704</td></tr><tr><td>75251</td><td>0</td><td>0440944597</td><td>1580.0</td><td>8075.0</td><td>0.7218972</td></tr><tr><td>268110</td><td>2</td><td>0440944597</td><td>1580.0</td><td>310.0</td><td>1.6189885</td></tr><tr><td>184299</td><td>7</td><td>0440944597</td><td>1580.0</td><td>59.0</td><td>0.7900729</td></tr><tr><td>98741</td><td>0</td><td>0440944597</td><td>1580.0</td><td>23.0</td><td>0.09118374</td></tr><tr><td>76352</td><td>0</td><td>0440944597</td><td>1580.0</td><td>7.0</td><td>0.078946106</td></tr><tr><td>70541</td><td>0</td><td>0440944597</td><td>1580.0</td><td>2674.0</td><td>2.05532</td></tr><tr><td>238699</td><td>0</td><td>0440944597</td><td>1580.0</td><td>532.0</td><td>1.3478202</td></tr><tr><td>6251</td><td>0</td><td>0440944597</td><td>1580.0</td><td>129.0</td><td>1.0818591</td></tr><tr><td>127359</td><td>0</td><td>0440944597</td><td>1580.0</td><td>166.0</td><td>1.0175009</td></tr><tr><td>259006</td><td>7</td><td>0440944597</td><td>1580.0</td><td>3682.0</td><td>3.543312</td></tr><tr><td>234240</td><td>9</td><td>0440944597</td><td>1580.0</td><td>31219.0</td><td>4.8262258</td></tr><tr><td>188498</td><td>0</td><td>0440944597</td><td>1580.0</td><td>57896.0</td><td>0.0</td></tr><tr><td>60244</td><td>0</td><td>0440944597</td><td>1580.0</td><td>25.0</td><td>0.6454807</td></tr><tr><td>126726</td><td>0</td><td>0440944597</td><td>1580.0</td><td>1923.0</td><td>0.8974156</td></tr><tr><td>274823</td><td>0</td><td>0440944597</td><td>1580.0</td><td>5207.0</td><td>1.3005577</td></tr><tr><td>152398</td><td>7</td><td>0440944597</td><td>1580.0</td><td>25986.0</td><td>4.2020507</td></tr><tr><td>92696</td><td>0</td><td>0440944597</td><td>1580.0</td><td>3713.0</td><td>1.0462644</td></tr><tr><td>167389</td><td>8</td><td>0440944597</td><td>1580.0</td><td>10118.0</td><td>3.85459</td></tr><tr><td>100846</td><td>0</td><td>0440944597</td><td>1580.0</td><td>382.0</td><td>1.2091088</td></tr><tr><td>154730</td><td>5</td><td>0440944597</td><td>1580.0</td><td>1906.0</td><td>0.7774948</td></tr><tr><td>8937</td><td>10</td><td>0440944597</td><td>1580.0</td><td>3788.0</td><td>3.3840992</td></tr><tr><td>263344</td><td>0</td><td>0440944597</td><td>1580.0</td><td>1579.0</td><td>0.88636047</td></tr><tr><td>205980</td><td>0</td><td>0440944597</td><td>1580.0</td><td>751.0</td><td>0.79967034</td></tr><tr><td>94334</td><td>0</td><td>0440944597</td><td>1580.0</td><td>4540.0</td><td>1.0454904</td></tr><tr><td>274808</td><td>0</td><td>0440944597</td><td>1580.0</td><td>825.0</td><td>1.3862054</td></tr><tr><td>263383</td><td>0</td><td>0440944597</td><td>1580.0</td><td>2486.0</td><td>0.7907047</td></tr><tr><td>57223</td><td>7</td><td>0440944597</td><td>1580.0</td><td>39272.0</td><td>2.7686646</td></tr><tr><td>152249</td><td>0</td><td>0440944597</td><td>1580.0</td><td>344.0</td><td>0.013818861</td></tr><tr><td>81492</td><td>0</td><td>0440944597</td><td>1580.0</td><td>158.0</td><td>1.0674523</td></tr><tr><td>257822</td><td>0</td><td>0440944597</td><td>1580.0</td><td>33713.0</td><td>0.0</td></tr><tr><td>26616</td><td>0</td><td>0440944597</td><td>1580.0</td><td>7167.0</td><td>1.2759746</td></tr><tr><td>15408</td><td>0</td><td>0440944597</td><td>1580.0</td><td>153.0</td><td>0.26338136</td></tr><tr><td>11676</td><td>8</td><td>0440944597</td><td>1580.0</td><td>0.0</td><td>2.6198735</td></tr><tr><td>211344</td><td>7</td><td>0440944597</td><td>1580.0</td><td>927.0</td><td>1.5854702</td></tr><tr><td>162340</td><td>0</td><td>0440944597</td><td>1580.0</td><td>81067.0</td><td>0.0</td></tr><tr><td>222621</td><td>7</td><td>3442541751</td><td>1591.0</td><td>5513.0</td><td>2.9621174</td></tr><tr><td>221307</td><td>0</td><td>3442541751</td><td>1591.0</td><td>12249.0</td><td>1.5398167</td></tr><tr><td>275982</td><td>5</td><td>3442541751</td><td>1591.0</td><td>43401.0</td><td>4.1173964</td></tr><tr><td>51974</td><td>8</td><td>3442541751</td><td>1591.0</td><td>4713.0</td><td>0.9441091</td></tr><tr><td>182048</td><td>5</td><td>3442541751</td><td>1591.0</td><td>26091.0</td><td>4.007415</td></tr><tr><td>154309</td><td>9</td><td>3442541751</td><td>1591.0</td><td>40061.0</td><td>6.7352805</td></tr><tr><td>41227</td><td>10</td><td>3442541751</td><td>1591.0</td><td>1500.0</td><td>2.5385606</td></tr><tr><td>69893</td><td>0</td><td>3442541751</td><td>1591.0</td><td>16012.0</td><td>0.95164245</td></tr><tr><td>2760</td><td>0</td><td>3442541751</td><td>1591.0</td><td>14062.0</td><td>0.0</td></tr><tr><td>100302</td><td>9</td><td>3442541751</td><td>1591.0</td><td>63743.0</td><td>7.411313</td></tr><tr><td>205175</td><td>0</td><td>3442541751</td><td>1591.0</td><td>64138.0</td><td>0.0</td></tr><tr><td>178107</td><td>8</td><td>3442541751</td><td>1591.0</td><td>20041.0</td><td>6.055767</td></tr><tr><td>218197</td><td>6</td><td>3442541751</td><td>1591.0</td><td>2726.0</td><td>1.4728134</td></tr></tbody></table></div>"
      ]
     },
     "metadata": {},
     "output_type": "display_data"
    }
   ],
   "source": [
    "sparkTransformed = full_model.transform(transformed)\n",
    "display(sparkTransformed)"
   ]
  },
  {
   "cell_type": "markdown",
   "metadata": {},
   "source": [
    "Save model trained on whole data"
   ]
  },
  {
   "cell_type": "code",
   "execution_count": 52,
   "metadata": {},
   "outputs": [
    {
     "data": {
      "text/html": [
       "<style scoped>\n",
       "  .ansiout {\n",
       "    display: block;\n",
       "    unicode-bidi: embed;\n",
       "    white-space: pre-wrap;\n",
       "    word-wrap: break-word;\n",
       "    word-break: break-all;\n",
       "    font-family: \"Source Code Pro\", \"Menlo\", monospace;;\n",
       "    font-size: 13px;\n",
       "    color: #555;\n",
       "    margin-left: 4px;\n",
       "    line-height: 19px;\n",
       "  }\n",
       "</style>\n",
       "<div class=\"ansiout\"></div>"
      ]
     },
     "metadata": {},
     "output_type": "display_data"
    }
   ],
   "source": [
    "model_path = \"/FileStore/models/recomm\""
   ]
  },
  {
   "cell_type": "code",
   "execution_count": 53,
   "metadata": {},
   "outputs": [
    {
     "data": {
      "text/html": [
       "<style scoped>\n",
       "  .ansiout {\n",
       "    display: block;\n",
       "    unicode-bidi: embed;\n",
       "    white-space: pre-wrap;\n",
       "    word-wrap: break-word;\n",
       "    word-break: break-all;\n",
       "    font-family: \"Source Code Pro\", \"Menlo\", monospace;;\n",
       "    font-size: 13px;\n",
       "    color: #555;\n",
       "    margin-left: 4px;\n",
       "    line-height: 19px;\n",
       "  }\n",
       "</style>\n",
       "<div class=\"ansiout\"></div>"
      ]
     },
     "metadata": {},
     "output_type": "display_data"
    }
   ],
   "source": [
    "full_model.save(model_path)"
   ]
  },
  {
   "cell_type": "markdown",
   "metadata": {},
   "source": [
    "Load model and test it"
   ]
  },
  {
   "cell_type": "code",
   "execution_count": 55,
   "metadata": {},
   "outputs": [
    {
     "data": {
      "text/html": [
       "<style scoped>\n",
       "  .ansiout {\n",
       "    display: block;\n",
       "    unicode-bidi: embed;\n",
       "    white-space: pre-wrap;\n",
       "    word-wrap: break-word;\n",
       "    word-break: break-all;\n",
       "    font-family: \"Source Code Pro\", \"Menlo\", monospace;;\n",
       "    font-size: 13px;\n",
       "    color: #555;\n",
       "    margin-left: 4px;\n",
       "    line-height: 19px;\n",
       "  }\n",
       "</style>\n",
       "<div class=\"ansiout\"></div>"
      ]
     },
     "metadata": {},
     "output_type": "display_data"
    }
   ],
   "source": [
    "from pyspark.ml.recommendation import ALSModel"
   ]
  },
  {
   "cell_type": "code",
   "execution_count": 56,
   "metadata": {},
   "outputs": [
    {
     "data": {
      "text/html": [
       "<style scoped>\n",
       "  .ansiout {\n",
       "    display: block;\n",
       "    unicode-bidi: embed;\n",
       "    white-space: pre-wrap;\n",
       "    word-wrap: break-word;\n",
       "    word-break: break-all;\n",
       "    font-family: \"Source Code Pro\", \"Menlo\", monospace;;\n",
       "    font-size: 13px;\n",
       "    color: #555;\n",
       "    margin-left: 4px;\n",
       "    line-height: 19px;\n",
       "  }\n",
       "</style>\n",
       "<div class=\"ansiout\"></div>"
      ]
     },
     "metadata": {},
     "output_type": "display_data"
    }
   ],
   "source": [
    "test_model = ALSModel.load(model_path)"
   ]
  },
  {
   "cell_type": "code",
   "execution_count": 57,
   "metadata": {},
   "outputs": [
    {
     "data": {
      "text/html": [
       "<style scoped>\n",
       "  .ansiout {\n",
       "    display: block;\n",
       "    unicode-bidi: embed;\n",
       "    white-space: pre-wrap;\n",
       "    word-wrap: break-word;\n",
       "    word-break: break-all;\n",
       "    font-family: \"Source Code Pro\", \"Menlo\", monospace;;\n",
       "    font-size: 13px;\n",
       "    color: #555;\n",
       "    margin-left: 4px;\n",
       "    line-height: 19px;\n",
       "  }\n",
       "</style>\n",
       "<div class=\"ansiout\">+-------+-----------+----------+----------+-------------+\n",
       "User-ID|Book-Rating|      ISBN|ISBN_index|User-ID_index|\n",
       "+-------+-----------+----------+----------+-------------+\n",
       " 100010|          0|0345396936|     943.0|      10626.0|\n",
       " 100010|          0|0671009826|   27882.0|      10626.0|\n",
       " 100227|          0|0330375253|     736.0|       3533.0|\n",
       " 100227|          0|0446690155|    7547.0|       3533.0|\n",
       " 100227|          0|0671041649|   13939.0|       3533.0|\n",
       "+-------+-----------+----------+----------+-------------+\n",
       "only showing top 5 rows\n",
       "\n",
       "</div>"
      ]
     },
     "metadata": {},
     "output_type": "display_data"
    }
   ],
   "source": [
    "test_df.show(n=5)"
   ]
  },
  {
   "cell_type": "code",
   "execution_count": 58,
   "metadata": {},
   "outputs": [
    {
     "data": {
      "text/html": [
       "<style scoped>\n",
       "  .ansiout {\n",
       "    display: block;\n",
       "    unicode-bidi: embed;\n",
       "    white-space: pre-wrap;\n",
       "    word-wrap: break-word;\n",
       "    word-break: break-all;\n",
       "    font-family: \"Source Code Pro\", \"Menlo\", monospace;;\n",
       "    font-size: 13px;\n",
       "    color: #555;\n",
       "    margin-left: 4px;\n",
       "    line-height: 19px;\n",
       "  }\n",
       "</style>\n",
       "<div class=\"ansiout\">+-------+-----------+----------+----------+-------------+----------+\n",
       "User-ID|Book-Rating|      ISBN|ISBN_index|User-ID_index|prediction|\n",
       "+-------+-----------+----------+----------+-------------+----------+\n",
       " 100010|          0|0345396936|     943.0|      10626.0|       0.0|\n",
       " 100010|          0|0671009826|   27882.0|      10626.0|       0.0|\n",
       " 100227|          0|0330375253|     736.0|       3533.0| 3.4315324|\n",
       " 100227|          0|0446690155|    7547.0|       3533.0| 2.1743348|\n",
       " 100227|          0|0671041649|   13939.0|       3533.0| 2.0033782|\n",
       " 100227|          0|0689864353|   19915.0|       3533.0| 1.8365471|\n",
       " 100227|          0|0765303817|    6470.0|       3533.0|  3.099917|\n",
       " 100227|          6|0684848961|    5611.0|       3533.0| 3.5279515|\n",
       " 100227|          7|0385484518|      40.0|       3533.0|  4.722952|\n",
       " 100553|          0|0061000027|    1568.0|      55733.0|       0.0|\n",
       "+-------+-----------+----------+----------+-------------+----------+\n",
       "only showing top 10 rows\n",
       "\n",
       "</div>"
      ]
     },
     "metadata": {},
     "output_type": "display_data"
    }
   ],
   "source": [
    "test_results = test_model.transform(test_df)\n",
    "test_results.show(n=10)"
   ]
  },
  {
   "cell_type": "code",
   "execution_count": 59,
   "metadata": {},
   "outputs": [],
   "source": [
    "# Generate top 10 user recommendations for each book\n",
    "#book_recs = model.recommendForAllItems(10)\n",
    "#book_recs.show()"
   ]
  }
 ],
 "metadata": {
  "kernelspec": {
   "display_name": "Python 3",
   "language": "python",
   "name": "python3"
  },
  "language_info": {
   "codemirror_mode": {
    "name": "ipython",
    "version": 3
   },
   "file_extension": ".py",
   "mimetype": "text/x-python",
   "name": "python",
   "nbconvert_exporter": "python",
   "pygments_lexer": "ipython3",
   "version": "3.7.3"
  },
  "name": "tutorial_recom",
  "notebookId": 565720644529686
 },
 "nbformat": 4,
 "nbformat_minor": 1
}
